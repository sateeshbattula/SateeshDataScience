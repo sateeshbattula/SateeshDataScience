{
 "cells": [
  {
   "cell_type": "code",
   "execution_count": 1,
   "metadata": {},
   "outputs": [],
   "source": [
    "%matplotlib inline\n",
    "\n",
    "import sqlite3\n",
    "import pandas as pd\n",
    "import numpy as np\n",
    "import nltk\n",
    "import string\n",
    "import matplotlib.pyplot as plt\n",
    "import seaborn as sns\n",
    "from sklearn.feature_extraction.text import TfidfTransformer\n",
    "from sklearn.feature_extraction.text import TfidfVectorizer\n",
    "\n",
    "from sklearn.feature_extraction.text import CountVectorizer\n",
    "from sklearn.metrics import confusion_matrix\n",
    "from sklearn import metrics\n",
    "from sklearn.metrics import roc_curve, auc\n",
    "from nltk.stem.porter import PorterStemmer"
   ]
  },
  {
   "cell_type": "code",
   "execution_count": 2,
   "metadata": {},
   "outputs": [
    {
     "name": "stdout",
     "output_type": "stream",
     "text": [
      "Before removing 3 rated reviews  (568454, 10)\n"
     ]
    },
    {
     "data": {
      "text/html": [
       "<div>\n",
       "<style scoped>\n",
       "    .dataframe tbody tr th:only-of-type {\n",
       "        vertical-align: middle;\n",
       "    }\n",
       "\n",
       "    .dataframe tbody tr th {\n",
       "        vertical-align: top;\n",
       "    }\n",
       "\n",
       "    .dataframe thead th {\n",
       "        text-align: right;\n",
       "    }\n",
       "</style>\n",
       "<table border=\"1\" class=\"dataframe\">\n",
       "  <thead>\n",
       "    <tr style=\"text-align: right;\">\n",
       "      <th></th>\n",
       "      <th>Id</th>\n",
       "      <th>ProductId</th>\n",
       "      <th>UserId</th>\n",
       "      <th>ProfileName</th>\n",
       "      <th>HelpfulnessNumerator</th>\n",
       "      <th>HelpfulnessDenominator</th>\n",
       "      <th>Score</th>\n",
       "      <th>Time</th>\n",
       "      <th>Summary</th>\n",
       "      <th>Text</th>\n",
       "    </tr>\n",
       "  </thead>\n",
       "  <tbody>\n",
       "    <tr>\n",
       "      <td>0</td>\n",
       "      <td>1</td>\n",
       "      <td>B001E4KFG0</td>\n",
       "      <td>A3SGXH7AUHU8GW</td>\n",
       "      <td>delmartian</td>\n",
       "      <td>1</td>\n",
       "      <td>1</td>\n",
       "      <td>5</td>\n",
       "      <td>1303862400</td>\n",
       "      <td>Good Quality Dog Food</td>\n",
       "      <td>I have bought several of the Vitality canned d...</td>\n",
       "    </tr>\n",
       "    <tr>\n",
       "      <td>1</td>\n",
       "      <td>2</td>\n",
       "      <td>B00813GRG4</td>\n",
       "      <td>A1D87F6ZCVE5NK</td>\n",
       "      <td>dll pa</td>\n",
       "      <td>0</td>\n",
       "      <td>0</td>\n",
       "      <td>1</td>\n",
       "      <td>1346976000</td>\n",
       "      <td>Not as Advertised</td>\n",
       "      <td>Product arrived labeled as Jumbo Salted Peanut...</td>\n",
       "    </tr>\n",
       "    <tr>\n",
       "      <td>2</td>\n",
       "      <td>3</td>\n",
       "      <td>B000LQOCH0</td>\n",
       "      <td>ABXLMWJIXXAIN</td>\n",
       "      <td>Natalia Corres \"Natalia Corres\"</td>\n",
       "      <td>1</td>\n",
       "      <td>1</td>\n",
       "      <td>4</td>\n",
       "      <td>1219017600</td>\n",
       "      <td>\"Delight\" says it all</td>\n",
       "      <td>This is a confection that has been around a fe...</td>\n",
       "    </tr>\n",
       "    <tr>\n",
       "      <td>3</td>\n",
       "      <td>4</td>\n",
       "      <td>B000UA0QIQ</td>\n",
       "      <td>A395BORC6FGVXV</td>\n",
       "      <td>Karl</td>\n",
       "      <td>3</td>\n",
       "      <td>3</td>\n",
       "      <td>2</td>\n",
       "      <td>1307923200</td>\n",
       "      <td>Cough Medicine</td>\n",
       "      <td>If you are looking for the secret ingredient i...</td>\n",
       "    </tr>\n",
       "    <tr>\n",
       "      <td>4</td>\n",
       "      <td>5</td>\n",
       "      <td>B006K2ZZ7K</td>\n",
       "      <td>A1UQRSCLF8GW1T</td>\n",
       "      <td>Michael D. Bigham \"M. Wassir\"</td>\n",
       "      <td>0</td>\n",
       "      <td>0</td>\n",
       "      <td>5</td>\n",
       "      <td>1350777600</td>\n",
       "      <td>Great taffy</td>\n",
       "      <td>Great taffy at a great price.  There was a wid...</td>\n",
       "    </tr>\n",
       "    <tr>\n",
       "      <td>...</td>\n",
       "      <td>...</td>\n",
       "      <td>...</td>\n",
       "      <td>...</td>\n",
       "      <td>...</td>\n",
       "      <td>...</td>\n",
       "      <td>...</td>\n",
       "      <td>...</td>\n",
       "      <td>...</td>\n",
       "      <td>...</td>\n",
       "      <td>...</td>\n",
       "    </tr>\n",
       "    <tr>\n",
       "      <td>525809</td>\n",
       "      <td>568450</td>\n",
       "      <td>B001EO7N10</td>\n",
       "      <td>A28KG5XORO54AY</td>\n",
       "      <td>Lettie D. Carter</td>\n",
       "      <td>0</td>\n",
       "      <td>0</td>\n",
       "      <td>5</td>\n",
       "      <td>1299628800</td>\n",
       "      <td>Will not do without</td>\n",
       "      <td>Great for sesame chicken..this is a good if no...</td>\n",
       "    </tr>\n",
       "    <tr>\n",
       "      <td>525810</td>\n",
       "      <td>568451</td>\n",
       "      <td>B003S1WTCU</td>\n",
       "      <td>A3I8AFVPEE8KI5</td>\n",
       "      <td>R. Sawyer</td>\n",
       "      <td>0</td>\n",
       "      <td>0</td>\n",
       "      <td>2</td>\n",
       "      <td>1331251200</td>\n",
       "      <td>disappointed</td>\n",
       "      <td>I'm disappointed with the flavor. The chocolat...</td>\n",
       "    </tr>\n",
       "    <tr>\n",
       "      <td>525811</td>\n",
       "      <td>568452</td>\n",
       "      <td>B004I613EE</td>\n",
       "      <td>A121AA1GQV751Z</td>\n",
       "      <td>pksd \"pk_007\"</td>\n",
       "      <td>2</td>\n",
       "      <td>2</td>\n",
       "      <td>5</td>\n",
       "      <td>1329782400</td>\n",
       "      <td>Perfect for our maltipoo</td>\n",
       "      <td>These stars are small, so you can give 10-15 o...</td>\n",
       "    </tr>\n",
       "    <tr>\n",
       "      <td>525812</td>\n",
       "      <td>568453</td>\n",
       "      <td>B004I613EE</td>\n",
       "      <td>A3IBEVCTXKNOH</td>\n",
       "      <td>Kathy A. Welch \"katwel\"</td>\n",
       "      <td>1</td>\n",
       "      <td>1</td>\n",
       "      <td>5</td>\n",
       "      <td>1331596800</td>\n",
       "      <td>Favorite Training and reward treat</td>\n",
       "      <td>These are the BEST treats for training and rew...</td>\n",
       "    </tr>\n",
       "    <tr>\n",
       "      <td>525813</td>\n",
       "      <td>568454</td>\n",
       "      <td>B001LR2CU2</td>\n",
       "      <td>A3LGQPJCZVL9UC</td>\n",
       "      <td>srfell17</td>\n",
       "      <td>0</td>\n",
       "      <td>0</td>\n",
       "      <td>5</td>\n",
       "      <td>1338422400</td>\n",
       "      <td>Great Honey</td>\n",
       "      <td>I am very satisfied ,product is as advertised,...</td>\n",
       "    </tr>\n",
       "  </tbody>\n",
       "</table>\n",
       "<p>525814 rows × 10 columns</p>\n",
       "</div>"
      ],
      "text/plain": [
       "            Id   ProductId          UserId                      ProfileName  \\\n",
       "0            1  B001E4KFG0  A3SGXH7AUHU8GW                       delmartian   \n",
       "1            2  B00813GRG4  A1D87F6ZCVE5NK                           dll pa   \n",
       "2            3  B000LQOCH0   ABXLMWJIXXAIN  Natalia Corres \"Natalia Corres\"   \n",
       "3            4  B000UA0QIQ  A395BORC6FGVXV                             Karl   \n",
       "4            5  B006K2ZZ7K  A1UQRSCLF8GW1T    Michael D. Bigham \"M. Wassir\"   \n",
       "...        ...         ...             ...                              ...   \n",
       "525809  568450  B001EO7N10  A28KG5XORO54AY                 Lettie D. Carter   \n",
       "525810  568451  B003S1WTCU  A3I8AFVPEE8KI5                        R. Sawyer   \n",
       "525811  568452  B004I613EE  A121AA1GQV751Z                    pksd \"pk_007\"   \n",
       "525812  568453  B004I613EE   A3IBEVCTXKNOH          Kathy A. Welch \"katwel\"   \n",
       "525813  568454  B001LR2CU2  A3LGQPJCZVL9UC                         srfell17   \n",
       "\n",
       "        HelpfulnessNumerator  HelpfulnessDenominator  Score        Time  \\\n",
       "0                          1                       1      5  1303862400   \n",
       "1                          0                       0      1  1346976000   \n",
       "2                          1                       1      4  1219017600   \n",
       "3                          3                       3      2  1307923200   \n",
       "4                          0                       0      5  1350777600   \n",
       "...                      ...                     ...    ...         ...   \n",
       "525809                     0                       0      5  1299628800   \n",
       "525810                     0                       0      2  1331251200   \n",
       "525811                     2                       2      5  1329782400   \n",
       "525812                     1                       1      5  1331596800   \n",
       "525813                     0                       0      5  1338422400   \n",
       "\n",
       "                                   Summary  \\\n",
       "0                    Good Quality Dog Food   \n",
       "1                        Not as Advertised   \n",
       "2                    \"Delight\" says it all   \n",
       "3                           Cough Medicine   \n",
       "4                              Great taffy   \n",
       "...                                    ...   \n",
       "525809                 Will not do without   \n",
       "525810                        disappointed   \n",
       "525811            Perfect for our maltipoo   \n",
       "525812  Favorite Training and reward treat   \n",
       "525813                         Great Honey   \n",
       "\n",
       "                                                     Text  \n",
       "0       I have bought several of the Vitality canned d...  \n",
       "1       Product arrived labeled as Jumbo Salted Peanut...  \n",
       "2       This is a confection that has been around a fe...  \n",
       "3       If you are looking for the secret ingredient i...  \n",
       "4       Great taffy at a great price.  There was a wid...  \n",
       "...                                                   ...  \n",
       "525809  Great for sesame chicken..this is a good if no...  \n",
       "525810  I'm disappointed with the flavor. The chocolat...  \n",
       "525811  These stars are small, so you can give 10-15 o...  \n",
       "525812  These are the BEST treats for training and rew...  \n",
       "525813  I am very satisfied ,product is as advertised,...  \n",
       "\n",
       "[525814 rows x 10 columns]"
      ]
     },
     "execution_count": 2,
     "metadata": {},
     "output_type": "execute_result"
    }
   ],
   "source": [
    "# using the SQLite Table to read data.\n",
    "con = sqlite3.connect('C:\\\\Users\\\\insbattula\\\\Desktop\\\\ML-AAI_IPYNB_Files\\\\Datasets\\\\amazon-fine-food-reviews\\\\database.sqlite')\n",
    "#con = sqlite3.connect('database.sqlite') \n",
    "\n",
    "filtered_data_full = pd.read_sql_query(\"\"\"SELECT * FROM Reviews \"\"\", con)\n",
    "\n",
    "print(\"Before removing 3 rated reviews \", filtered_data_full.shape)\n",
    "#filtering only positive and negative reviews i.e. \n",
    "# not taking into consideration those reviews with Score=3\n",
    "filtered_data = pd.read_sql_query(\"\"\"SELECT * FROM Reviews WHERE Score != 3\"\"\", con) \n",
    "\n",
    "filtered_data"
   ]
  },
  {
   "cell_type": "code",
   "execution_count": 3,
   "metadata": {},
   "outputs": [],
   "source": [
    "# Give reviews with Score>3 a positive rating, and reviews with a score<3 a negative rating.\n",
    "def partition(x):\n",
    "    if x < 3:\n",
    "        return 'negative'\n",
    "    return 'positive'\n",
    "\n",
    "#changing reviews with score less than 3 to be positive and vice-versa\n",
    "actualScore = filtered_data['Score']\n",
    "positiveNegative = actualScore.map(partition) \n",
    "filtered_data['Score'] = positiveNegative"
   ]
  },
  {
   "cell_type": "code",
   "execution_count": 4,
   "metadata": {},
   "outputs": [
    {
     "data": {
      "text/html": [
       "<div>\n",
       "<style scoped>\n",
       "    .dataframe tbody tr th:only-of-type {\n",
       "        vertical-align: middle;\n",
       "    }\n",
       "\n",
       "    .dataframe tbody tr th {\n",
       "        vertical-align: top;\n",
       "    }\n",
       "\n",
       "    .dataframe thead th {\n",
       "        text-align: right;\n",
       "    }\n",
       "</style>\n",
       "<table border=\"1\" class=\"dataframe\">\n",
       "  <thead>\n",
       "    <tr style=\"text-align: right;\">\n",
       "      <th></th>\n",
       "      <th>Id</th>\n",
       "      <th>ProductId</th>\n",
       "      <th>UserId</th>\n",
       "      <th>ProfileName</th>\n",
       "      <th>HelpfulnessNumerator</th>\n",
       "      <th>HelpfulnessDenominator</th>\n",
       "      <th>Score</th>\n",
       "      <th>Time</th>\n",
       "      <th>Summary</th>\n",
       "      <th>Text</th>\n",
       "    </tr>\n",
       "  </thead>\n",
       "  <tbody>\n",
       "    <tr>\n",
       "      <td>0</td>\n",
       "      <td>1</td>\n",
       "      <td>B001E4KFG0</td>\n",
       "      <td>A3SGXH7AUHU8GW</td>\n",
       "      <td>delmartian</td>\n",
       "      <td>1</td>\n",
       "      <td>1</td>\n",
       "      <td>positive</td>\n",
       "      <td>1303862400</td>\n",
       "      <td>Good Quality Dog Food</td>\n",
       "      <td>I have bought several of the Vitality canned d...</td>\n",
       "    </tr>\n",
       "    <tr>\n",
       "      <td>1</td>\n",
       "      <td>2</td>\n",
       "      <td>B00813GRG4</td>\n",
       "      <td>A1D87F6ZCVE5NK</td>\n",
       "      <td>dll pa</td>\n",
       "      <td>0</td>\n",
       "      <td>0</td>\n",
       "      <td>negative</td>\n",
       "      <td>1346976000</td>\n",
       "      <td>Not as Advertised</td>\n",
       "      <td>Product arrived labeled as Jumbo Salted Peanut...</td>\n",
       "    </tr>\n",
       "    <tr>\n",
       "      <td>2</td>\n",
       "      <td>3</td>\n",
       "      <td>B000LQOCH0</td>\n",
       "      <td>ABXLMWJIXXAIN</td>\n",
       "      <td>Natalia Corres \"Natalia Corres\"</td>\n",
       "      <td>1</td>\n",
       "      <td>1</td>\n",
       "      <td>positive</td>\n",
       "      <td>1219017600</td>\n",
       "      <td>\"Delight\" says it all</td>\n",
       "      <td>This is a confection that has been around a fe...</td>\n",
       "    </tr>\n",
       "    <tr>\n",
       "      <td>3</td>\n",
       "      <td>4</td>\n",
       "      <td>B000UA0QIQ</td>\n",
       "      <td>A395BORC6FGVXV</td>\n",
       "      <td>Karl</td>\n",
       "      <td>3</td>\n",
       "      <td>3</td>\n",
       "      <td>negative</td>\n",
       "      <td>1307923200</td>\n",
       "      <td>Cough Medicine</td>\n",
       "      <td>If you are looking for the secret ingredient i...</td>\n",
       "    </tr>\n",
       "    <tr>\n",
       "      <td>4</td>\n",
       "      <td>5</td>\n",
       "      <td>B006K2ZZ7K</td>\n",
       "      <td>A1UQRSCLF8GW1T</td>\n",
       "      <td>Michael D. Bigham \"M. Wassir\"</td>\n",
       "      <td>0</td>\n",
       "      <td>0</td>\n",
       "      <td>positive</td>\n",
       "      <td>1350777600</td>\n",
       "      <td>Great taffy</td>\n",
       "      <td>Great taffy at a great price.  There was a wid...</td>\n",
       "    </tr>\n",
       "  </tbody>\n",
       "</table>\n",
       "</div>"
      ],
      "text/plain": [
       "   Id   ProductId          UserId                      ProfileName  \\\n",
       "0   1  B001E4KFG0  A3SGXH7AUHU8GW                       delmartian   \n",
       "1   2  B00813GRG4  A1D87F6ZCVE5NK                           dll pa   \n",
       "2   3  B000LQOCH0   ABXLMWJIXXAIN  Natalia Corres \"Natalia Corres\"   \n",
       "3   4  B000UA0QIQ  A395BORC6FGVXV                             Karl   \n",
       "4   5  B006K2ZZ7K  A1UQRSCLF8GW1T    Michael D. Bigham \"M. Wassir\"   \n",
       "\n",
       "   HelpfulnessNumerator  HelpfulnessDenominator     Score        Time  \\\n",
       "0                     1                       1  positive  1303862400   \n",
       "1                     0                       0  negative  1346976000   \n",
       "2                     1                       1  positive  1219017600   \n",
       "3                     3                       3  negative  1307923200   \n",
       "4                     0                       0  positive  1350777600   \n",
       "\n",
       "                 Summary                                               Text  \n",
       "0  Good Quality Dog Food  I have bought several of the Vitality canned d...  \n",
       "1      Not as Advertised  Product arrived labeled as Jumbo Salted Peanut...  \n",
       "2  \"Delight\" says it all  This is a confection that has been around a fe...  \n",
       "3         Cough Medicine  If you are looking for the secret ingredient i...  \n",
       "4            Great taffy  Great taffy at a great price.  There was a wid...  "
      ]
     },
     "execution_count": 4,
     "metadata": {},
     "output_type": "execute_result"
    }
   ],
   "source": [
    "filtered_data.shape #looking at the number of attributes and size of the data\n",
    "filtered_data.head()"
   ]
  },
  {
   "cell_type": "code",
   "execution_count": 5,
   "metadata": {},
   "outputs": [],
   "source": [
    "#Data Cleaning: Deduplication\n",
    "#It is observed (as shown in the table below) that the reviews data had many duplicate entries. Hence it was necessary \n",
    "#to remove duplicates in order to get unbiased results for the analysis of the data. Following is an example:"
   ]
  },
  {
   "cell_type": "code",
   "execution_count": 6,
   "metadata": {},
   "outputs": [
    {
     "data": {
      "text/html": [
       "<div>\n",
       "<style scoped>\n",
       "    .dataframe tbody tr th:only-of-type {\n",
       "        vertical-align: middle;\n",
       "    }\n",
       "\n",
       "    .dataframe tbody tr th {\n",
       "        vertical-align: top;\n",
       "    }\n",
       "\n",
       "    .dataframe thead th {\n",
       "        text-align: right;\n",
       "    }\n",
       "</style>\n",
       "<table border=\"1\" class=\"dataframe\">\n",
       "  <thead>\n",
       "    <tr style=\"text-align: right;\">\n",
       "      <th></th>\n",
       "      <th>Id</th>\n",
       "      <th>ProductId</th>\n",
       "      <th>UserId</th>\n",
       "      <th>ProfileName</th>\n",
       "      <th>HelpfulnessNumerator</th>\n",
       "      <th>HelpfulnessDenominator</th>\n",
       "      <th>Score</th>\n",
       "      <th>Time</th>\n",
       "      <th>Summary</th>\n",
       "      <th>Text</th>\n",
       "    </tr>\n",
       "  </thead>\n",
       "  <tbody>\n",
       "    <tr>\n",
       "      <td>0</td>\n",
       "      <td>78445</td>\n",
       "      <td>B000HDL1RQ</td>\n",
       "      <td>AR5J8UI46CURR</td>\n",
       "      <td>Geetha Krishnan</td>\n",
       "      <td>2</td>\n",
       "      <td>2</td>\n",
       "      <td>5</td>\n",
       "      <td>1199577600</td>\n",
       "      <td>LOACKER QUADRATINI VANILLA WAFERS</td>\n",
       "      <td>DELICIOUS WAFERS. I FIND THAT EUROPEAN WAFERS ...</td>\n",
       "    </tr>\n",
       "    <tr>\n",
       "      <td>1</td>\n",
       "      <td>138317</td>\n",
       "      <td>B000HDOPYC</td>\n",
       "      <td>AR5J8UI46CURR</td>\n",
       "      <td>Geetha Krishnan</td>\n",
       "      <td>2</td>\n",
       "      <td>2</td>\n",
       "      <td>5</td>\n",
       "      <td>1199577600</td>\n",
       "      <td>LOACKER QUADRATINI VANILLA WAFERS</td>\n",
       "      <td>DELICIOUS WAFERS. I FIND THAT EUROPEAN WAFERS ...</td>\n",
       "    </tr>\n",
       "    <tr>\n",
       "      <td>2</td>\n",
       "      <td>138277</td>\n",
       "      <td>B000HDOPYM</td>\n",
       "      <td>AR5J8UI46CURR</td>\n",
       "      <td>Geetha Krishnan</td>\n",
       "      <td>2</td>\n",
       "      <td>2</td>\n",
       "      <td>5</td>\n",
       "      <td>1199577600</td>\n",
       "      <td>LOACKER QUADRATINI VANILLA WAFERS</td>\n",
       "      <td>DELICIOUS WAFERS. I FIND THAT EUROPEAN WAFERS ...</td>\n",
       "    </tr>\n",
       "    <tr>\n",
       "      <td>3</td>\n",
       "      <td>73791</td>\n",
       "      <td>B000HDOPZG</td>\n",
       "      <td>AR5J8UI46CURR</td>\n",
       "      <td>Geetha Krishnan</td>\n",
       "      <td>2</td>\n",
       "      <td>2</td>\n",
       "      <td>5</td>\n",
       "      <td>1199577600</td>\n",
       "      <td>LOACKER QUADRATINI VANILLA WAFERS</td>\n",
       "      <td>DELICIOUS WAFERS. I FIND THAT EUROPEAN WAFERS ...</td>\n",
       "    </tr>\n",
       "    <tr>\n",
       "      <td>4</td>\n",
       "      <td>155049</td>\n",
       "      <td>B000PAQ75C</td>\n",
       "      <td>AR5J8UI46CURR</td>\n",
       "      <td>Geetha Krishnan</td>\n",
       "      <td>2</td>\n",
       "      <td>2</td>\n",
       "      <td>5</td>\n",
       "      <td>1199577600</td>\n",
       "      <td>LOACKER QUADRATINI VANILLA WAFERS</td>\n",
       "      <td>DELICIOUS WAFERS. I FIND THAT EUROPEAN WAFERS ...</td>\n",
       "    </tr>\n",
       "  </tbody>\n",
       "</table>\n",
       "</div>"
      ],
      "text/plain": [
       "       Id   ProductId         UserId      ProfileName  HelpfulnessNumerator  \\\n",
       "0   78445  B000HDL1RQ  AR5J8UI46CURR  Geetha Krishnan                     2   \n",
       "1  138317  B000HDOPYC  AR5J8UI46CURR  Geetha Krishnan                     2   \n",
       "2  138277  B000HDOPYM  AR5J8UI46CURR  Geetha Krishnan                     2   \n",
       "3   73791  B000HDOPZG  AR5J8UI46CURR  Geetha Krishnan                     2   \n",
       "4  155049  B000PAQ75C  AR5J8UI46CURR  Geetha Krishnan                     2   \n",
       "\n",
       "   HelpfulnessDenominator  Score        Time  \\\n",
       "0                       2      5  1199577600   \n",
       "1                       2      5  1199577600   \n",
       "2                       2      5  1199577600   \n",
       "3                       2      5  1199577600   \n",
       "4                       2      5  1199577600   \n",
       "\n",
       "                             Summary  \\\n",
       "0  LOACKER QUADRATINI VANILLA WAFERS   \n",
       "1  LOACKER QUADRATINI VANILLA WAFERS   \n",
       "2  LOACKER QUADRATINI VANILLA WAFERS   \n",
       "3  LOACKER QUADRATINI VANILLA WAFERS   \n",
       "4  LOACKER QUADRATINI VANILLA WAFERS   \n",
       "\n",
       "                                                Text  \n",
       "0  DELICIOUS WAFERS. I FIND THAT EUROPEAN WAFERS ...  \n",
       "1  DELICIOUS WAFERS. I FIND THAT EUROPEAN WAFERS ...  \n",
       "2  DELICIOUS WAFERS. I FIND THAT EUROPEAN WAFERS ...  \n",
       "3  DELICIOUS WAFERS. I FIND THAT EUROPEAN WAFERS ...  \n",
       "4  DELICIOUS WAFERS. I FIND THAT EUROPEAN WAFERS ...  "
      ]
     },
     "execution_count": 6,
     "metadata": {},
     "output_type": "execute_result"
    }
   ],
   "source": [
    "display= pd.read_sql_query(\"\"\"\n",
    "SELECT *\n",
    "FROM Reviews\n",
    "WHERE Score != 3 AND UserId=\"AR5J8UI46CURR\"\n",
    "ORDER BY ProductID\n",
    "\"\"\", con)\n",
    "display"
   ]
  },
  {
   "cell_type": "code",
   "execution_count": 7,
   "metadata": {},
   "outputs": [],
   "source": [
    "#Sorting data according to ProductId in ascending order\n",
    "sorted_data=filtered_data.sort_values('ProductId', axis=0, ascending=True, inplace=False, kind='quicksort', na_position='last')"
   ]
  },
  {
   "cell_type": "code",
   "execution_count": 8,
   "metadata": {},
   "outputs": [
    {
     "data": {
      "text/plain": [
       "(364173, 10)"
      ]
     },
     "execution_count": 8,
     "metadata": {},
     "output_type": "execute_result"
    }
   ],
   "source": [
    "#Deduplication of entries\n",
    "final=sorted_data.drop_duplicates(subset={\"UserId\",\"ProfileName\",\"Time\",\"Text\"}, keep='first', inplace=False)\n",
    "final.shape"
   ]
  },
  {
   "cell_type": "code",
   "execution_count": 9,
   "metadata": {},
   "outputs": [
    {
     "name": "stdout",
     "output_type": "stream",
     "text": [
      "filtered data size after removing the Rating 3 ---- 525814\n",
      "final data size after deleting duplicates ----  364173\n"
     ]
    },
    {
     "data": {
      "text/plain": [
       "69.25890143662969"
      ]
     },
     "execution_count": 9,
     "metadata": {},
     "output_type": "execute_result"
    }
   ],
   "source": [
    "print(\"filtered data size after removing the Rating 3 ----\",filtered_data['Id'].size)\n",
    "\n",
    "print(\"final data size after deleting duplicates ---- \",final['Id'].size)\n",
    "\n",
    "#Checking to see how much % of data still remains\n",
    "(final['Id'].size*1.0)/(filtered_data['Id'].size*1.0)*100"
   ]
  },
  {
   "cell_type": "code",
   "execution_count": 10,
   "metadata": {},
   "outputs": [],
   "source": [
    "#Observation:- It was also seen that in two rows given below the value of HelpfulnessNumerator is greater than \n",
    "#HelpfulnessDenominator which is not practically possible hence these two rows too are removed from calcualtions"
   ]
  },
  {
   "cell_type": "code",
   "execution_count": 11,
   "metadata": {},
   "outputs": [
    {
     "data": {
      "text/html": [
       "<div>\n",
       "<style scoped>\n",
       "    .dataframe tbody tr th:only-of-type {\n",
       "        vertical-align: middle;\n",
       "    }\n",
       "\n",
       "    .dataframe tbody tr th {\n",
       "        vertical-align: top;\n",
       "    }\n",
       "\n",
       "    .dataframe thead th {\n",
       "        text-align: right;\n",
       "    }\n",
       "</style>\n",
       "<table border=\"1\" class=\"dataframe\">\n",
       "  <thead>\n",
       "    <tr style=\"text-align: right;\">\n",
       "      <th></th>\n",
       "      <th>Id</th>\n",
       "      <th>ProductId</th>\n",
       "      <th>UserId</th>\n",
       "      <th>ProfileName</th>\n",
       "      <th>HelpfulnessNumerator</th>\n",
       "      <th>HelpfulnessDenominator</th>\n",
       "      <th>Score</th>\n",
       "      <th>Time</th>\n",
       "      <th>Summary</th>\n",
       "      <th>Text</th>\n",
       "    </tr>\n",
       "  </thead>\n",
       "  <tbody>\n",
       "    <tr>\n",
       "      <td>0</td>\n",
       "      <td>64422</td>\n",
       "      <td>B000MIDROQ</td>\n",
       "      <td>A161DK06JJMCYF</td>\n",
       "      <td>J. E. Stephens \"Jeanne\"</td>\n",
       "      <td>3</td>\n",
       "      <td>1</td>\n",
       "      <td>5</td>\n",
       "      <td>1224892800</td>\n",
       "      <td>Bought This for My Son at College</td>\n",
       "      <td>My son loves spaghetti so I didn't hesitate or...</td>\n",
       "    </tr>\n",
       "    <tr>\n",
       "      <td>1</td>\n",
       "      <td>44737</td>\n",
       "      <td>B001EQ55RW</td>\n",
       "      <td>A2V0I904FH7ABY</td>\n",
       "      <td>Ram</td>\n",
       "      <td>3</td>\n",
       "      <td>2</td>\n",
       "      <td>4</td>\n",
       "      <td>1212883200</td>\n",
       "      <td>Pure cocoa taste with crunchy almonds inside</td>\n",
       "      <td>It was almost a 'love at first bite' - the per...</td>\n",
       "    </tr>\n",
       "  </tbody>\n",
       "</table>\n",
       "</div>"
      ],
      "text/plain": [
       "      Id   ProductId          UserId              ProfileName  \\\n",
       "0  64422  B000MIDROQ  A161DK06JJMCYF  J. E. Stephens \"Jeanne\"   \n",
       "1  44737  B001EQ55RW  A2V0I904FH7ABY                      Ram   \n",
       "\n",
       "   HelpfulnessNumerator  HelpfulnessDenominator  Score        Time  \\\n",
       "0                     3                       1      5  1224892800   \n",
       "1                     3                       2      4  1212883200   \n",
       "\n",
       "                                        Summary  \\\n",
       "0             Bought This for My Son at College   \n",
       "1  Pure cocoa taste with crunchy almonds inside   \n",
       "\n",
       "                                                Text  \n",
       "0  My son loves spaghetti so I didn't hesitate or...  \n",
       "1  It was almost a 'love at first bite' - the per...  "
      ]
     },
     "execution_count": 11,
     "metadata": {},
     "output_type": "execute_result"
    }
   ],
   "source": [
    "display= pd.read_sql_query(\"\"\"\n",
    "SELECT *\n",
    "FROM Reviews\n",
    "WHERE Score != 3 AND Id=44737 OR Id=64422\n",
    "ORDER BY ProductID\n",
    "\"\"\", con)\n",
    "display"
   ]
  },
  {
   "cell_type": "code",
   "execution_count": 12,
   "metadata": {},
   "outputs": [
    {
     "name": "stdout",
     "output_type": "stream",
     "text": [
      "(364171, 10)\n"
     ]
    },
    {
     "data": {
      "text/plain": [
       "positive    307061\n",
       "negative     57110\n",
       "Name: Score, dtype: int64"
      ]
     },
     "execution_count": 12,
     "metadata": {},
     "output_type": "execute_result"
    }
   ],
   "source": [
    "final=final[final.HelpfulnessNumerator<=final.HelpfulnessDenominator]\n",
    "#final = final[final.HelpfulnessNumerator <= final.HelpfulnessDenominator]\n",
    "print(final.shape)\n",
    "final['Score'].value_counts()"
   ]
  },
  {
   "cell_type": "raw",
   "metadata": {},
   "source": [
    "Text Preprocessing: Stemming, stop-word removal and Lemmatization.\n",
    "Now that we have finished deduplication our data requires some preprocessing before we go on further with analysis and making the prediction model.\n",
    "\n",
    "Hence in the Preprocessing phase we do the following in the order below:-\n",
    "\n",
    "Begin by removing the html tags\n",
    "Remove any punctuations or limited set of special characters like , or . or # etc.\n",
    "Check if the word is made up of english letters and is not alpha-numeric\n",
    "Check to see if the length of the word is greater than 2 (as it was researched that there is no adjective in 2-letters)\n",
    "Convert the word to lowercase\n",
    "Remove Stopwords\n",
    "Finally Snowball Stemming the word (it was obsereved to be better than Porter Stemming)"
   ]
  },
  {
   "cell_type": "code",
   "execution_count": 13,
   "metadata": {},
   "outputs": [
    {
     "name": "stdout",
     "output_type": "stream",
     "text": [
      "6\n",
      "I set aside at least an hour each day to read to my son (3 y/o). At this point, I consider myself a connoisseur of children's books and this is one of the best. Santa Clause put this under the tree. Since then, we've read it perpetually and he loves it.<br /><br />First, this book taught him the months of the year.<br /><br />Second, it's a pleasure to read. Well suited to 1.5 y/o old to 4+.<br /><br />Very few children's books are worth owning. Most should be borrowed from the library. This book, however, deserves a permanent spot on your shelf. Sendak's best.\n"
     ]
    }
   ],
   "source": [
    "# find sentences containing HTML tags\n",
    "import re\n",
    "i=0;\n",
    "for sent in final['Text'].values:\n",
    "    if (len(re.findall('<.*?>', sent))):\n",
    "        print(i)\n",
    "        print(sent)\n",
    "        break;\n",
    "    i += 1;    "
   ]
  },
  {
   "cell_type": "code",
   "execution_count": 14,
   "metadata": {},
   "outputs": [
    {
     "name": "stderr",
     "output_type": "stream",
     "text": [
      "[nltk_data] Downloading package wordnet to\n",
      "[nltk_data]     C:\\Users\\insbattula\\AppData\\Roaming\\nltk_data...\n",
      "[nltk_data]   Package wordnet is already up-to-date!\n"
     ]
    },
    {
     "data": {
      "text/plain": [
       "True"
      ]
     },
     "execution_count": 14,
     "metadata": {},
     "output_type": "execute_result"
    }
   ],
   "source": [
    "nltk.download('wordnet')"
   ]
  },
  {
   "cell_type": "code",
   "execution_count": 15,
   "metadata": {},
   "outputs": [
    {
     "name": "stdout",
     "output_type": "stream",
     "text": [
      "{'this', 'other', 'yourself', 'had', \"shouldn't\", 'so', 'from', 'o', \"it's\", 'being', 'or', 'why', 'any', 'but', 'too', 'an', 'don', 'she', 'at', 'then', 'should', 'its', 'further', 'no', 'shouldn', 'hers', 'both', 'can', 'have', 'will', 'here', 'which', 'and', 'off', 'mightn', 'are', 'herself', 'i', 'these', 'own', 's', 'isn', 'yourselves', 'yours', 'just', 'we', 'before', 'doesn', 'hasn', 'ma', 'if', 'his', 'while', 'the', 'me', 'my', 'what', 'those', 'having', 'up', 'after', 'is', 'doing', 'wouldn', 'weren', 'some', \"you'd\", 'until', \"aren't\", 'does', 'out', 'hadn', \"hasn't\", 'them', 'needn', \"weren't\", 'on', 'they', 'how', 't', \"couldn't\", \"needn't\", \"you'll\", 'ain', 'over', 'didn', 'be', 'mustn', 'ours', \"mustn't\", 'same', 'for', 'a', 'itself', 'ourselves', 'am', 'in', 'you', \"she's\", \"wouldn't\", 'once', 've', 'been', 'were', 'has', 'their', \"shan't\", 'such', 'her', 'it', \"isn't\", \"wasn't\", 'than', 'each', 'down', 'where', 'do', 'himself', 'because', 'him', 'that', 'your', 're', 'who', 'myself', 'now', \"you've\", 'by', 'during', 'couldn', 'he', 'themselves', 'under', 'nor', 'd', 'not', 'only', 'most', 'shan', \"don't\", \"didn't\", 'haven', 'to', 'above', 'aren', \"mightn't\", \"hadn't\", 'won', \"you're\", 'below', 'll', 'about', 'again', \"that'll\", 'when', 'wasn', 'very', 'through', 'theirs', 'whom', \"should've\", \"won't\", 'y', \"haven't\", 'there', 'of', 'into', 'with', 'did', \"doesn't\", 'between', 'all', 'm', 'our', 'against', 'more', 'was', 'few', 'as'}\n",
      "************************************\n",
      "tasti\n",
      "tasty\n"
     ]
    }
   ],
   "source": [
    "\n",
    "import re\n",
    "# Tutorial about Python regular expressions: https://pymotw.com/2/re/\n",
    "import string\n",
    "from nltk.corpus import stopwords\n",
    "from nltk.stem import PorterStemmer\n",
    "from nltk.stem.wordnet import WordNetLemmatizer\n",
    "\n",
    "stop = set(stopwords.words('english')) #set of stopwords\n",
    "sno = nltk.stem.SnowballStemmer('english') #initialising the snowball stemmer\n",
    "lemmatizer = WordNetLemmatizer()\n",
    "\n",
    "\n",
    "def cleanhtml(sentence): #function to clean the word of any html-tags\n",
    "    cleanr = re.compile('<.*?>')\n",
    "    cleantext = re.sub(cleanr, ' ', sentence)\n",
    "    return cleantext\n",
    "def cleanpunc(sentence): #function to clean the word of any punctuation or special characters\n",
    "    cleaned = re.sub(r'[?|!|\\'|\"|#]',r'',sentence)\n",
    "    cleaned = re.sub(r'[.|,|)|(|\\|/]',r' ',cleaned)\n",
    "    return  cleaned\n",
    "print(stop)\n",
    "print('************************************')\n",
    "print(sno.stem('tasty'))\n",
    "# Lemmatize Single Word\n",
    "print(lemmatizer.lemmatize(\"tasty\"))\n"
   ]
  },
  {
   "cell_type": "code",
   "execution_count": 16,
   "metadata": {},
   "outputs": [],
   "source": [
    "#Code for implementing step-by-step the checks mentioned in the pre-processing phase\n",
    "# this code takes a while to run as it needs to run on 500k sentences.\n",
    "i=0\n",
    "str1=' '\n",
    "final_string=[]\n",
    "all_positive_words=[] # store words from +ve reviews here\n",
    "all_negative_words=[] # store words from -ve reviews here.\n",
    "s=''\n",
    "for sent in final['Text'].values:\n",
    "    filtered_sentence=[]\n",
    "    #print(sent);\n",
    "    sent=cleanhtml(sent) # remove HTMl tags\n",
    "    for w in sent.split():\n",
    "        for cleaned_words in cleanpunc(w).split():\n",
    "            if((cleaned_words.isalpha()) & (len(cleaned_words)>2)):    \n",
    "                if(cleaned_words.lower() not in stop):\n",
    "                    s=(sno.stem(cleaned_words.lower())).encode('utf8')\n",
    "                    filtered_sentence.append(s)\n",
    "                    if (final['Score'].values)[i] == 'positive': \n",
    "                        all_positive_words.append(s) #list of all words used to describe positive reviews\n",
    "                    if(final['Score'].values)[i] == 'negative':\n",
    "                        all_negative_words.append(s) #list of all words used to describe negative reviews \n",
    "                else:\n",
    "                    continue\n",
    "            else:\n",
    "                continue \n",
    "    #print(filtered_sentence)\n",
    "    str1 = b\" \".join(filtered_sentence) #final string of cleaned words\n",
    "    #print(\"***********************************************************************\")\n",
    "    \n",
    "    final_string.append(str1)\n",
    "    i+=1"
   ]
  },
  {
   "cell_type": "code",
   "execution_count": 17,
   "metadata": {},
   "outputs": [],
   "source": [
    "final['CleanedText']=final_string #adding a column of CleanedText which displays the data after pre-processing of the review "
   ]
  },
  {
   "cell_type": "code",
   "execution_count": 18,
   "metadata": {},
   "outputs": [
    {
     "data": {
      "text/html": [
       "<div>\n",
       "<style scoped>\n",
       "    .dataframe tbody tr th:only-of-type {\n",
       "        vertical-align: middle;\n",
       "    }\n",
       "\n",
       "    .dataframe tbody tr th {\n",
       "        vertical-align: top;\n",
       "    }\n",
       "\n",
       "    .dataframe thead th {\n",
       "        text-align: right;\n",
       "    }\n",
       "</style>\n",
       "<table border=\"1\" class=\"dataframe\">\n",
       "  <thead>\n",
       "    <tr style=\"text-align: right;\">\n",
       "      <th></th>\n",
       "      <th>Id</th>\n",
       "      <th>ProductId</th>\n",
       "      <th>UserId</th>\n",
       "      <th>ProfileName</th>\n",
       "      <th>HelpfulnessNumerator</th>\n",
       "      <th>HelpfulnessDenominator</th>\n",
       "      <th>Score</th>\n",
       "      <th>Time</th>\n",
       "      <th>Summary</th>\n",
       "      <th>Text</th>\n",
       "      <th>CleanedText</th>\n",
       "    </tr>\n",
       "  </thead>\n",
       "  <tbody>\n",
       "    <tr>\n",
       "      <td>138706</td>\n",
       "      <td>150524</td>\n",
       "      <td>0006641040</td>\n",
       "      <td>ACITT7DI6IDDL</td>\n",
       "      <td>shari zychinski</td>\n",
       "      <td>0</td>\n",
       "      <td>0</td>\n",
       "      <td>positive</td>\n",
       "      <td>939340800</td>\n",
       "      <td>EVERY book is educational</td>\n",
       "      <td>this witty little book makes my son laugh at l...</td>\n",
       "      <td>b'witti littl book make son laugh loud recit c...</td>\n",
       "    </tr>\n",
       "    <tr>\n",
       "      <td>138688</td>\n",
       "      <td>150506</td>\n",
       "      <td>0006641040</td>\n",
       "      <td>A2IW4PEEKO2R0U</td>\n",
       "      <td>Tracy</td>\n",
       "      <td>1</td>\n",
       "      <td>1</td>\n",
       "      <td>positive</td>\n",
       "      <td>1194739200</td>\n",
       "      <td>Love the book, miss the hard cover version</td>\n",
       "      <td>I grew up reading these Sendak books, and watc...</td>\n",
       "      <td>b'grew read sendak book watch realli rosi movi...</td>\n",
       "    </tr>\n",
       "    <tr>\n",
       "      <td>138689</td>\n",
       "      <td>150507</td>\n",
       "      <td>0006641040</td>\n",
       "      <td>A1S4A3IQ2MU7V4</td>\n",
       "      <td>sally sue \"sally sue\"</td>\n",
       "      <td>1</td>\n",
       "      <td>1</td>\n",
       "      <td>positive</td>\n",
       "      <td>1191456000</td>\n",
       "      <td>chicken soup with rice months</td>\n",
       "      <td>This is a fun way for children to learn their ...</td>\n",
       "      <td>b'fun way children learn month year learn poem...</td>\n",
       "    </tr>\n",
       "    <tr>\n",
       "      <td>138690</td>\n",
       "      <td>150508</td>\n",
       "      <td>0006641040</td>\n",
       "      <td>AZGXZ2UUK6X</td>\n",
       "      <td>Catherine Hallberg \"(Kate)\"</td>\n",
       "      <td>1</td>\n",
       "      <td>1</td>\n",
       "      <td>positive</td>\n",
       "      <td>1076025600</td>\n",
       "      <td>a good swingy rhythm for reading aloud</td>\n",
       "      <td>This is a great little book to read aloud- it ...</td>\n",
       "      <td>b'great littl book read nice rhythm well good ...</td>\n",
       "    </tr>\n",
       "    <tr>\n",
       "      <td>138691</td>\n",
       "      <td>150509</td>\n",
       "      <td>0006641040</td>\n",
       "      <td>A3CMRKGE0P909G</td>\n",
       "      <td>Teresa</td>\n",
       "      <td>3</td>\n",
       "      <td>4</td>\n",
       "      <td>positive</td>\n",
       "      <td>1018396800</td>\n",
       "      <td>A great way to learn the months</td>\n",
       "      <td>This is a book of poetry about the months of t...</td>\n",
       "      <td>b'book poetri month year goe month cute littl ...</td>\n",
       "    </tr>\n",
       "  </tbody>\n",
       "</table>\n",
       "</div>"
      ],
      "text/plain": [
       "            Id   ProductId          UserId                  ProfileName  \\\n",
       "138706  150524  0006641040   ACITT7DI6IDDL              shari zychinski   \n",
       "138688  150506  0006641040  A2IW4PEEKO2R0U                        Tracy   \n",
       "138689  150507  0006641040  A1S4A3IQ2MU7V4        sally sue \"sally sue\"   \n",
       "138690  150508  0006641040     AZGXZ2UUK6X  Catherine Hallberg \"(Kate)\"   \n",
       "138691  150509  0006641040  A3CMRKGE0P909G                       Teresa   \n",
       "\n",
       "        HelpfulnessNumerator  HelpfulnessDenominator     Score        Time  \\\n",
       "138706                     0                       0  positive   939340800   \n",
       "138688                     1                       1  positive  1194739200   \n",
       "138689                     1                       1  positive  1191456000   \n",
       "138690                     1                       1  positive  1076025600   \n",
       "138691                     3                       4  positive  1018396800   \n",
       "\n",
       "                                           Summary  \\\n",
       "138706                   EVERY book is educational   \n",
       "138688  Love the book, miss the hard cover version   \n",
       "138689               chicken soup with rice months   \n",
       "138690      a good swingy rhythm for reading aloud   \n",
       "138691             A great way to learn the months   \n",
       "\n",
       "                                                     Text  \\\n",
       "138706  this witty little book makes my son laugh at l...   \n",
       "138688  I grew up reading these Sendak books, and watc...   \n",
       "138689  This is a fun way for children to learn their ...   \n",
       "138690  This is a great little book to read aloud- it ...   \n",
       "138691  This is a book of poetry about the months of t...   \n",
       "\n",
       "                                              CleanedText  \n",
       "138706  b'witti littl book make son laugh loud recit c...  \n",
       "138688  b'grew read sendak book watch realli rosi movi...  \n",
       "138689  b'fun way children learn month year learn poem...  \n",
       "138690  b'great littl book read nice rhythm well good ...  \n",
       "138691  b'book poetri month year goe month cute littl ...  "
      ]
     },
     "execution_count": 18,
     "metadata": {},
     "output_type": "execute_result"
    }
   ],
   "source": [
    "final.head() #below the processed review can be seen in the CleanedText Column "
   ]
  },
  {
   "cell_type": "code",
   "execution_count": 19,
   "metadata": {},
   "outputs": [],
   "source": [
    "# store final table into an SQlLite table for future.\n",
    "conn = sqlite3.connect('final.sqlite')\n",
    "c=conn.cursor()\n",
    "conn.text_factory = str\n",
    "final.to_sql('Reviews', conn, schema=None, if_exists='replace', index=True, index_label=None, chunksize=None, dtype=None)"
   ]
  },
  {
   "cell_type": "markdown",
   "metadata": {},
   "source": [
    "# Bag of Words (BoW)"
   ]
  },
  {
   "cell_type": "code",
   "execution_count": 20,
   "metadata": {},
   "outputs": [
    {
     "data": {
      "text/html": [
       "<div>\n",
       "<style scoped>\n",
       "    .dataframe tbody tr th:only-of-type {\n",
       "        vertical-align: middle;\n",
       "    }\n",
       "\n",
       "    .dataframe tbody tr th {\n",
       "        vertical-align: top;\n",
       "    }\n",
       "\n",
       "    .dataframe thead th {\n",
       "        text-align: right;\n",
       "    }\n",
       "</style>\n",
       "<table border=\"1\" class=\"dataframe\">\n",
       "  <thead>\n",
       "    <tr style=\"text-align: right;\">\n",
       "      <th></th>\n",
       "      <th>Id</th>\n",
       "      <th>ProductId</th>\n",
       "      <th>UserId</th>\n",
       "      <th>ProfileName</th>\n",
       "      <th>HelpfulnessNumerator</th>\n",
       "      <th>HelpfulnessDenominator</th>\n",
       "      <th>Score</th>\n",
       "      <th>Time</th>\n",
       "      <th>Summary</th>\n",
       "      <th>Text</th>\n",
       "      <th>CleanedText</th>\n",
       "    </tr>\n",
       "  </thead>\n",
       "  <tbody>\n",
       "    <tr>\n",
       "      <td>178029</td>\n",
       "      <td>193048</td>\n",
       "      <td>B00023323W</td>\n",
       "      <td>A26X56TW77KQR6</td>\n",
       "      <td>Scott Law</td>\n",
       "      <td>10</td>\n",
       "      <td>10</td>\n",
       "      <td>positive</td>\n",
       "      <td>1138147200</td>\n",
       "      <td>Don't be fooled - this sauce rules!</td>\n",
       "      <td>I just got back from a trip to St. Maarten and...</td>\n",
       "      <td>b'got back trip maarten tabl restaur bottl sau...</td>\n",
       "    </tr>\n",
       "    <tr>\n",
       "      <td>513189</td>\n",
       "      <td>554867</td>\n",
       "      <td>B000TYF4DA</td>\n",
       "      <td>AONPBVP3HC4TU</td>\n",
       "      <td>Rocko</td>\n",
       "      <td>2</td>\n",
       "      <td>2</td>\n",
       "      <td>positive</td>\n",
       "      <td>1306800000</td>\n",
       "      <td>Kellogg's variety pack</td>\n",
       "      <td>Yes you can buy something similar at the groce...</td>\n",
       "      <td>b'yes buy someth similar groceri store nice bu...</td>\n",
       "    </tr>\n",
       "    <tr>\n",
       "      <td>335297</td>\n",
       "      <td>362798</td>\n",
       "      <td>B000LQNK6E</td>\n",
       "      <td>A3A6RQ2P4X9VVN</td>\n",
       "      <td>Rosendo</td>\n",
       "      <td>0</td>\n",
       "      <td>0</td>\n",
       "      <td>positive</td>\n",
       "      <td>1344816000</td>\n",
       "      <td>Best Ramen Ever!!!</td>\n",
       "      <td>If you're looking for outstanding taste, consi...</td>\n",
       "      <td>b'your look outstand tast consist conveni pack...</td>\n",
       "    </tr>\n",
       "    <tr>\n",
       "      <td>4697</td>\n",
       "      <td>5099</td>\n",
       "      <td>B004157PZI</td>\n",
       "      <td>A2IUXT71YHHULC</td>\n",
       "      <td>Junaid A. Bholat \"J Bholat\"</td>\n",
       "      <td>3</td>\n",
       "      <td>3</td>\n",
       "      <td>positive</td>\n",
       "      <td>1329350400</td>\n",
       "      <td>best and truthfull company</td>\n",
       "      <td>this is the best halal beef jerky i have ever ...</td>\n",
       "      <td>b'best halal beef jerki ever tast also compani...</td>\n",
       "    </tr>\n",
       "    <tr>\n",
       "      <td>35098</td>\n",
       "      <td>38171</td>\n",
       "      <td>B0027UQYZQ</td>\n",
       "      <td>A14XRI4U6BRG8T</td>\n",
       "      <td>Dw</td>\n",
       "      <td>1</td>\n",
       "      <td>1</td>\n",
       "      <td>positive</td>\n",
       "      <td>1310774400</td>\n",
       "      <td>Worth the expensive price</td>\n",
       "      <td>I bought this product because I needed freezer...</td>\n",
       "      <td>b'bought product need freezer tray tri use rem...</td>\n",
       "    </tr>\n",
       "  </tbody>\n",
       "</table>\n",
       "</div>"
      ],
      "text/plain": [
       "            Id   ProductId          UserId                  ProfileName  \\\n",
       "178029  193048  B00023323W  A26X56TW77KQR6                    Scott Law   \n",
       "513189  554867  B000TYF4DA   AONPBVP3HC4TU                        Rocko   \n",
       "335297  362798  B000LQNK6E  A3A6RQ2P4X9VVN                      Rosendo   \n",
       "4697      5099  B004157PZI  A2IUXT71YHHULC  Junaid A. Bholat \"J Bholat\"   \n",
       "35098    38171  B0027UQYZQ  A14XRI4U6BRG8T                           Dw   \n",
       "\n",
       "        HelpfulnessNumerator  HelpfulnessDenominator     Score        Time  \\\n",
       "178029                    10                      10  positive  1138147200   \n",
       "513189                     2                       2  positive  1306800000   \n",
       "335297                     0                       0  positive  1344816000   \n",
       "4697                       3                       3  positive  1329350400   \n",
       "35098                      1                       1  positive  1310774400   \n",
       "\n",
       "                                    Summary  \\\n",
       "178029  Don't be fooled - this sauce rules!   \n",
       "513189               Kellogg's variety pack   \n",
       "335297                   Best Ramen Ever!!!   \n",
       "4697             best and truthfull company   \n",
       "35098             Worth the expensive price   \n",
       "\n",
       "                                                     Text  \\\n",
       "178029  I just got back from a trip to St. Maarten and...   \n",
       "513189  Yes you can buy something similar at the groce...   \n",
       "335297  If you're looking for outstanding taste, consi...   \n",
       "4697    this is the best halal beef jerky i have ever ...   \n",
       "35098   I bought this product because I needed freezer...   \n",
       "\n",
       "                                              CleanedText  \n",
       "178029  b'got back trip maarten tabl restaur bottl sau...  \n",
       "513189  b'yes buy someth similar groceri store nice bu...  \n",
       "335297  b'your look outstand tast consist conveni pack...  \n",
       "4697    b'best halal beef jerki ever tast also compani...  \n",
       "35098   b'bought product need freezer tray tri use rem...  "
      ]
     },
     "execution_count": 20,
     "metadata": {},
     "output_type": "execute_result"
    }
   ],
   "source": [
    "# To get 2k +ve and 2k -ve reviews randomly. \n",
    "# I have reduced the no of reviews to 200 as sysytem not responding for more than 1000\n",
    "\n",
    "data_pos = final[final[\"Score\"] == \"positive\"].sample(n = 200)\n",
    "data_neg = final[final[\"Score\"] == \"negative\"].sample(n = 200)\n",
    "final_4000 = pd.concat([data_pos, data_neg])\n",
    "final_4000.head()"
   ]
  },
  {
   "cell_type": "code",
   "execution_count": 21,
   "metadata": {},
   "outputs": [
    {
     "data": {
      "text/plain": [
       "(400,)"
      ]
     },
     "execution_count": 21,
     "metadata": {},
     "output_type": "execute_result"
    }
   ],
   "source": [
    "score_4000 = final_4000[\"Score\"]\n",
    "score_4000.shape"
   ]
  },
  {
   "cell_type": "code",
   "execution_count": 22,
   "metadata": {},
   "outputs": [
    {
     "data": {
      "text/plain": [
       "array([b'got back trip maarten tabl restaur bottl sauc love first tast put tuna filet total hot sauc heaven brought bottl back sure surviv month order much incred sauc',\n",
       "       b'yes buy someth similar groceri store nice buy amazon ship state arriv destin arizona undamag everyon love someth box none cereal stale great concern mine',\n",
       "       b'your look outstand tast consist conveni packag one order ramen one best tast ramen noddl let add pretti spici like your spici food wont like',\n",
       "       b'best halal beef jerki ever tast also compani truli give orthodox muslim good choic buy call ask slaughter process quick give answer unlik muslim compani tri deceiv consum',\n",
       "       b'bought product need freezer tray tri use remaind gift card glad gift card toward product know expens reason enjoy use often everi day think like feel like realli get money worth silicon make easi clean durabl breez pop food without worri break devic like lid part realli feel like best could make lid fit proper snugg size cube perfect need good help size never need feed babi anymor one sit dont wast lot food babi doesnt leav want suggest product small freezer standard size therefor thing freezer burn freezer doubl rate due issu noth product overfil cube top touch lid freezer burn abl form transfer freezer bag cube bigger thaw night refridger midday thaw way easi heat food even gave four instead five star simpli could devis snap lock lid system money charg made overal outstand item also price point littl high sure even close much money put togeth silicon think babi item reason price even littl less fortun enjoy qualiti babi product way freez food',\n",
       "       b'celesti season green tea antioxid type light refresh mild amount caffein tea insid individu bag easi use put one two bag cup add boil water let steep minut enjoy shipment arriv fine shape broken packag mangl product delight share feel product superior manner amazon handl order',\n",
       "       b'alway sold store kid love quick easi meal fast tast great kid love wish lower salt content though overal realli good product',\n",
       "       b'son love cereal breast fed babi start introduc blend fruit veggi mix happybelli happi babi ad benefit love play can',\n",
       "       b'six year old son celiac diseas cant eat thing brother sister love oatmeal hasnt abl found order right away love doesnt care raisin could chang anyth would option select box flavor like great price box oatmeal high recommend product',\n",
       "       b'shirakiku udon soup tasti quick make low calori tend spice bit schichimi togarashi japaqnes red pepper season dice tomato assort asian season',\n",
       "       b'search local tea cocoa pruduct found coffe delight find tea cocoa product amazon com enjoy product seller prompt effici',\n",
       "       b'black tiger coffe peopl like strong bitter coffe think ive made perfect choic',\n",
       "       b'product tast good cannot stop eat start order use healthi snack overeat everi time could never make serv per bag cautious portion focus addict',\n",
       "       b'best gum ever bad dri mouth gum tast wonder keep flavor long time unfortun flavor discontinu lucki far abl buy worri one day wont avail',\n",
       "       b'use carton box take flavor box wish still came tin can take flavor box',\n",
       "       b'consist syrup almost carb cal product consider runnier normal syrup get past tast actual much better expect husband didnt care much tri keep cold put pancak wasnt good way recommend leav bottl room temperatur pour pancak right stove griddl soak pancak warm bit use bob red mill bake mix make pancak accord recip back packag syrup may tast differ differ pancak',\n",
       "       b'realli like tea slight sweet tast much better chia tea purchas get',\n",
       "       b'love favor nong shim noodl howev flavor best kid love will give frensh fri',\n",
       "       b'realli want enjoy cup english tea make cup put tea bag first pour fresh boil water add sweeten milk tast make tea pot first warm teapot put one tea bag per cup pour fresh boil water never add water cup requir make fresh pot',\n",
       "       b'qualiti tast regular gummi bear great treat snack child especi learn abc learn spell thing keep mind purchas product especi order young child sinc haribo extra stiff peopl come love particular gummi compani small child could pose choke hazard dont chew complet letter big near twice big normal gummi bear would could great learn tool great snack',\n",
       "       b'train tast bud various sauc decid give one tri accord label lab test scovill unit sauc tri suppos sever hundr thousand shu million wasnt expect sauc hot convinc lab test scovill unit worth least ten kind also love flavor consist sauc thick pasti hard appli control amount sauc easi pour get right amount',\n",
       "       b'bought tart smart tart cherri concentr ounc bottl day alreadi feel differ take tablespoon day swirl cup nonfat vanilla yogurt healthi delici cherri sunda dessert regist dietitian impress research benefit tart cherri juic',\n",
       "       b'initi tri food pup sampl pack order onlin grandmaluci web site littl skeptic freez dri hmm well let tell much littl guy ador stuff cri beg feed time wait patient cool add hot water littl guy pound doxi finicki eater tri evo merrick enjoy rainbow trout flavor innova lotus california gold realli truli love grandma luci nonsens food ad freez dri straight good also dont put bag size pound make like pound cook food amaz stuff high recommend easi whip add water real deal doggi love stuff light weight wont parish also recommend grandma luci tini littl furri friend anyth one',\n",
       "       b'love thing love flavor somewhat indescrib definit tradit fruit flavor set though vagu fruiti general firm kind gummi definit without question favorit gummi candi one absolut favorit candi',\n",
       "       b'start purchas bar young adult son picki eater like bar eat regular mean includ protein diet purchas bar amazon program ensur bar deliv regular basi better price buy groceri store',\n",
       "       b'best cocoa ever use make chocol cake tast great absolut love product continu buy',\n",
       "       b'research best rtd protein shake ive come conclus labrada lean bodi best tast rtd fan muscl milk labrada tast better give protein similar drink size also like drink doesnt sit stomach reason dont give star price your look quick protein drink look',\n",
       "       b'dog eat california natur dog food almost year seem like easi stomach doesnt seem get bore differ flavor',\n",
       "       b'buy skinless sardin pack water keep intak sodium chloresterol includ tax deliveri feel get money worth cannot get kind sardin local supermarket sardin somewhat tasteless put sardin salad top salad oliv oil red wine vinegar eat sardin sandwich use mustard also salt chloresterol',\n",
       "       b'realli like harmoni valley vegetarian product realli import use genet modifi organ gmo product vegetarian sausag hamburg like sausag slight spicey ad red pepper flake tini bit fennel tast great',\n",
       "       b'first time purchas anyth cat cora kitchen gaea definit purchas tast excel tast better pit oliv bought past except littl bit softer textur reseal pouch nice plus seal good stay fresh soft without dri far complaint cant stop eat open one pack',\n",
       "       b'bought keurig month back pack came machin costco combo pack chose make great coffe fill trash much slower usual cup day cost realli add great less cup',\n",
       "       b'mood snack dont want damag health ice cream potato chip great mix heart healthi come conveni pouch easi carri car offic exampl perfect boost offic satisfi hunger give bodi nutrient',\n",
       "       b'dog love food petco even ship consider bit cheaper buy local would give star dog yet lose weight think might put pound actual could entir fault feed slight much though buy',\n",
       "       b'first year ive made make batch month famili friend absolut love spici wonder flavor add black bean corn almost meal jar high recommend beginn expert',\n",
       "       b'sometim feel like drink coffe replac delici cup vanilla chai tea littl bit low fat milk add sugar still tast good relax mind time continu job relax interfer energi also like drink go bed',\n",
       "       b'realiz energi drink made without caffein stumbl upon product amazon excel concept difficult time consum caffein make jitteri still need littl extra boost get day definit need tri revhoney berri rain concept behind energi boost revhoney made real honey honey blend mix beverag provid ad energi kick excel product actual tast realli good drink revhoney energi boost substitut cola well healthi drink better cola drink would definit recommend product',\n",
       "       b'chose use ice great one word warn skimp nonstick spray',\n",
       "       b'crunch fast instead steep pea mouth let wasabi run onto pallet produc much spicier tast use get hotter flavor let know work thank',\n",
       "       b'realli like think thin protein bar tast great good amount protien',\n",
       "       b'product great tast especi raw food diet drawback oili still well worth cost',\n",
       "       b'howdi yall quit tasti good cereal pretti good protein drink take avoid unwant weight loss decent snack rate four sinc actual better hope take care lee',\n",
       "       b'supplier great deliv product good condit love chip even grandchildren like doesnt last long even buy case',\n",
       "       b'love hot cocoa whole milk littl cream add honey vanilla old time childhood memori come back cocoa powder ive buy health food store someth make feel lousi within hour suspect might dutch process natur cocoa seem natur way saw one review particular chocol notic said mild yet origin cocoa powder natur origin incred sour acid peopl may like tri hot cocoa vari recip mild ad bit powder woo wee best ive sinc becom adult yes add chocol cake worth feel hour well stay stabl drop reason give star mild doesnt mean wont get began notic someth els start crave chocol like use look label high magnesium content might someth way feel found need moment especi higher nutrit content chocol snack nutrit got good real good',\n",
       "       b'dad gotten make beer made great christma present',\n",
       "       b'almost didnt buy coffe said natur artifici flavor hate flavor coffe dont tast weird flavor dark smooth acid coffe like better one quit good',\n",
       "       b'son gluten free took day like kid eat milk dri snack also feed babi bit harder cheerio soak second give babi work fine',\n",
       "       b'authent southern sweet tea green mountain celesti season delici summer beverag keurig owner wife purchas keurig elit gourmet last christma reluct first switch stainless steel french press tri dozen coffe blend wide rang roast flavor avail impress first ice tea follow direct produc strong glass black tea crush ice hint spice although flavor ingredi list evapor cane juic black tea find like tea even better let mixtur sit five minut start drink one serv calori contain caffein exact ingredi evapor cane juic black tea rebiana sweetner stevia tricalcium phosphat natur free flow agent person dont add sugar necessari garnish glass fresh lemon five star green mountain celesti season also offer ice tea special design brew direct ice follow sweet peach black perfect ice tea sweet lemon black perfect ice tea sweeten raspberri perfect ice tea black unsweeten perfect ice tea summer drink main unsweeten ice tea like hous mugicha ito golden oolong mood hit ill look sweet tea found celesti season favor sweet leaf tea origin sweet tea recommend ice tea',\n",
       "       b'current favorit coffe potent smooth autoship option conveni never run price better local store',\n",
       "       b'bought vanilla bean use make homemad vanilla extract vanilla coffe syrup christma gift yum bean fragrant wonder arriv sooner expect bean expect use even project anticip',\n",
       "       b'dad born rais louisiana return home retir seem spend time test bbq hot sauc send bottl come across special find sent bottl louisiana gourmet hot pepper sauc quick note say true louisiana flavor one favorit glad see get onlin run',\n",
       "       b'one sucess celesti season zinger genr case flavor rose hip hibiscus overpow flavor unless brew longer minut aroma rubi potion delici citrus full bodi flavor tea sweet red grapefruit orang tasti imagin would make excel ice tea also caffein free ad vitamin celesti season get extra point util natur recycl paperboard box dont packag tea bag individu instead use system wax paper bag insid box stay shut fold keep bag fresh util less packag individu wrap bag art use box beauti quot inform put everi surfac quot readi favor wind chines proverb',\n",
       "       b'ive drink donut shop bore want tri similar differ coffe purchas coffe peopl organ coffe hate stuck entir box coffe couldnt drink gave mother hate tri perfect got fun tri differ flavor found new flavor go start drink newman sell one costco',\n",
       "       b'newman organ ginger snap ginger cooki great treat cooki small burst ginger flavor firm satisfi snack great boon get five cooki calori cooki fit anyon diet great tast snack fact cooki organ anoth plus cours tast key criteria tasti quick becom famili favorit',\n",
       "       b'sugar pretti darn close newest research show much better sugar artifici sweeten use bake bluberri muffin came fluffier use white sugar although bit less sweet ill back amazon good price',\n",
       "       b'coffe great like espresso coffe love coffe strong peopl may strong use larger amount water keurig wife love strong coffe well strong unless use larger amount water like spanish like coffe wont disappoint',\n",
       "       b'order anni chun seawe snack watch friend much roast seawe search amazon chose two flavor sea gift chose roast sesam flavor flavor ingredi simpler packag small tini rectangl seawe line tray fold piec half stuff mouth find bite seawe get crumb either way still wind piec seawe shirt check mirror eat also piec get stuck teeth like spinach learn check like textur thin light crisp like prefer brand sea gift milder flavor seem fresh detect rancid appreci high vitamin content low calori reach want someth crunchi eat snack meal keep eat cracker also eat along side meal instead cracker',\n",
       "       b'strict bigelow earl grey drinker year reason tast good late want healthier tea realli realli like tea take littl brew cup pot would also suggest tea fort product brew',\n",
       "       b'glad write packag pet food tuna look good enough human consumpt even grill mark packag neat reclos zipper bag cat probabl could believ eye chang dri cat food huh frisk enough one packag least three serv perhap cat love say perfect special treat supplement usual dri food',\n",
       "       b'hot sauc full flavor decent amount heat love garlic flavor purchas',\n",
       "       b'high qualiti ingredi excel deal got price dog seem love extrem import love dogi probabl would given star rather pricey normal basi kind understand great ingredi hard budget afford sometimesoveral great deal',\n",
       "       b'love coffe good rich smooth tast also good coffe smell everi morn well worth money',\n",
       "       b'wife love tea alway order local cafe differ brand brighten day brought home great gift tea lover love',\n",
       "       b'betti crocker angel food cake mix excel buy price great deliveri excel recommend product amazon patricia tubb',\n",
       "       b'pleas coffe like rich coffe fact often prefer dark roast nice flavor coffe occas also like vanilla hubbi like hazelnut terrif combin high recommend',\n",
       "       b'year ago shrimp squid ink pasta dish barcelona stuck sinc dinner vow replic kitchen problem squid ink pasta amaz difficult find even specialti store carri turn amazon solv cant find anywher problem littl skeptic never order dent didnt want sub par pasta ruin memori gave shot soon packag arriv attempt barcelona culinari heaven everyth rememb beauti balanc flavor color dish full delici beauti want tri here quick fresh shrimp shallot garlic cherri tomato qualiti oliv oil toss pasta wont regret happi cook',\n",
       "       b'review food concern gave product unfair food allergi home never buy food product onlin read ingredi list person research best onlin price bought product cube version version past year thrill flavour add soup rice pasta dish sad could deter other purchas product bad wouldnt shelv high recommend anyon doesnt food concern updat march happi see review upgrad rate satisfactori previous',\n",
       "       b'delici product purchas mere warehous deal fulfil amazon com ship free home great bargain come across avail enjoy',\n",
       "       b'nice condition contain natur oil left cur hair lot manag even bath epsom salt didnt much scalp scalp dri hot cold temperatur dont general last long back comb right wet smell favorit doesnt bother use prefer natur pure essenti oil rather chemic scent sure cosmet industri use much titanium dioxid everyth toothpast concern kid around great adult either appar make teeth whiter hair reflect imagin yet cant help wonder daili exposur affect person color product use daili suspect red dye might culprit caus itch coupl use itch could someth els time year thank condition doesnt contain formaldehyd like mani mani shampoo condit caus allerg reaction especi use long time overal work well smell bad favorit scent neither realli great truli natur shampoo condition work nice grab someth store didnt brand would drawn other fair look label good shampoo condition go chemic favorit condition veget glycerin blend sweet peo pure essenti oil respect peo brand great hair dri skin choos creat scent mix oil decid make mani peo blend adulter stretch cheaper oil oil vari wide price instanc orang oil rough ounc real rose oil rose absolut rough per ounc aura cacia respect brand dealer peo other one come mind say blend rose whatev favorit oil elsewher peo plant rose use rose tea open window door rose bloom realli one better see everywher product although like see real natur product work exist mani chemic addit absorb skin philosophi wouldnt eat probabl shouldnt put skin except mud miner bath incred fine bottl well natur occur brand pretti well comparison small nice favorit get tangl rather natur formula make one need jut grab condition good swim pool well pretti good lost star chemic werent need realli desir imho smell bit odd',\n",
       "       b'fabul curri sauc kit spice packet good tasti made beef filet tail initi concern dehydr coconut sauc mix total unfound tasti flavor smooth textur great meal would high recommend busi peopl enjoy good food dont whole lot time',\n",
       "       b'littl worri short shelf life comment bought pack columbia via amazon best date month definit finish bought amazon starbuck store great arriv overs retail style box dispens hatch bottom conveni',\n",
       "       b'abl tri yummi cooki came momvox say dont like raisin took first bite amaz good tast would defiant buy these well famili',\n",
       "       b'receiv shipment yesterday pleas expir cup like review report select great would high recommend anyon',\n",
       "       b'husband love davidsumpkin seed hard find delight find amazon com arriv record time thank amazon com',\n",
       "       b'live small town indian restaur varieti pack excel add basmati rice spice excel premad dish keep stock case need indian food fix dish red bean best varieti nice',\n",
       "       b'target carri recent discontinu guess peopl put lime idea popcorn simpli delici cant eat micro popcorn due dairi ingredi love smell wonder pop lime flavor delic your sure could tast good take look ingredi label bag corn tortilla tortilla chip see lime list lime corn togeth beauti also asid great way eat corn cob littl fresh lime squeez use lawri season salt butter need make well happi find item amazon today order case',\n",
       "       b'found wonder soup six month ago love flavor textur thank much provid tasti conveni soup even better deliv door amazon',\n",
       "       b'dog love toy weimaran rottweil mix chew mani toy disadvantag loud hardwood floor sound like wreck crew',\n",
       "       b'ridicul may coca leaf tea illeg unit state dont believ call local drug enforc peopl actual illeg countri world bolivian govern tri get help unit nation chang idiot law read coca leaf tea complet safe non addict quit tasti though bolivia see feloni state desir ever set foot prison idiot hemp illeg grow even though major crop countri histori idiot law weaken law nation',\n",
       "       b'trident vital rejuv gum white tea refresh gum come long time love work home travel keep eat much junk food',\n",
       "       b'bean make good normal cup coffe bag expir date five month dont know that normal coffe bean wont last month hous anyway',\n",
       "       b'like hot cinnamon best hard candi wish cost lower',\n",
       "       b'nestl cerelac great tast cereal toddler toddler would spit gerber best earth beech nut cereal nestl celerac love mix cerelac regular milk water use drive mile away hous buy cerelac store around area carri live nyc one store carri rice one excit found amazon last year immedi order case can free super saver ship packag cost save time gas mileag deliv doorstep thank amazon',\n",
       "       b'realli like color ad shine glimmer ad similar color enhanc shine make hint shimmer realli cool worth money',\n",
       "       b'pectin essenti homemad preserv jam jelli make fig raspberri preserv everi year could without sure jell pectin exact say need',\n",
       "       b'iut tasti pickl expens consid cost plus ship good nori roll chomp meal pickmeup',\n",
       "       b'lowrey bacon curl microwav pork rind hot spici packag pack order appreci tast fresh pork rind head meat market comparison rind tradit store version bag lowrey microwav pork rind came along creat perfect answer new experi true pork rind fan usual bag creat larg piec smaller bite best way eat immedi remov microwav hot chewi cook time min sec airtight packag arriv spici eater sold store year ago may still amazon place know want everi bag seal wrap store like popcorn need keep box anyth novelti product break ice parti gather enjoy',\n",
       "       b'still food review problem cant turn free coffe said good stuff mellow none bitter edg common lot cheaper stuff sold local groceri store subtract one star review ridicul pretenti copi box drink coffe wont fix world make life fulfil fair sure',\n",
       "       b'love receiv amazon timothi decaf greastest',\n",
       "       b'dont care tast green tea one exceed expect one previous review comment tea delic scent flavor cherri wouldnt expect fruiti green tea nice like hot sweeten littl milk flavor subtl find quit enjoy drinkabl found store glad abl order amazon',\n",
       "       b'mini keurig brewer perfect size small kitchen doesnt realli elimin take cabinet space let say varieti enough spot drawer expect though tell hold pleas conveni root around cabinet find want seem main goal say though drawer could realli improv kind jiggl drawer bit make come hold top plate doesnt slide around counter top could also thrown rubberi grip bottom drawer didnt get nail chalkboard sound slide granit counter top said knew went purchas product conveni price worth',\n",
       "       b'nice cup coffe make find littl expens cut corner anoth item folger live favorit tri sever brand find one kinda like back dont store far alway find amazon com comfort often littl bit cheaper brought door within day',\n",
       "       b'found moth kitchen look internet found strip avail work know',\n",
       "       b'look healthier oil cook corn mix veget oil tri product husband read benefit coconut oil book patient heal thyself bottom line public year ago previous purchas health food store reli stock time order coupl day product wonder arriv plastic contain safer around kitchen long keep cool place keep long time thing dont fri garlic reason combin putrid onion pepper chicken green bean pork chop delici coconut add light sweet flavor',\n",
       "       b'trident gum reason price reciv product day place order',\n",
       "       b'start use undergo chemo breast cancer friend recommend perfect food reserch onlin figur noth lose notic chemo help keep energi level close normal also use six week radiat abl function near normal level back normal definit someth miss run dont order use consist wake without alarm feel clear head dont crave carb sweet may work everyon one ever convinc would better without',\n",
       "       b'use awhil unfortun local store use buy stop car abl find deal amazon love tea think tast great prefer drink herbal tea without much addit mayb littl organ cane sugar almond milk rice milk drink one tea bag everi day felt great notic feel well like mani differ bodi system work diagnos genet form fatti liver lot allergi tea realli help take tea addit himalaya herbal healthcar livercar liver support aka liv take livercar daili mouth one tea bag daili one pill mouth livercar feel great',\n",
       "       b'love cracker dairi gluten soy one buy',\n",
       "       b'pick box chocol went walmart tonight love tri differ exot chocol caught eye love box tiramisu amaz bare huge resembl actual dessert creme bruli recommend chocol would see chocol local walmart got box plus dollar worth tax site ask unless one box shipment dont think good idea get ship option get store',\n",
       "       b'daughter cook packag weekend must say impress tasti indiscern normal cooki also digest issu sometim product defin purchas regular cheer rod',\n",
       "       b'thought love carousel conveni store make handi daili use cat also love box sent cant throw away descript gave understand found exact want thank',\n",
       "       b'get cake mix auto deliveri long rememb sweet organ price great could ask thank amazon',\n",
       "       b'although french roast good gevalia well worth price robust flavor hold well flavor creamer like use',\n",
       "       b'would recommend children healthi snack cracker great',\n",
       "       b'never thought buy type item tri one numer tast test year old like good reason price especi instant coupon come pack box',\n",
       "       b'drank tea sever time day believ work thing need drank throughout day pleasant tast sort remind black better sinc dont realli care black licoric anyway worth shot someon need help up milk suppli',\n",
       "       b'ive start give dog larg breed arent realli old yet most wood tile floor hard joint ive start give hope prevent extent damag pain love small dog isnt old want dont think good sinc thrown piec fair larg dog know shes get real treat havent found flavor dont like although beef seem favorit like seem made usa product sinc lost dog bad dog food epidem sinc ive care give dog',\n",
       "       b'origin bought year old mind theyr yummi eat theyr great healthi snack travel well',\n",
       "       b'good thing didnt overdo vanilla flavor easi standard vanilla flavor artifici vanillin instead use real vanilla bean obtain subtl tast goe nice mild bitter arabica bean want lot vanilla flavor aint want subtl top note real vanilla youll enjoy one',\n",
       "       b'littl crunch addict bought wholefood sale store ever sinc could stop munch thing knew littl bit seed could long way wow',\n",
       "       b'kipper snack herring great way add omega fatti acid diet contain gms omega fish excel sourc protein well gms per smoke flavor right seem combat fishi wish less sodium per wonder sodium hexametaphosph famili like includ son dog love liquid fish meati good solid textur littl liquid like cold pickl beet chees souffl meal grew enjoy mani year dollar tree per right',\n",
       "       b'love much ruin regular peanut butter kid yes sugar dang good huge peanut butter fan could liter eat whole jar fantast addict stuff even bought send mother knew would love tri version think best entir lineup',\n",
       "       b'first purchas product made curios use year realli enjoy even share cousin',\n",
       "       b'bought couldnt find color local granddaught birthday parti want make cupcak color bright big hit kid',\n",
       "       b'first time tahitian vanilla new orlean cook pastri came breakfast tahitian vanilla made differ incredi tast mouth water think famili thought crazi made batch homemad vanilla ice cream use nielsen massey vanilla time one batch use tahitian madigascar blown away differ tast expens suppli less mexican vanilla also differ tast tri dont limit stop use cheap vanilla almost vanilla',\n",
       "       b'amount pyrithion zinc lead scalp shampoo see commerci know one mean think clear better job botan nutrient offer smell refresh use men women smell scream boy',\n",
       "       b'work warehous take quick pick work eat dri flavor great',\n",
       "       b'love product vitamin ad healthi skin coat natur someth dog love littl big side cut get small bite littl high side cost havent found anyth yet benefit combo chix sweetpotato continu purchas compani',\n",
       "       b'one cat got sick month ago surgeri later came back home weak skinni cours appetit vet recommend spoil give whatev like would eat tri cat food brand avail amazon com even expens final friski favorit dear wicket sinc ordeal wicket becam spoil eat friski also fresli open good anoth cat two dog recycl',\n",
       "       b'fri first turkey thanksgiv read lot process look best recip tip cam across season kit turn amaz everyon declar turkey best theyd ever felt bad mom alway cook thanksgiv didnt want feel hurt later also said best turkey came everyth need turkey research buy use youll best turkey everi',\n",
       "       b'carnat chocol malt mix make best chocol malt creat add vanilla ice cream fabul malt use make best hot chocol ever tast need mix milk marshmallow two',\n",
       "       b'like get three bottl instead buy gallon size use fri save oliv oil salad dress',\n",
       "       b'treat pup eat made usa wheat free size treat right medium larg dog',\n",
       "       b'purchas two seller penguin mint fulfil amazon arriv fresh condit better regular size pop approx equival total weight thick take liter hour get piec soft enough chew great satisfi sweet tooth actual littl sugar per hour enjoy cours brush sugari snack import sinc take long consum even small portion bath teeth sugar long period time take fast lane caviti also best quick rins wrap wax paper plastic wrap place fridg storag nibbl session',\n",
       "       b'chocol truffl rich mouth water good delic flavor melt mouth spous two holiday guest lbs kilogram disappear three day',\n",
       "       b'use backpack tast like milk white water like powder milk high calor content per ounc mix well cold water mix hot water test sever hiker use due tast high calori per wish could give six star californi tri stater bros infant formula section',\n",
       "       b'german shepherd picki eater switch fromm dri dog food golden retriev skin issu well clear switch fromm usa sourc well high recommend',\n",
       "       b'tri increas consumpt tea general green tea specif increas antioxid good place start past found green tea littl bland tea littl flavor tea therefor like standard black tea accustom would also suggest earl grey irish breakfast green tea reason flavor tri make pitcher tea half green tea half black tea husband green tea hater even drink tea prepar half half manner without complaint high recommend tea look green tea flavor',\n",
       "       b'flour wonder gluten free mama websit great find easi tasti recip hamburg bun famili favorit also use make great pancak donut pizza',\n",
       "       b'use love twizzler tri sale store best licoric ever tast make twizzler tast like garbag soft moist chewi burst flavor cheap well worth price',\n",
       "       b'day gourmet chees luxuri afford know one eye block sharp cheddar chees imagin good itd tast gasp price pinch penni shouldnt mean sacrif tast enter kraft easi chees kraft easi chees afford top saturday night cracker simpli grab box favorit salt snack ryder cheesi movi pun intend squeez away chees pleas sorri bill collector call prefer camembert doesnt import doesnt want pay rent time dont take word though order today pay credit card time kraft easi save money without sacrif tast',\n",
       "       b'enjoy product tasti easi fix add littl bit chicken meal like fact product gluten free',\n",
       "       b'got wish couldnt better flavor one got accept got differ flavor great varieti',\n",
       "       b'usual think nut chocol togeth imagin typic candi happen nut insid emerald cocoa roast almond surpris departur candi path nut dust fine layer dark chocol power mean almond flavor primari subtl chocol background person love flavor felt like get best world healthi snack bit zing typic offer mood someth munch without resort candi would someth consid possibl anoth nice featur packag lid measur serv use bowl nut goe long way toward avoid typic portion size good flavor help packag probabl wont last purchas almond',\n",
       "       b'gotten drink ice tea made fresh brew organ green white red south african rooibo tea everi day relat easi get green white tea dont cost lot easi get organ rooibo good price well one excel sure great price amazon plus get addit discount sign regular ship everi month three month six month make sens regular tea drinker like amazon let cancel time prior next shipment tea good bodi excel flavor good color rooibo best brew allow steep minut top zero caffein report time antioxid green tea also calm properti henc make perfect bedtim tea also make great ice tea either combin tea make',\n",
       "       b'go youv probabl alreadi look regard tast surpris good ive offer coupl famili member person said tast better look look bad pack cranberri one would expect didnt skimp creat product quit sure would pay pack bought lightn deal say satisfi would similar condit',\n",
       "       b'outstand product complaint energi drink that also peopl buy fruit juic load vitamin tast incred good caffein bit strong cant resist flavor one work either sinc brought peopl tast like synthet plastic tast energi drink mayb wont appeal delici fruiti flavor without toxic flavor energi drink kind energi drink peopl dont like energi drink youv never tri youll like',\n",
       "       b'wife low carb diet well low carb diet small breakfast time make egg bacon hard get coffe without peanut butter say use cracker like kavli crispbread get peanut butter sinc rememb think dan mari ead protien power plan late mani year ago found best could find wegman groceri store pennsylvania armi move fort knox find kroger recent cannot seem find either order come fast broken fresh also cost purchas onlin pay deliveri wast time look one wife hate opnen thing found best way cut end cellophan scissor prevent crack thin bread',\n",
       "       b'product arriv time wife love sometim hard find store costco offer less often',\n",
       "       b'son got rave review track team flavor tast product sever kid want know buy bad avail year round',\n",
       "       b'cat love food must gravi like indoor can food rice green ship quick price amazon good',\n",
       "       b'interstiti cystiti unabl chocol depress tri find chocol substitut noth seem give chocol fix found wonder product chatfield carob powder closest thing tast chocol believ tri mani mani brand favorit recip far includ carob latt recip back browni carob cooki husband picki said wouldnt told carob would never known unabl eat chocol want healthier version high recommend',\n",
       "       b'tri whim local health food store complet enamor product serv bosc pear hit crisp sweet pear tangi creami tast chocol goat chees marvel oppos match give chees high mark dessert chees other must like live reserv log log sold',\n",
       "       b'love love love soup tasti cook quick conveni peopl dont need barrel soup one dri soup mix ive found doctor flavor tri youll love like good bean soup',\n",
       "       b'purchas watch show look sugar substitut doesnt side effect take littl get use differ tast measur like sugar nice whole wheat chocol chip cooki work like sugar pale brown act like brown sugar tast littl like also glad safe choic suppos spike blood sugar think worth adjust tast amazon best offer product place look',\n",
       "       b'discov whole food year ago sinc fan flavor closer fanta anoth classic orang soda energi drink like redbul imo undrink without vodka made organ ingredi quantiti caffein insignific ive tri flavor though dont work well orang havent tri recommend order pick pack nearest whole food one review point tea like tast order amazon nov distinct flavor believ experiment batch flavor sinc revert orang soda flavor',\n",
       "       b'yes oliv remind vacat europ know live eat item came strong plastic bag help hint might want save two larg use glass jar arriv put oliv rememb add littl water top oliv mixtur right salti say enjoy',\n",
       "       b'receiv product via amazon vine test review must say condition work well fine hair coupl condition brand shampoo hair seem healthier shini defin softer soft clean scent great result get condition make give recommend',\n",
       "       b'weimaran sensit stomach terribl skin allergi tri mani sensit stomach type food dog food doesnt aggrav dog stomach skin',\n",
       "       b'emergen acai berri day count wow differnc feel great get readi back school sick day take morn acai berri sweet add water less sweeten',\n",
       "       b'great product dog absolut love great teeth great moral give coton treat everi morn leav work product amazon consider cheaper local petstor size perfect dog',\n",
       "       b'bought amazon run buy get sale made jack link product cheaper dog treat avail pet store price per ounc actual cours pup think theyv run good dog truck write angri rebutt tell good dog let assur realli treat especi good sometim rare snip stick round kitchen shear long way smell get actual meat anim like walk bakeri smell enough thank',\n",
       "       b'soup famili favorit mileag may vari like price conveni order product subscript basi',\n",
       "       b'actual didnt tast like graham cracker textur light crisp yet pack dens tast like appl cinnamon oatmeal without tart tast appl mine arriv crush tast piec saw roll oat embed grab bowl milk hog heaven perfect addit breakfast cereal morn melt quick delici could use oat enough give fresh roll oat flavor',\n",
       "       b'bought time ago final got around eat recent expir date time plenti time consum initi purchas date packag gold foil plastic envelop come ship cool real wooden box tast good world over smokey meat moist tender probabl wouldnt buy unless went sale',\n",
       "       b'great french press heavi yet full bodi would definit purchas great price also',\n",
       "       b'tug jug great dog toy mini doxi fritzi need step program caus jug time becom favorit toy spend hour tri get everi last bit treat exhast quit work need nap ward problem tug part last five minut chew right realli dont need put larger treat mix littl one work fine',\n",
       "       b'famili love fred meyer creami peanut butter honey shop amazon found skippi brand honey decid give tri disappoint good',\n",
       "       b'ive normal order senseo brand pod coffe maker grindmast longer avail thought would give kona tri love make good smooth strong enough coff probabl wouldnt back littl expens pod come foil pouch downsid order extra bold tri also pod dont fit thick',\n",
       "       b'like chocol also like shortbread cooki must miniatur pop bunch mouth good combin',\n",
       "       b'excel best ever coffe bean smooth great flavor bought bag gift one lbs isnt near enough ill back',\n",
       "       b'price pine nut go seem like price everi month reason buy bulk',\n",
       "       b'slice food look satisfi juici gravi chunk meat look fill doesnt smell bad great can tini can easi open dont get kitti food splash seem lick plate fanci feast product winner hous great product reason gave star instead kitti fanci feast loaf varieti pack doesnt seem mind littl someth differ long still tasti one seem',\n",
       "       b'favorit prepar food add pull apart chicken breast broken tortilla chip fresh made chip recip bag worth dont alway fresh tortilla hand small rotel dice tomato famili doesnt stop ask',\n",
       "       b'realli like smell tast realli good doesnt smell tast like cheesecak though like buttercream frost still realli good',\n",
       "       b'realli love flavor add ice tea water fruit sauc etc one drop goe long way',\n",
       "       b'hand one best packag marinara sauc ever tast tomato oregano merg perfect harmoni rich chuncki textur mass produc blend product someon realli care stuff',\n",
       "       b'keurig one best purchas ever made dont drink soda drink tea instead mint medley favorit bigelow done great job get enough tea',\n",
       "       b'stuff great famili tradit pancak everi saturday morn ive tri number whole grain mix one best',\n",
       "       b'coffe expert make good cup coffe prime subscript dirt cheap qualiti',\n",
       "       b'popcorn right amount overpow tast like candi definit tell kettl corn portion size also perfect one person consid relat big eater time done one bag pretti satisfi most take much time get one also like nutrit breakdown lot fiber solid amount protein sugar sure fat overal almost perfect ratio fat carb protein ad benefit fiber lack sugar great snack cant think food item calori tast good even margin good nutrient breakdown tide hour',\n",
       "       b'peanut sauc incred littl bite though add peanut butter mellow your sensit heat love best wrap',\n",
       "       b'candi fresh delici nougat candi soft melt mouth almond nice crisp remind childhood grandma gave piec everi day treat own larg italian groceri store kept counter brand tast ident except candi',\n",
       "       b'fresh beauti mushroom great soak sherri beef broth drain put risotto use broth sherri mixtur part stock need risotto great',\n",
       "       b'travel world love drink coffe world finish bag camano island roast coffe let tell excel light roast bean choos peru light roast full bodi low acid tast put camano island roast bean blue mountain kona costa rician thailand bean roaster know coffe alway fresh well pack back much plus join club hassl order discount price free ship star way around roll tide roll terrel',\n",
       "       b'ketchup kind prefer heinz gail cook',\n",
       "       b'dont usual write gum review gum great tri mani differ brand trident stride orbit ect gum hand better qualiti last twice long trident experi flavor last hour depend vigor chew gum actual mint tast last lot longer sweet best thing though tast natur mint leaf tast right bite shell coat get liquid layer burst nice herbal qualiti fill whole mouth feel kinda cold realli nice make breath fresher product use import go keep buy long sell',\n",
       "       b'rais mint best judg commerci tea found superior qualiti think make littl stronger usual add fresh mint well refresh drink cold weather right fridg break winter doldrum serv hot winter would awesom good humus pita bread enjoy',\n",
       "       b'love hot first tri fulfil requir took awhil built use one drop seven drop two egg sure doesnt make regular tobasco sauc tast spici hot overal tast good took five month use entir bottl use spare',\n",
       "       b'best price order amazon much cheaper compani websit brand good qualiti happi thier product',\n",
       "       b'beef jerki lover like jerki best tast stuff ive found anywher flavor great black pepper opinion best wood smoke littl dri still good would recommend anybodi',\n",
       "       b'add liter bottl seltzer water refresh fabul tast altern soda recommend',\n",
       "       b'love tea english extract use drink strong english breakfast type tea nice flavor over strong unless steep long time hint bergamot liven strong tea tast much less bergamot earl grey read anoth review tea someon said ahmad english afternoon loos tea actual english tea teabag also bought tin anoth vendor tast pretti much use loos tea teapot bag make quick cuppa',\n",
       "       b'tast bali best ice tea candi found flavor spot like cup sweet tea tasti sinc good job candi decid tri green tea latt candi sinc enjoy green tea well difficult describ tast candi milk flavor add creami that reminisc butterscotch instead cloy butter flavor there fresh green tea flavor littl tannic edg aftertast natur sugar add right amount sweet may creat perfect green tea candi everi flavor ingredi list short natur candi enjoy long time without get sick pack last long time great bargain',\n",
       "       b'tea easili one best davidson line intox blend rich cherri scrumptious almond tea also honey note make sweet brew scent alon enough make anyon smile tast perfect temperatur ive tri hot use ice tea delight result everi time high recommend',\n",
       "       b'use powder peanut butter smoothi easi way use purpos messi clean saw hungri girl use decid give tri',\n",
       "       b'far week cat love thing use wrestl match get pill back throat cant recommend thing enough',\n",
       "       b'busi owner contact made thing right would definit buy recommend product impress engag servic follow',\n",
       "       b'incontin doggi tri kind solut found wonder diaper although full pee slide solv second cloth diaper simpl solut washabl diaper top dispos one hold place washabl diaper couldnt handl full load pee leak bad wherea dispos wee wee diaper soak leak combin great',\n",
       "       b'recent got mini aussi puppi determin feed scienc diet pet eat year vet recommend aforement kibbl horrifi actual took time read ingredi shame look suppos better late never start research best dog food avail one came sever differ list tri well neither pug puppi would touch food howev winner provid grain free nutriti meal puppi love well',\n",
       "       b'one dog older beagl basset mix brother dog corgi mix let three dog tri funbit dog love funbit fact dog small dog may hard time funbit diamet inch funbit beef rawhid exterior dog chew gnaw center artifici peanut butter marrow must tast good dog work get rawhid get treat insid like treat keep dog occupi leav mess hous funbit rawhid exterior keep dog busi treat coat sauc anyth clean indoor use also like know give dog main ingredi funbit beef hide rice protien fat accord packag also interest ingredi call papain suppos good digest system littl research papain enzym found papaya mani use found wide varieti product util break tough meat fibr use thousand year nativ south america sold compon powder meat tenderis avail supermarket happi funbit dog enjoy funbit keep busi chew away rawhid exterior funbit dont leav mess hous funbit dog snack good dog general health papain enzym may also benefici digest health overal dog owner would well best friend buy funbit',\n",
       "       b'organ agav nectar light delici pack bottl ounc make outstand buy compar groceri store health food store price ship speedi even need addit shipment quick especi love flavor tea coffe fresh cornbread french toast waffl tri cut back sugar product excel',\n",
       "       b'busi kitchen fresh pie llc diabet custom want qualiti expect homemad pie without sugar order bob red mill unsweeten coconut use thanksgiv sugar free custom got rave review sugar free pie comment oooh smell could tast smell held well even sucralos sweeten gell stood meringu slice even coconut delici thank great product busi custom life kelli storey kitchen fresh pie llc flynn',\n",
       "       b'ive road bike consum energi gel almost ten year tell theyr creat equal high amount caffein sugar bad sugar give shake almost hallucinogen state realli long ride honey stinger gel like keep energi easi eat littl water often consum half finish later depend effort negat cheap price would buy twice much bad deal like also great work energi booster',\n",
       "       b'littl ago discov sobe lifewat drink like antioxid addit well vitamin zero calori suit well flavor good size bottl fit need well take along daili walk right amount first tri black blue berri varieti like today yumberri pomegran varieti like better nice refresh drink gari peterson',\n",
       "       b'delic slight sweet cracker good put bowl munch wine drinker eat realli enjoy mild tast well chees fruit hard find florida popular north use live abl find order amazon',\n",
       "       b'nice white chocol bar crunchi hazelnut ritter love chocol cover biscuit fine piec candi think need someth like biscuit type flavor offset waxi white chocol hazelnut good product would better biscuiti crunch rice cereal give bit oomph',\n",
       "       b'good qualiti product difficulti find hungarian paprika local market amazon offer wide varieti product offer set good price quit satisfi would order',\n",
       "       b'tea good sweet need extra sweeten also less expens buy store',\n",
       "       b'wonder chang corn beef great morn meal substitut ham salti fatti ham corn beef',\n",
       "       b'mollusk found california mexico place look real abalon want fact label say abalon like',\n",
       "       b'clear made seller call coca tea actual box individu packet say coca tea list ingredi effect notic either',\n",
       "       b'tri hope would anoth good stapl pantri didnt like well brand buy combin cook pasta homemad chees sauc far worst mac chees ive ever made pasta didnt combin sauc go back tri true quinoa pasta',\n",
       "       b'expect bit flavor coffe robust would like name coffe doesnt reflect actual flavor sorri negat review written year',\n",
       "       b'mayb daft cant make decent espresso pod machin ive tri tamp doesnt work well ive tri place filter case get wateri dribbl espresso european product think ikea print instruct english line art draw perhap someth wrong like concept pod ill stick bean instead',\n",
       "       b'expens buy exact bar walmart box last yrs come amount charg someth bar far favorit atkin bar tast much like snicker price redicul',\n",
       "       b'dont think ive ever flavorless chili fan mani ami product one',\n",
       "       b'pack contain regular varieti find broken liquor store like one horror movi noth els packag well good your go give deal packag buck pleas ill limit choic good price pay good price freedom choos wont take hit hard find flavor koolaid packag thing wrong flavor happen favorit come look spend mayb dollar bunch look way robber price packag thing there way heck spend buck forc spend year drink flavor itll ruin affect flavor make cranki wife doesnt like cranki marri cranki wife wouldnt like shed probabl divorc spend buck one flavor koolaid shed say need varieti didnt want pay summat friggin powder flavor cri loud give break',\n",
       "       b'ive tri sever brand almond milk coconut milk grant dont usual pay attent organ may one organ option pick store coconut milk usual get stuff tast bad especi smell faint smell almond bitter soapi smell tast like soapi water mayb acquir tast bad enough wish read review first therefor thought better leav one also stuff tri may reformul packag didnt look quit said less sugar',\n",
       "       b'product doesnt fit keurig brewer use knife punctur lid dump cup fill hot water could use keurig fill suppos wast realiz gave star tast use keurig name charg extra accept',\n",
       "       b'order arriv chocol know product handl went wrong chocol deform leak outsid individu packag refriger fact improv consist order onlin',\n",
       "       b'disapoint thought would like sunbeam sunshin brand grandma use buy dont compar',\n",
       "       b'big fan ami product soup tri great want tri someth new came across one store sever time final purchas like look ingredi complet protien sure would winner yuck gummi flavor terribl cant even put finger unpleas actual found soup terribl sorri ami need chang recip put buck buy great soup tri ami lentil lenitl veget curri lentil black bean southwestern veget',\n",
       "       b'bought case ounc pack great northern popcorn popcorn great conveni pack handi lower risk contamin product guarante fresh howev someth wrong case receiv went remain stock threw away anoth pack leak oil wash oil mess left toss one wasnt seal popcorn toss away month buy case start organ pantri notic oil everywher sourc corner box popcorn fun job forgotten today notic oil bottom edg packag seem weaken develop point crack open case ive thrown away use that ridicul opinion might cheaper buy elsewher avoid wast',\n",
       "       b'around long time time switch overpr use profit ultra right wing agenda',\n",
       "       b'sorri say disappoint tea mani year drank genuin sencha gyokuro tea ship direct japan think develop quit good tast premium japanes sencha sinc fukashima diaster distrust radioact contamin occur wide area japanes tea grow area certain trust japanes govern report longer order delici premium sencha realli premium foil wrap hype premium premium sold store great heartach cours japanes peopl tea grow industri look replac anoth part world thus bring dilmah sencha green tea realli bad see review describ best tea theyv ever drunk even allow differ tast tast bud sensit realli think crazi tea tast bear resembl japens sencha happen come plant speci appar final product complet unrel tasteless aroma sorri total worthless someth wrong report brochur describ mani wonder special cultiv glossi hype unfortun open tea packag could put tea one place sure cant return would full refund realli sorri say desper good sencha green tea isnt never',\n",
       "       b'purchas two case libbi pumpkin late arriv rude email receiv half can dent use immedialt could use dent donat fault seach farther price shippig outrag need soon error use percent guarante good luck honest contact good final noth happend inquiri dont expect help',\n",
       "       b'toothless yorki make kentucki fri chicken leg bone disappear dog wont touch bite smell like chees way hard toothless dog shi tzu tini teeth',\n",
       "       b'strang tea expect bought guava fruit tast actual tast',\n",
       "       b'fan ingredi tea anis tast much blech blech blech',\n",
       "       b'dont like scent suppos subtl overpow neither man pleasant seem well enough job clean rins said bodi wash product soap matter realli like wash face either use differ dove product realli doesnt seem get deep pore skin feel ill finish bottl wont make quit buy old spice suppos cant get past smell',\n",
       "       b'first purchas year ago fantast poppi seed need raw dirti unwash tasti howev case recent seed dri flavorless compar predecessor appear rins flavor alreadi also time sent someth differ frontier seed appar common complaint overal nfpst',\n",
       "       b'way gummi choke littl kid grandkid love flavor difficulti chew swallow age normal problem gummi candi',\n",
       "       b'like coconut water tri mani brand one worst tast tast like water bad tast electrolyt powder open first decid thrash',\n",
       "       b'product sugar honey sucralos maltodextrin sucralos approxim time sweet sucros tabl sugar twice sweet saccharin time sweet aspartam front packag tea honey ice green blackberri pomegran flavor natur flavor back liption tea honey low calori ice tea mix feel good simpli made real ingredi sweeten honey made real tea leav real fruit flavor calori per serv aspartam know tast good product fals advertis natur aspartam problem sucralos tast tea sorta tast honey base tast like splenda disappoint tast like tea red juic made splenda',\n",
       "       b'first way overpr individu packet hard food son year old packet isnt enough snack give two second one messi particular strawberri strawberri left red trace son hand mouth cloth bad skin stay stain bath didnt come babi wipe like appl',\n",
       "       b'love vanilla coffe thought would tri new brand worst tast like chemic smell even wors stuck know like van houtt much better give zero star',\n",
       "       b'got love stevia love chocol sound wonder aw ugh tri like direct said tri mix coffe tri put milk tri ad sugar tri cold hot room temp didnt want admit realli bad realli realli want like couldnt dont buy serious yuck',\n",
       "       b'cola far favorit drink wife usual debat pepsi coke prefer coke neither one ever win saw bottl hope find someth would stop argument fentiman cola come nice look bottl old fashion feel even name curios beckon someth forth earli certain first open bottl found heavili carbon say favorit coke wife pepsi someth might prove boon product snif distinct smell cheap cola resort past period smaller wallet that say bad took sip liquid manag get word realli isnt face contort wave disgust one foulest soda tast date includ old tab drink first coupl second tast like cheaper cola aftertast hit vile would get someon gag gift emphasi word gag never purchas anoth bottl sake spent money bottl howev wish wast guzzl whole thing limit carbon inde becam boon product turn end mistak everi time carbon would forc burp get noth bad tast first coupl second instead got horribl aftertast may close cola howev import rememb evolv reason tast one reason give coke day even pepsi',\n",
       "       b'cat friske pate can cat food instead can stuff cat lost weight caus wouldnt eat differ case amazon also differ flavor filet brought supermarket prematur assum would like atleast one flavor hate friske shred filet food love friske pate cat food order case love flavor far love pate',\n",
       "       b'terribl tini describ cross pack real good one king oscar best find season ever',\n",
       "       b'tasti salti price disappoint mani shell empti expect find shell pistachio bottom bag assum fell shell packag werent wont buy product',\n",
       "       b'bought item good faith use two teabag get tea flavor tea flat flavorless close drink water mayb use higher qualiti bulk tea come bag dont think lipton tea stronger',\n",
       "       b'order daiquiri bag tri similar product year ago thought concept clever one sweet everyon said tast like cough medicin',\n",
       "       b'order bag chew dog kid first chew take inch long inch wide paper thin look like piec bacon dri less bag actual larg chew insid compani obvious think custom idiotsfals advertis lawsuit cerntain warrant case get rich rip time put send back bag like everi one dollar good product good well let rip hope lawyer su innova dog food get wind',\n",
       "       b'seep one bag two half cup water drank throughout day although feel though kind horribl headach thought mayb someth els stop drink anyway headach went away resum drink headach came back sinc stop drink tea back normal idk bad batch mayb doesnt work well bodi tea bag cant use lol',\n",
       "       b'could get better deal spend check isl walmart come glad didnt send gift someon less forgiv',\n",
       "       b'first time conscious use stevia sweeten youd put heap cup bowl match sweet youd get splenda glass peppermint tea use packet gave packet stiff tea sweet tast rather earthi although could organ short like food beverag realli sweet without calori real sugar may better splenda unless want spend minut open packet packet stevia',\n",
       "       b'syrup horrend tast noth like diet mountain dew beverag might will drink love diet mountain dew cant stand tast smell buy unless want poor drain would feel sorri drain',\n",
       "       b'usual love bar happi find amazon arriv chocol outsid discolor crumbl mayb warmer weather chocol melt reharden unhappi product never order amazon marketplac',\n",
       "       b'think great number peopl dislik noodl wonder would extra pack order think may solut fish bait smell bad fish like stay hook well thought',\n",
       "       b'happi product come hard without direct tell suppos appar dehydr fill soften hard dont know would broke hand',\n",
       "       b'pot broke senseo coffe maker fit thick use tray non work take product mark',\n",
       "       b'expect sale product inform indic amount type pkg noth contain one leaf one teabag one pound fresh organ peopl dont like review product normal would agre sell amazon like profession compani without requir inform consid review amateur gross ineffici wors dishonesti product sale venu amazon even allow downgrad credibl',\n",
       "       b'eat consider amount popcorn everi week almost alway redenbach like brand product dread first salti waaay salti second pretti greasi butteri mind greasi get wors top drawback fact smell aw sort chemic odor what realli odd smell like popcorn know microwav popcorn make peopl come creep woodwork look hand fluffi corni good product heck kid wont eat experi see second bag bad first threw rest box ive review thousand product given less hand ad orvill natur popcorn elit list gross despis fear feed children unattract smell stick orvill butter tender white one flavor type tast good smell good pam upset mom blogger',\n",
       "       b'excit see product anoth poster mention tend eat way much regular peanut butter spread half pita fruit preserv half tast terribl tri make nutti almost realli salti tast probabl wasnt worst thing ive ever eaten tri make toler isnt good',\n",
       "       b'use love ausom fruit nugget kind misshapen chicklet fruit snack world alway tast fresh hard find neck wood mom got rat yes excit natur made facil made respons china mention tast horrif crave tast plastic ting rubber sampler heck happen tester elder sinus disord sorri folk awesom',\n",
       "       b'min mention video hormel lean smoke ham strong chemic flavor like cut ham small piec mix larg amount rice bean pasta etc would probabl tast mix relat small amount noodl tast chemic preserv overwhelm make snack meal almost ined said everyon tast prefer slight differ may want pick local groceri store decid',\n",
       "       b'bought cook oil massimo grape seed oil galon here bad experi label doesnt say expel press cap without break seal wait seller respons',\n",
       "       b'disappoint shipment gooseberri receiv yesterday can damag shrink wrap damag sent way return cant even find way leav negat report seller obvious fault never agan',\n",
       "       b'use two varieti kitti litter like idea abl two month total litter chang clean litter box daili end first four week litter could stand whole area reek went back bought cheap clay litter realli dont know tri extrem disappoint',\n",
       "       b'ive spent least hundr buck old zico box metal line juic concentr got shipment new bottl took swig almost spit tast like plastic gave swig stomach hurt immedi log amazon could warn other buy crap close bottl put back box send back amazon never buy zico yuck',\n",
       "       b'pump work look product increas maintain milk product start drink tea thought perhap work decent tast ad sugar unfortun notic daughter start realli pain gas night nurs home couldnt figur chang til recal review product stop drink tea pain gas stop well worth shot',\n",
       "       b'thought would cool heat adjust wow hot even mild set super duper hot hot spray eye start instant water good flavor either dispens product odd spray',\n",
       "       b'sick joke hell cute bunni pictur absolut appal disgust dont know els say',\n",
       "       b'listen review arriv four box crumb whole cracker shipment throw',\n",
       "       b'feel bad write bad review feel cheat dont believ peopl buy product base experi mayb product good one except bad especi sinc suppos gourmet small bottl vanilla buy walmart tast much much much much much like vanilla product tast like vodka dash vanilla feel like cheat even though price good valu actual scare purchas vanilla internet bulk compani find tri store speak bottl purchas would recommend someth els vanilla gluten free although mani corn syrup one sugar realli dont understand posit review product bought cheap amount gourmet think tast wors imit imit least tast like vanilla apolog write review peopl need awar product want buy compani tri someth vanilla',\n",
       "       b'bought think werent giant gave away suppos fact corn syrup use instead sugar wilt tootsi roll dont charm use probabl wont purchas',\n",
       "       b'plus would accept return open bewar expect someth resembl chestnut tast like moldi gunk negat star product would receiv negat make sure purchas direct amazon seller dont allow return throw whole case away',\n",
       "       b'order product read review decid give tri dont know other person effect exclus breastf babi month produc least day month dont know happen produc less less tri product use product week drank lot liquid still produc much expect produc produc bottl day stop use dont know use right realli effect',\n",
       "       b'saffron receiv noth like pictur two small bag jar advert tini stick stamen saffron saffron smell saffron flavor idea hesit even use cook two packet bonus materi includ order suppos two littl packet saffron one bag crush powder small bag tumer saffron sent email seller respons first time feel realli amazon seller seller respond email review let know otherwis bewar product seller',\n",
       "       b'sausag past plastic tube shape like sausag cut tube your left log mash one review mention itd better honest came tub tast fine remark way sure product better put tofu tsp spice blender shape like poop usual vegan fake meat least textur close cant approxim meat exact least tri soyrizo make attempt plastic packag claim replac pain butt cook structur burn readili cook half high temperatur like packag suggest burn quick cook half low temperatur cut smaller poop could roll regardless long cook dri becom solid disappoint soyrizo buy',\n",
       "       b'disappoint bought costco read internet articl gave great review howev tast seem bland over greasi read ingredi list explan theyr made palm oil chocol powder check ingredi buy ingredi say lot qualiti good qualiti product tast noth like truffl best passabl odd textur faint chocol flavor buy',\n",
       "       b'almost stop give son iron drop think product give much daili iron need sweet potato pumpkin flavor say contain daili iron need realli dont understand compani lie nutrit label',\n",
       "       b'didnt like much real thing stretch flavor werent favorit favorit jelli belli brand jelli bean red appl flavor werent licoric flavor one realli overpow real jelli belli like licoric flavor one contain though found skip one still great deal great tast bean real jelli belli fan reason alon dont think would purchas think real jelli belli tast curious know though abl use jelli belli logo',\n",
       "       b'say weakest brew ive ever coffe machin flavor also blatant artifici conveni good',\n",
       "       b'thought would great tast drink got kid kid love blueberri also less sugar calori wrong kid spit drink right away mint real strang flavor nasti',\n",
       "       b'love bakeri main granola granola bar big disappoint didnt mind fact super chewi tast continu granola granola bar',\n",
       "       b'dear artic zero excit saw health market today bought even though pretti expens couldnt wait tri outsid market right want back return didnt want someth like gave anoth tri took anoth bite hope would chang mind nope gave anoth tri hope someth would grow nope coupl minut side start melt bit gave part tri hope might tast better well guess got hope caus didnt tast like dilut someth could tast chocol could tast mint first tast like noth dilut someth bite tast unpleas tempt toss custom',\n",
       "       b'didnt like strong water half still strong thought espresso suppos lot caffien expect energi boost instead took nap hour later guess like espresso strong tast youll like didnt tri ice hot',\n",
       "       b'enjoy sour appl blow pop excit receiv packag first take time packag arriv second open first blow pop look pretti old expect condit basic everi singl one open far one look old fresh disappoint compani would send product kind condit never order seller disappoint wish could receiv money back know happen save money purchas somewher els',\n",
       "       b'tri potato salad germani amish counti horribl first liquid like soup extrem sweet look real german potato salad get one deli tri make dont buy one complet wast money',\n",
       "       b'disappoint product alway enjoy anni product never problem chees solid clump unabl make sauc without lump use differ packag order problem sure result manufactur issu sit shelf long warehous either way bewar',\n",
       "       b'see product note enclos sent product say gift absent therefor receiv without knowledg sent',\n",
       "       b'want tri tim tam read one celebr like order pack ship expens worth buy pack didnt like tast nothng special sweet chocol prefer dark chocol sweet one dont know rest pack',\n",
       "       b'sugar wafer awesom perfect sweet one buy groceri store fresh crispi one receiv amazon toward end shelf life less day good fresh one store',\n",
       "       b'product tast good buy contain type wegman get place pay twenti six ship handl found freezer pack ripoff ask high ship respons fair snotti receiv product found label special select wegman sure enough next time went addit two contain expir two week ship cost make big ripoff get wegman',\n",
       "       b'food gave bad gas end donat local shelter go back old brand chang alway good lol',\n",
       "       b'usual buy trader joe thought would easi buy box two bar open look like chocol crumbl smear insid packag also tast bit odd wouldnt recommend purchas',\n",
       "       b'coffe good rich bitter tast even sugar ad also packag contain pod coffe expos filter around smell nice coffe drawer kitchen',\n",
       "       b'asian descent serious tea drinker big fan anyth citrus want bad like tea bought singl box sale local groceri store tri first didnt want commit whole case amazon right away boy glad tri choos organ whenev possibl tea overpow aroma lemon pine sol cowork laugh concur speak one seventeen tea bag left mayb ill save next time one come cold',\n",
       "       b'thought morn coffe throw flavor quick bite eat actual appl ginger flavor wasnt quit right there much ginger mayb flavor overpow appl would recommend',\n",
       "       b'spend bajillion dollar order ikura salmon roe sushi crave time thought brilliant plan save littl money cut wast rice substitut starter jar caviar reeeealli salti tast mayb could dealt price differ except whatev smokehous flavor gross even like smoki beer local breweri make buy',\n",
       "       b'eat lot almond tast stale chalki probabl make almond milk use bleh buy',\n",
       "       b'plastic cap cost make sell big markup ive use time differ origin bit pain clean kap use brew right away hole kap allow air coffe ruin tast store time also allow coffe spill tip place sticker hole piec tape that anoth annoy step detract conveni go back commerci avail want grind cup coffe quicker less mess use french press instant hot water electr thermal hot pot wife keep tea well least use kap poker chip',\n",
       "       b'base price list compar multipack item well photo provid item expect receiv bottl ketchup care review descript show realli one bottl read amazon com descript care lesson learn',\n",
       "       b'want applesauc bit carrot flavor one your expect carrot pure skip hand price pretti good organ product',\n",
       "       b'go order littl shihtzu know picki bought local pet store first glad sheldon would noth chunk huge littl dog cut still would sniff walk away disappoint see smaller can would bought sure piec smaller well doesnt realli matter wont eat',\n",
       "       b'advertis low hull popcorn hull popcorn ever use wish bkheurmann product still avail magic mushroom popcorn lbs pack',\n",
       "       b'ive own cat life ive tri pretti much cat treat find store year alway game tri someth new see cat enjoy amazon vine sampl pack petit cuisin grill tuna treat offer prompt grab set test get strip essenc real grill tuna come reseal pouch fair expens cat love fresh fish eat varieti howev interest mayb one solid chunk fish tri break easili digest chunk wasnt interest put rest fridg tri later reseal pouch didnt great job wasnt interest eat wonder better your go expens feed cat real tuna simpli buy tuna far less groceri store feed cat seem extrem buy special certain see cat would enjoy fresh tuna varieti reason dont recommend buy special expens version aim life',\n",
       "       b'delight find wheat free licoric amazon order kind black raspberri candi tree black licoric anoth compani candi tree licoric terribl unfortun nobodi famili like end trash',\n",
       "       b'box tea expir date less month seem seller unload stock cant sell wont buy',\n",
       "       b'realli want feed babi bottl corn syrup use realiz switch gerber much better babi',\n",
       "       b'like mani review food maker doesnt pure food blade doesnt move plan send back compani repair per instruct babi brezza annoy send return ship product addit havent abl actual reach person talk sinc custom servic number servic anymor tri call main line transfer someon voicemail return call yet mean time ive success pure babi food cuisinart stick blender tri first buy one step food maker lure process hope wont',\n",
       "       b'almost good regular jelli belli littl odd good toler laxat omg match babi clear schedul',\n",
       "       b'ive tri tasti bite meal kit found veggi curri quit tasti bought whim flavor flat simpli peanut fragrant peanut like jar peanut butter tri tofu skewer beef skewer great use one pouch couldnt figur rest sat refriger mold stuck pack horribl prefer stuff trader joe',\n",
       "       b'tea leav oolong tast miss floral tast aroma grade kwan yin oolong tea leav qualiti chines tea shop tea leav provid singl infus tast gone grade leav provid two infus',\n",
       "       b'got one worst cereal life dens bare swallow mani calori small amount cereal cereal alot better even littl bit sugar',\n",
       "       b'tast textur cereal doesnt excit tast bud would agre anoth review point would need add fruit nut sweeten make toler cereal howev tri recip bag whole grain muffin die lost anoth review add bread today experi honey wheat bread recip might also good whole grain pancak excel sourc whole grain fiber winner unadorn cereal categori',\n",
       "       b'stop use pricey junk search chicken jerki treat china googl info spread word media coverag way littl fortun dog suffer small amount kidney other lucki rememb chines pet food scandal kill best friend tell amazon sell chines chicken jerki proven safe even avoid',\n",
       "       b'use lipton darjeel green label tea last year real darjeel green tea user tea cheap tea without real flavor tast real darjeel green label tea rich flavor tea one notic three feet away descript green label find packag purchas seller well abl return item either sinc food item',\n",
       "       b'coffe bad tast well cant realli tell drink smell delici gotta admit tast aw stay away product worst coffe ever',\n",
       "       b'read posit review thought give product tri know anyon say tast like sugar stuff aw tast agon could smell differ coffe let alon tast glad use place sugar tri cut calori glad altern choos splenda site would allow place review without give product star zero book',\n",
       "       b'mix breed medium size dog normal eat food right feed cup morn cup even would eat food would come next room almost gag like cat hair ball plus would finish dish perhap corn meal main ingredi dog carnivor funni shape piec includ know hit leg member famili bag nice zipper closur though that good found brand',\n",
       "       b'tempt price product sinc drink lot loos green tea dragonwel tea coffe bean direct look like expens loos green tea actual oliv green color color tea dark almost black tast like ordinari black tea',\n",
       "       b'dont normal buy energi drink never like tast caffein way settl stomach opportun sampl product thought certain worth give tri red rain berri flavor delici yet ounc coupl swallow leav howev sure peopl wouldnt buy product think tast good tast secondari desir result energi boost sampl one bottl say feel boost energi bright side didnt get jitter either like caffein vitamin energi drink ultim current price would much better buy coke take vitamin save ten dollar',\n",
       "       b'ugh excit receiv packag thought coconut oil mayb mistak open one jar artisana organ raw coconut butter aw lot thin liquid combin extrem hard stuff stuck side larg chunk throughout jar consit feel mouth thick gritti plaster tri mix thing forget even tast pleasant bought three jar one open guess stuck attempt return jar hope get refund exchang differ brand coconut oil even give coconut oil dog would give product clear cannot use skin condit yucki mess someon pleas provid clue wrong',\n",
       "       b'first happen custom told declar weight wrong product use list amazon well pamela websit ounc fact packet singl cooki ounc slight still dont correct lengthi email phone correspond sheepish admit error weight could say worth troubl oneself that three time exagger goal truth advertis straighten order cooki postal scale weigh wont find weigh ounc pretti certain second finish correspond compani order product packet ounc tri packag offer believ full ounc think wish weigh packag content extrem chocol realli describ cooki individu packet contain stale least dri noth like tri tri want prepar ask amazon credit',\n",
       "       b'famili member use word like gross disgust describ chew admit agre routin eat natur food snack wasnt expect twizzler expect product tast like raspberri someth molass fruit give weird twang wretch aftertast much like prune juic love realli dark molass like blackstrap perhap might like troubl even give away',\n",
       "       b'new formula horribl gave bad bad stomach issu entir day take tri make sure yep thing stevia natur market want caffein would bought one caffein supplement disappoint manufactur seller point chang formula',\n",
       "       b'seen item store know clump litter sure want order',\n",
       "       b'disappoint mark precaut folk stomach problem flavor extrem hot even burn mouth sure like hot spicey love',\n",
       "       b'cooki tast like cake snack call devil dog theyr dri probabl chocol dirt sprinkl chocol chip would tast like like devil dog youll probabl like cooki',\n",
       "       b'serious worst coffe ever tast huge amazon fan learn lesson one read review product descript care never would thought cup could instant coffe didnt realli take note parenthet descript wish stuck nasti thing even took box work med student mooch anyth even world class scaveng wont drink swill buy unless closet nescaf fan',\n",
       "       b'sound like cute way expens tini packag bean flavor indistinguish one anoth worth mind',\n",
       "       b'worth money flavor realli doubt margaret hope two pot put away order margaret hope autumn dealer divin',\n",
       "       b'drink lot tea look someth anoth flavor tri like ginger know suppos sooth remedi thought instant ginger lemon drink would someth tri first thing notic aroma smell great strong ginger smell ad water tri strong tast lemon ginger overpow ad doubl amount water tri still strong spicey much wouldnt purchas',\n",
       "       b'purchas peanut brittl peanut crunch open peanut brittl stale old worst peanut brittl ever tast went onlin return day arriv find item elig return wast money purchas product poor qualiti tast horribl',\n",
       "       b'interest post put high fructos corn syrup packag read ingredi see contain corn syrup bad someon allerg corn',\n",
       "       b'major lover panfort eaten year familiar proper tast brand still avail decid order first time christma gift marabissi panfort torta cioccolato three friend see frequent recent opportun visit friend learn three panfort unpleas gritti textur none finish panfort felt comfort tell gift want seem unappreci email provid mushroom specialti explain issu contact sooner also copi amazon never heard either awar return complaint polici order fact receiv credit neither amazon mushroom never courtesi repli time laps affect qualiti panfort origina made nourish crusad last long probabl contain main dri fruit nut',\n",
       "       b'order jeremiah pick coffe organ breakfast blend whole bean coffe time howev last lot receiv realli bad qualiti lot broken coffe bean oili hope seller check happen may tri',\n",
       "       b'receiv blackberri loganberri boysenberri intact surpris find raspberri seem beaten boil mush amazon issu full refund feel bad dont raspberri pantri flummox reorder tri luck take pictur post imag short',\n",
       "       b'thought get natur flavor half contain propylen glycol toxic extrem toxic natur someth use wish still box notic problem use one flavor shake got bad stomach ach look ingredi ala box recycl time',\n",
       "       b'dog food expect meat type process spongi look pale color blob dog would eat cant say blame anyth remot resembl salmon smell aw wast money',\n",
       "       b'want love salti imposs enjoy bugl salti year ago increas salt',\n",
       "       b'last two shipment senseo work senseo coffe pot compar previous pod discov paper materi firm water coffe pot stop love senseo disappoint',\n",
       "       b'shampoo cream shampoo claim nourish scalp second ingredi sodium laurel sulfat known scalp irrit shampoo also tint pink match condition dont like use hair product dye stain hair also heavili scent wont use wouldnt recommend anyon els',\n",
       "       b'husband celiac manag fine care toler trace amount gluten soy sauc exampl betti crocker browni mix gave say total gluten free celiac bewar',\n",
       "       b'order item wasnt ship way behind estim arriv date offer compens inconveni ask would express ship item respond sinc use proiriti mail guarente arriv date ridicul got item final friday oct day order day promis time frame product come silver packag look logo bag nutrit info ingredi communic also poor took email befo got respons',\n",
       "       b'soda price task like site closet year somewer wont order onlin',\n",
       "       b'receiv last order case full bent can would never purchas bent pet food groceri store decid return order much troubl sinc good stock food cat put case cabinet unopen six cat eat scienc diet basic use two can daili split amoung treat two day arriv product note disgust smell come kitchen area two can bad damag open threw rest away total eight rescu anim cat alley cat dog mutt gold cat well care indoor pet obvious clean constant support clorin disinfect industri disgust experi cancel month order friski cat food classic pate special diet ocean whitefish dinner can pack',\n",
       "       b'weve got three dsh cat two boy one girl fix could care less spray love regular catnip leav though mileag may vari',\n",
       "       b'like larg varieti herbal tea one flavor omega strong overwhelm tast pomegran blubberi probabl tea good distinct fishi tast',\n",
       "       b'sent mother think great deal dont put someth box keep dri ice well suppos refund good wish got chocol mother day that thing buy food snack amazon ill still use site',\n",
       "       b'saint aunt actual bad couldnt even finish singl one strang chemic sort tast hard identifi describ even wors aftertast tri hard finish bar tri get like end gag throw away anyon want rest box',\n",
       "       b'neither two cat would eat treat fact neither dog would eat theyr will eat occasion cat cooki look packag look like main ingredi corn meal treat look smell like cheap dog food fish scent appeal basic paid overpr bag corn meal base pet food stuck bag none four pet eat',\n",
       "       b'fruit slice deliv sugar coat melt away runni juic bottom packag slice look though toss fro look anyth like pictur limp gooey look ask remov negat feedback given refund howev feel other know rate refund amount order particular item daughter cook parti end use pretti deliveri live distanc away make sure ask bierman put item melt get heat ice',\n",
       "       b'size retail groceri store could get two less price one',\n",
       "       b'tell king oscar mediterranean sardin distribut bumbl bee pack poland inferior qualiti compar brisl ici water norwegian fjord',\n",
       "       b'sachet come individu wrap plastic baggi larg cup say youd need sachet brew tea wasnt obvious weak tri well box expir date wasnt problem tea soak water seem develop faint tast plastic sure that come could baggi sachet made kind plastic fabric',\n",
       "       b'terribl look bag thai tea make hot tea tast like regular black tea similar flavor stuff serv restaur',\n",
       "       b'read great review post tri chai tea disappoint product noth special better chai tea teabag cost much less unless hook gadget dont time microwav cup water tea save money buy good chai tea mix milk latt disc didnt foam much left cup mediocr chai tea lot warm milk product also sweet',\n",
       "       b'review bought regular contain supermarket bought amazon reduc buy micro packet flavor also use make good cup coffe flavor kind coffe like pay extra micro packet still one old contain take time open dump littl packet make littl thing even somewhat conveni rate star put back old contain',\n",
       "       b'order daughter think tongu splasher dont mind chang name like origin tri one daughter couldnt even bite hard final took hammer broke one said tast hard chew call send back insist product know theyr dont advertis mayb got old batch assur fresh dont buy dont want jaw problem',\n",
       "       b'ive alway use regular litter tray scooper procedur saw type seem good true pour litter top strainer tray clean litter sift cat end half clean litter origin put clump litter make solid adher undersid strainer tray bang someth get dirti litter litter spray around floor matter hard tri neat ad addit sweep step whole procedur also litter strain weigh pretti hefti your crouch floor lift sift entir tray litter daili say scoop daili regular scoop get job done half time half mess half troubl go back old method',\n",
       "       b'buyer bewar origin gave product three star deal seller led chang one seller took except mild review sent harass email home address request refund never buy origin seem dont know that chomp one right away lie around bit doesnt seem interest mayb dri',\n",
       "       b'got suck review promis ship cost stuff isnt even good chock full nut regular coars ground made normal measur tbsp water french press produc weak cup person bodi outsid moder acid tang ugh increas tbsp got bodi flavor got dri arid interest note tast still woefulli lack develop bit headach guess wasnt total loss dont fool support favorit local distant micro produc',\n",
       "       b'love oliv love cora oliv aw realli bum bought pack love oliv cora havent abl find one person eat one without spit extrem bitter',\n",
       "       b'contain maltitol may caus bad gas peopl bought day said sweeten splenda assum wouldnt contain maltitol stupid suppos okay dont exhibit laxat effect otherwis steer clear one consum light quantiti',\n",
       "       b'think anyon read ingredi stuff continu buy pay attent tri smoke test voltag tongu jog along congest highway carbon monoxid physic danger mayb partial hydrogen oil aspartam diet pop process cake mix statin drug fast tri self distruct friend fda approv tast eat hearti pay attent updat look like dislik realiti',\n",
       "       b'tast good may good hydrat gram sugar come gotta better consid healthi',\n",
       "       b'tri flavor holiday collect wonder recommend high buy anoth sourc agre previous review bait switch receiv cancel order avail could understand supplier want sell advertis price usual dont rate supplier item question felt necessari peopl know devious practic compani buy anyth',\n",
       "       b'purpl residu product leav child anyth touch worth stick color',\n",
       "       b'true coffe lover favorit beverag morn night enjoy brew coffe home buy varieti brand vari price point read descript melitta cafe collect excit brew extrem disappoint stale coffe smell open bag impress flavor brew tast like pouch hotel coffe flavor stale bad aroma packag look upscal great price unfortun coffe good throw away',\n",
       "       b'wont give babi product state countri australia receiv made china mani recal china made product stay away edibl thing least',\n",
       "       b'boyfriend got pack gum store week ago excit rememb younger would thought time imagin play trick agre gum tast chemic terribl consist spit chew dont know chang someth mix indic low qualiti corner cut societi live would definit recommend gum nostalgia factor fun flavor',\n",
       "       b'receiv vanilla bean time happi arriv could make vanilla extract ad small packag bean nice moist vanilla bean dri told tripl bag soon open disappoint sure vanilla extract go turn',\n",
       "       b'one worst tast product tri dont even look stay away well unless starv fine',\n",
       "       b'candi bar appar made oversea distribut never got distribut vendor need offload order compani mass figur review talk candi asian indian languag wrapper might avoid seem get oversea bar wherev get even one state point bar horribl tast took two bite first one toss entir group trash hail flavius',\n",
       "       b'weav cheesecloth least strand cotton weav also deform object easili slip thought could compens multipl layer layer prove inadequ strain greek yogurt yogurt simpli ooz layer ricotta reluct return item simpli couldnt think anyth mayb hard chees dont make',\n",
       "       b'item shown page item receiv item receiv kind soy sauc restaur one dont screw cap rather small hole side pour word cant close bottl bought purpos transport use possibl fortun person bought doesnt mind bewar actual item show buy page',\n",
       "       b'newton fruit thin fig honey love fig newton thought would great snack food surpris find hint fig newton tast bit fig cooki hard realli appeal cooki crisp pretti good size overal tast bland also isnt over sweet nice wish tast like fig newton price tast look elsewher altern cooki like',\n",
       "       b'cook almond meal product label want cook almond want raw meal blanch bewar live essenc product kill heat',\n",
       "       b'receiv product unit alreadi leak heavili figur burst transit big deal right howev clean rest unit notic gentl pressur seam leak easili one didnt leak took run burst pocket pressur appli far could tell contact seller told happen wrote powerbar week ago respons buy said abl tri unit love stuff gel thin enough slide dri throat hot day tast isnt bad citrus help saliv bit help werent poor packag horribl custom servic would gel',\n",
       "       b'intrigu flavor combin never thought tri alo ingredi even would never pair passion fruit went curious disappoint drink look strang oliv green transluc slight darker green bit float thick opaqu label hide fact first glanc okay one swig though felt like chew drink bit slimi numer tast pretti sweet first ting alo gave aftertast stick swig later resign wasnt even go finish bottl tehn notic bottl isnt one serv serv bottl serv size ounc strike ploy make nutrit info look better wont drink unless free option even would think',\n",
       "       b'purchas product give relief pms diabet also women breastfeed also caus breast becom larger someth dont need wast money buy someth cant use',\n",
       "       b'regret say disappoint coffe pod immedi upon open packag obvious lack wonder coffe aroma rather stale one although titl coffe appeal would purchas thank let remark',\n",
       "       b'love ginger love ginger candi cooki treat etc howev hard candi way mark tast uninspir bland enough ginger zing water ginger tast',\n",
       "       b'worst appl cider ever drank sound appl tast anyth like never purchas stuck',\n",
       "       b'read peopl cat love kitti kaviar look forward make felin happi well turn nose stuck kitti kaviar wont eat plus exact inexpens sigh',\n",
       "       b'item though cute idea realli doesnt live titl pink fun especi use glass mug see whole drink hot chocol part titl disappoint cours wasnt fulli expect milk chocol tast honest cant even say tast remot like white chocol realli kind chocol matter your look novelti drink cute especi young girl howev your expect someth akin hot cocoa general understood would look elsewher',\n",
       "       b'cracker great box purchas recent overcook half broken disappoint elki savori cracker spring onion box pack',\n",
       "       b'purchas pasta want whole grain whole wheat pasta eat organ pasta sauc dri pasta come box serv pasta cal fat sodium carb fiber sugar protein pasta bitter interpher flavor sauc pasta difficult swallow pasta great textur easi prepar stick give pasta flavor textur smell appear unfortun dont eat eye',\n",
       "       b'chang recip thing great like sugar cover peanut extra flavor',\n",
       "       b'crunchi tast like cheddar although cant quit describ tast would say like carrot well first ingredi carrot yes call carrot chip cheddar said probabl finish bag eat hummus plain good would buy record love carrot one',\n",
       "       b'good probabl none web site complain product longer avail canist tast coffe excel price packet prohibit inconveni use packet home pleas websit complain sure nestl done greed alon way charg much less product cours claim way custom prefer coffe packag yeah right',\n",
       "       b'chocol manag bitter saccharin tast protein fill graini difficult get tri chocol peanut better instead aw sit shelf wait unsuspect guest doesnt mind lame snack',\n",
       "       b'husband big fan starbuck brought home mocha via like think tast like burnt black pepper serious bad sell',\n",
       "       b'almost imposs get lump short use stick blender also bag milk come weak drop one counter top milk power went everywher',\n",
       "       b'expens buy amazon coupon way cheaper order direct manufactur site',\n",
       "       b'buy peach three year use nice flavor healthi appear last month theyv terribl color pale flavor horribl sometim tast metal time tast bad like mayb process improp kept buy hope got ala ive accept fact buy whether amazon local store bad cancel subscrib save divorc forev',\n",
       "       b'know ginseng tea earthi flavor tri differ brand one tast like dirt good flavor get stronger longer sit',\n",
       "       b'vanilla howev lip bottl round vanilla alway spill pour',\n",
       "       b'use buy friski dental diet four year old felin sever gingiv result terribl breath tooth decay friski cheap brand actual pretti good job improv condit sinc refus let brush howev took food market remain option food hill find onlin free ship cheaper price seal deal dont usual store oral condit deterior feed hairbal healthi weight formula cat ate meantim happi new dental food slowli switch realiz food realli isnt good seem mild improv teeth breath still aw see tartar compar improv saw friski start cough hairbal almost everi day gain weight rapid even though feed less cup day also act hungri time check amount fat food almost doubl healthi weight formula feed normal amount continu get fatter month gain least pound starv maintain normal weight recommend check nutrit even tri hill cat sever gum tooth diseas weight issu hairbal problem review gave favor rate howev mayb cat mild problem work',\n",
       "       b'pretti high hope consid mani peopl say strong cuppa lot flavor better senseo pod mass market one doesnt match rich cup joe baronet small villag blend pod also flavor pretti one dimension cup coffe job someth buy',\n",
       "       b'tri love kellogg fiber plus bar tast much better general mill fiber one mistak tast good fact theyr quit disgust tast last long time youll tast hour drink one theyr fill fiber protein vitamin also fill sugar pretti high calori ran visalus that pick local store make mistak visalus benefit price per day lower calori lower sugar tast million time better dont drink lose weight use nutrit regardless want drink protein shake suggest stay far away visalus liter tast like vanilla cake mix tast like garbag bag',\n",
       "       b'shocker favorit candi candi stale buy store warn',\n",
       "       b'review true great idea pain pop clear lid side even figur keep wait break hand take pressur pop lid feel fragil like break much pressur would consid buy one new design seem sturdier open top side',\n",
       "       b'jacob best cracker world way pack amazon total mess enjoy pack crush other even least damag third broken cracker buy amazon find anoth sourc',\n",
       "       b'although normal love green mountain coffe particular blend aw bitter hint wonder complex enjoy kona blend dont bother',\n",
       "       b'dont join buy swedish coffe ikea good perk packag join end give away coffe packag make third expens coffe world trader joe good spend money order jamacian blue mountain yesterday receiv box didnt order heritag blend tin discov plus dollar charg credit card call phillipin gevalia longer american phone woman could bare understand told sent postcard week ago never got inform order club member unless cancel order send anyway total illeg loud inform feder offens addit credit card mail fraud cancel membership sent refund credit card well see follow file charg compani good swedish coff turn terribl greedi compani whoever creat coffe asham turn pleas dont buy even good acid',\n",
       "       b'thus order someon els love endang speci chocol especi dark well tri piec tasti cours fan dark chocol either surpris dont care think ill stick chocol',\n",
       "       b'foul aftertast tast first mild bile tast hit love hazelnut though',\n",
       "       b'bacon fiend excit tri baconnais howev small tast husband found disgust tast chemic much like bacon like smoke flavor threw away',\n",
       "       b'realli like collect purchas first time two year ago given alreadi familiar tea made purchas product descript includ two tea tri thought new collect combin new old product turn old collect despit product descript collect includ two tea tri thought may ship problem two tea also list amongst ingredi box sale sale make tea purchas store know box',\n",
       "       b'ship shabbi gumbal plastic bag stapl lot crumb bag guess expect someth profession look like packag someon garag storag unit truli gumbal quit shock expect final describ item outlin descript werent hassl would return order anoth vendor',\n",
       "       b'tart bitter aftertast horribl diet rootbeer make feel bad drink probabl wont ever buy brand name',\n",
       "       b'love cappuccino usual order maxwel hous want tri sugar free product order caff dvita light fluffi rich tasti dvita dark flat bitter ad powder creamer tri lighten extra sweeten vanilla noth get tast better wast time money live africa wait month receiv order wait anoth month receiv cappuccino stuck maxwel hous cappuccino favour run product wish',\n",
       "       b'someth wrong peach purchas sun maid dri peach groceri store walmart past wonder absolut foul tast also notic dri peach longer shown one sun maid product sun maid web site also longer find local groceri store note amazon accept return food product high recommend buy',\n",
       "       b'your sort person cant drink plain water probabl make easier howev couldnt finish three pack threw unus two away make water either slight add littl overwhelm sweet add littl dont like water your probabl much better serv unsweeten ice tea herbal tea wont tast extraordinarili artifici'],\n",
       "      dtype=object)"
      ]
     },
     "execution_count": 22,
     "metadata": {},
     "output_type": "execute_result"
    }
   ],
   "source": [
    "final_4000['CleanedText'].values"
   ]
  },
  {
   "cell_type": "code",
   "execution_count": 23,
   "metadata": {},
   "outputs": [],
   "source": [
    "#BoW\n",
    "count_vect = CountVectorizer() #in scikit-learn\n",
    "final_counts = count_vect.fit_transform(final_4000['CleanedText'].values)"
   ]
  },
  {
   "cell_type": "code",
   "execution_count": 24,
   "metadata": {},
   "outputs": [
    {
     "data": {
      "text/plain": [
       "<400x2901 sparse matrix of type '<class 'numpy.int64'>'\n",
       "\twith 12698 stored elements in Compressed Sparse Row format>"
      ]
     },
     "execution_count": 24,
     "metadata": {},
     "output_type": "execute_result"
    }
   ],
   "source": [
    "final_counts"
   ]
  },
  {
   "cell_type": "code",
   "execution_count": 25,
   "metadata": {},
   "outputs": [
    {
     "data": {
      "text/plain": [
       "scipy.sparse.csr.csr_matrix"
      ]
     },
     "execution_count": 25,
     "metadata": {},
     "output_type": "execute_result"
    }
   ],
   "source": [
    "type(final_counts)"
   ]
  },
  {
   "cell_type": "code",
   "execution_count": 26,
   "metadata": {},
   "outputs": [
    {
     "data": {
      "text/plain": [
       "(400, 2901)"
      ]
     },
     "execution_count": 26,
     "metadata": {},
     "output_type": "execute_result"
    }
   ],
   "source": [
    "final_counts.get_shape()"
   ]
  },
  {
   "cell_type": "markdown",
   "metadata": {},
   "source": [
    "# Bi-Grams and n-Grams.\n",
    "Motivation\n",
    "\n",
    "Now that we have our list of words describing positive and negative reviews lets analyse them.\n",
    "\n",
    "We begin analysis by getting the frequency distribution of the words as shown below"
   ]
  },
  {
   "cell_type": "code",
   "execution_count": 27,
   "metadata": {},
   "outputs": [
    {
     "name": "stdout",
     "output_type": "stream",
     "text": [
      "Most Common Positive Words :  [(b'like', 139429), (b'tast', 129047), (b'good', 112766), (b'flavor', 109624), (b'love', 107357), (b'use', 103888), (b'great', 103870), (b'one', 96726), (b'product', 91033), (b'tri', 86791), (b'tea', 83888), (b'coffe', 78814), (b'make', 75107), (b'get', 72125), (b'food', 64802), (b'would', 55568), (b'time', 55264), (b'buy', 54198), (b'realli', 52715), (b'eat', 52004)]\n",
      "Most Common Negative Words :  [(b'tast', 34585), (b'like', 32330), (b'product', 28218), (b'one', 20569), (b'flavor', 19575), (b'would', 17972), (b'tri', 17753), (b'use', 15302), (b'good', 15041), (b'coffe', 14716), (b'get', 13786), (b'buy', 13752), (b'order', 12871), (b'food', 12754), (b'dont', 11877), (b'tea', 11665), (b'even', 11085), (b'box', 10844), (b'amazon', 10073), (b'make', 9840)]\n"
     ]
    }
   ],
   "source": [
    "freq_dist_positive=nltk.FreqDist(all_positive_words)\n",
    "freq_dist_negative=nltk.FreqDist(all_negative_words)\n",
    "print(\"Most Common Positive Words : \",freq_dist_positive.most_common(20))\n",
    "print(\"Most Common Negative Words : \",freq_dist_negative.most_common(20))"
   ]
  },
  {
   "cell_type": "markdown",
   "metadata": {},
   "source": [
    "# Observation:- \n",
    "From the above it can be seen that the most common positive and the negative words overlap for eg. 'like' could be used as 'not like' etc.\n",
    "So, it is a good idea to consider pairs of consequent words (bi-grams) or q sequnce of n consecutive words (n-grams)"
   ]
  },
  {
   "cell_type": "code",
   "execution_count": 28,
   "metadata": {},
   "outputs": [],
   "source": [
    "#bi-gram, tri-gram and n-gram \n",
    "# In the below example we could see that we are building Bi-grams to avoid like & not like cases.\n",
    "\n",
    "#removing stop words like \"not\" should be avoided before building n-grams\n",
    "count_vect = CountVectorizer(ngram_range=(1,2) ) #in scikit-learn\n",
    "final_bigram_counts = count_vect.fit_transform(final_4000['CleanedText'].values)"
   ]
  },
  {
   "cell_type": "code",
   "execution_count": 29,
   "metadata": {},
   "outputs": [
    {
     "data": {
      "text/plain": [
       "(400, 16192)"
      ]
     },
     "execution_count": 29,
     "metadata": {},
     "output_type": "execute_result"
    }
   ],
   "source": [
    "final_bigram_counts.get_shape()"
   ]
  },
  {
   "cell_type": "code",
   "execution_count": 30,
   "metadata": {},
   "outputs": [
    {
     "data": {
      "text/plain": [
       "(400, 16192)"
      ]
     },
     "execution_count": 30,
     "metadata": {},
     "output_type": "execute_result"
    }
   ],
   "source": [
    " from sklearn.preprocessing import StandardScaler\n",
    "\n",
    "std_data = StandardScaler(with_mean = False).fit_transform(final_bigram_counts)\n",
    "std_data.shape"
   ]
  },
  {
   "cell_type": "code",
   "execution_count": 31,
   "metadata": {},
   "outputs": [
    {
     "data": {
      "text/plain": [
       "scipy.sparse.csr.csr_matrix"
      ]
     },
     "execution_count": 31,
     "metadata": {},
     "output_type": "execute_result"
    }
   ],
   "source": [
    "type(std_data)"
   ]
  },
  {
   "cell_type": "code",
   "execution_count": 32,
   "metadata": {},
   "outputs": [],
   "source": [
    "# convert sparse to dense as tsne takes dense vector\n",
    "std_data = std_data.todense()"
   ]
  },
  {
   "cell_type": "code",
   "execution_count": 33,
   "metadata": {},
   "outputs": [
    {
     "data": {
      "text/plain": [
       "numpy.matrix"
      ]
     },
     "execution_count": 33,
     "metadata": {},
     "output_type": "execute_result"
    }
   ],
   "source": [
    "type(std_data)"
   ]
  },
  {
   "cell_type": "code",
   "execution_count": 34,
   "metadata": {},
   "outputs": [
    {
     "name": "stderr",
     "output_type": "stream",
     "text": [
      "C:\\Users\\insbattula\\AppData\\Local\\Continuum\\anaconda3\\lib\\site-packages\\seaborn\\axisgrid.py:230: UserWarning: The `size` paramter has been renamed to `height`; please update your code.\n",
      "  warnings.warn(msg, UserWarning)\n"
     ]
    },
    {
     "data": {
      "image/png": "[encoded data removed]",
      "text/plain": [
       "<Figure size 511.75x432 with 1 Axes>"
      ]
     },
     "metadata": {
      "needs_background": "light"
     },
     "output_type": "display_data"
    }
   ],
   "source": [
    "from sklearn.manifold import TSNE\n",
    "model = TSNE(n_components=2, random_state=0, perplexity = 30, n_iter = 1000)\n",
    "# configuring the parameteres\n",
    "# the number of components = 2\n",
    "# default perplexity = 30\n",
    "# default learning rate = 200\n",
    "# default Maximum number of iterations for the optimization = 1000\n",
    "\n",
    "tsne_data = model.fit_transform(std_data)\n",
    "\n",
    "\n",
    "# creating a new data frame which help us in ploting the result data\n",
    "tsne_data = np.vstack((tsne_data.T, score_4000)).T\n",
    "tsne_df = pd.DataFrame(data=tsne_data, columns=(\"dim1\", \"dim2\", \"score\"))\n",
    "\n",
    "# Ploting the result of tsne\n",
    "sns.FacetGrid(tsne_df, hue=\"score\", size=6).map(plt.scatter, 'dim1', 'dim2').add_legend()\n",
    "plt.title(\"TSNE for Bag of Words\")\n",
    "plt.show()"
   ]
  },
  {
   "cell_type": "markdown",
   "metadata": {},
   "source": [
    "Observation:- Here, we are unable to simply draw a hyperplane and separate +ve and -ve reviews because it overlap each other. But we will have some alternative way to separates review."
   ]
  },
  {
   "cell_type": "markdown",
   "metadata": {},
   "source": [
    "# TF-IDF"
   ]
  },
  {
   "cell_type": "code",
   "execution_count": 35,
   "metadata": {},
   "outputs": [
    {
     "name": "stdout",
     "output_type": "stream",
     "text": [
      "['and', 'document', 'first', 'is', 'one', 'second', 'the', 'third', 'this']\n",
      "(4, 9)\n"
     ]
    },
    {
     "data": {
      "text/plain": [
       "<4x9 sparse matrix of type '<class 'numpy.float64'>'\n",
       "\twith 21 stored elements in Compressed Sparse Row format>"
      ]
     },
     "execution_count": 35,
     "metadata": {},
     "output_type": "execute_result"
    }
   ],
   "source": [
    "#Sample example\n",
    "from sklearn.feature_extraction.text import TfidfVectorizer\n",
    "corpus = [\n",
    "     'This is the first document.',\n",
    "     'This document is the second document.',\n",
    "     'And this is the third one.',\n",
    "     'Is this the first document?',\n",
    "        ]\n",
    "vectorizer = TfidfVectorizer()\n",
    "X = vectorizer.fit_transform(corpus)\n",
    "print(vectorizer.get_feature_names())\n",
    "\n",
    "print(X.shape)\n",
    "X"
   ]
  },
  {
   "cell_type": "code",
   "execution_count": 36,
   "metadata": {},
   "outputs": [],
   "source": [
    "if_idf_vect = TfidfVectorizer(ngram_range=(1,2))\n",
    "final_tf_idf= if_idf_vect.fit_transform(final_4000['CleanedText'].values)"
   ]
  },
  {
   "cell_type": "code",
   "execution_count": 37,
   "metadata": {},
   "outputs": [
    {
     "name": "stdout",
     "output_type": "stream",
     "text": [
      "[b'got back trip maarten tabl restaur bottl sauc love first tast put tuna filet total hot sauc heaven brought bottl back sure surviv month order much incred sauc'\n",
      " b'yes buy someth similar groceri store nice buy amazon ship state arriv destin arizona undamag everyon love someth box none cereal stale great concern mine'\n",
      " b'your look outstand tast consist conveni packag one order ramen one best tast ramen noddl let add pretti spici like your spici food wont like'\n",
      " b'best halal beef jerki ever tast also compani truli give orthodox muslim good choic buy call ask slaughter process quick give answer unlik muslim compani tri deceiv consum'\n",
      " b'bought product need freezer tray tri use remaind gift card glad gift card toward product know expens reason enjoy use often everi day think like feel like realli get money worth silicon make easi clean durabl breez pop food without worri break devic like lid part realli feel like best could make lid fit proper snugg size cube perfect need good help size never need feed babi anymor one sit dont wast lot food babi doesnt leav want suggest product small freezer standard size therefor thing freezer burn freezer doubl rate due issu noth product overfil cube top touch lid freezer burn abl form transfer freezer bag cube bigger thaw night refridger midday thaw way easi heat food even gave four instead five star simpli could devis snap lock lid system money charg made overal outstand item also price point littl high sure even close much money put togeth silicon think babi item reason price even littl less fortun enjoy qualiti babi product way freez food'\n",
      " b'celesti season green tea antioxid type light refresh mild amount caffein tea insid individu bag easi use put one two bag cup add boil water let steep minut enjoy shipment arriv fine shape broken packag mangl product delight share feel product superior manner amazon handl order'\n",
      " b'alway sold store kid love quick easi meal fast tast great kid love wish lower salt content though overal realli good product'\n",
      " b'son love cereal breast fed babi start introduc blend fruit veggi mix happybelli happi babi ad benefit love play can'\n",
      " b'six year old son celiac diseas cant eat thing brother sister love oatmeal hasnt abl found order right away love doesnt care raisin could chang anyth would option select box flavor like great price box oatmeal high recommend product'\n",
      " b'shirakiku udon soup tasti quick make low calori tend spice bit schichimi togarashi japaqnes red pepper season dice tomato assort asian season'\n",
      " b'search local tea cocoa pruduct found coffe delight find tea cocoa product amazon com enjoy product seller prompt effici'\n",
      " b'black tiger coffe peopl like strong bitter coffe think ive made perfect choic'\n",
      " b'product tast good cannot stop eat start order use healthi snack overeat everi time could never make serv per bag cautious portion focus addict'\n",
      " b'best gum ever bad dri mouth gum tast wonder keep flavor long time unfortun flavor discontinu lucki far abl buy worri one day wont avail'\n",
      " b'use carton box take flavor box wish still came tin can take flavor box'\n",
      " b'consist syrup almost carb cal product consider runnier normal syrup get past tast actual much better expect husband didnt care much tri keep cold put pancak wasnt good way recommend leav bottl room temperatur pour pancak right stove griddl soak pancak warm bit use bob red mill bake mix make pancak accord recip back packag syrup may tast differ differ pancak'\n",
      " b'realli like tea slight sweet tast much better chia tea purchas get'\n",
      " b'love favor nong shim noodl howev flavor best kid love will give frensh fri'\n",
      " b'realli want enjoy cup english tea make cup put tea bag first pour fresh boil water add sweeten milk tast make tea pot first warm teapot put one tea bag per cup pour fresh boil water never add water cup requir make fresh pot'\n",
      " b'qualiti tast regular gummi bear great treat snack child especi learn abc learn spell thing keep mind purchas product especi order young child sinc haribo extra stiff peopl come love particular gummi compani small child could pose choke hazard dont chew complet letter big near twice big normal gummi bear would could great learn tool great snack'\n",
      " b'train tast bud various sauc decid give one tri accord label lab test scovill unit sauc tri suppos sever hundr thousand shu million wasnt expect sauc hot convinc lab test scovill unit worth least ten kind also love flavor consist sauc thick pasti hard appli control amount sauc easi pour get right amount'\n",
      " b'bought tart smart tart cherri concentr ounc bottl day alreadi feel differ take tablespoon day swirl cup nonfat vanilla yogurt healthi delici cherri sunda dessert regist dietitian impress research benefit tart cherri juic'\n",
      " b'initi tri food pup sampl pack order onlin grandmaluci web site littl skeptic freez dri hmm well let tell much littl guy ador stuff cri beg feed time wait patient cool add hot water littl guy pound doxi finicki eater tri evo merrick enjoy rainbow trout flavor innova lotus california gold realli truli love grandma luci nonsens food ad freez dri straight good also dont put bag size pound make like pound cook food amaz stuff high recommend easi whip add water real deal doggi love stuff light weight wont parish also recommend grandma luci tini littl furri friend anyth one'\n",
      " b'love thing love flavor somewhat indescrib definit tradit fruit flavor set though vagu fruiti general firm kind gummi definit without question favorit gummi candi one absolut favorit candi'\n",
      " b'start purchas bar young adult son picki eater like bar eat regular mean includ protein diet purchas bar amazon program ensur bar deliv regular basi better price buy groceri store'\n",
      " b'best cocoa ever use make chocol cake tast great absolut love product continu buy'\n",
      " b'research best rtd protein shake ive come conclus labrada lean bodi best tast rtd fan muscl milk labrada tast better give protein similar drink size also like drink doesnt sit stomach reason dont give star price your look quick protein drink look'\n",
      " b'dog eat california natur dog food almost year seem like easi stomach doesnt seem get bore differ flavor'\n",
      " b'buy skinless sardin pack water keep intak sodium chloresterol includ tax deliveri feel get money worth cannot get kind sardin local supermarket sardin somewhat tasteless put sardin salad top salad oliv oil red wine vinegar eat sardin sandwich use mustard also salt chloresterol'\n",
      " b'realli like harmoni valley vegetarian product realli import use genet modifi organ gmo product vegetarian sausag hamburg like sausag slight spicey ad red pepper flake tini bit fennel tast great'\n",
      " b'first time purchas anyth cat cora kitchen gaea definit purchas tast excel tast better pit oliv bought past except littl bit softer textur reseal pouch nice plus seal good stay fresh soft without dri far complaint cant stop eat open one pack'\n",
      " b'bought keurig month back pack came machin costco combo pack chose make great coffe fill trash much slower usual cup day cost realli add great less cup'\n",
      " b'mood snack dont want damag health ice cream potato chip great mix heart healthi come conveni pouch easi carri car offic exampl perfect boost offic satisfi hunger give bodi nutrient'\n",
      " b'dog love food petco even ship consider bit cheaper buy local would give star dog yet lose weight think might put pound actual could entir fault feed slight much though buy'\n",
      " b'first year ive made make batch month famili friend absolut love spici wonder flavor add black bean corn almost meal jar high recommend beginn expert'\n",
      " b'sometim feel like drink coffe replac delici cup vanilla chai tea littl bit low fat milk add sugar still tast good relax mind time continu job relax interfer energi also like drink go bed'\n",
      " b'realiz energi drink made without caffein stumbl upon product amazon excel concept difficult time consum caffein make jitteri still need littl extra boost get day definit need tri revhoney berri rain concept behind energi boost revhoney made real honey honey blend mix beverag provid ad energi kick excel product actual tast realli good drink revhoney energi boost substitut cola well healthi drink better cola drink would definit recommend product'\n",
      " b'chose use ice great one word warn skimp nonstick spray'\n",
      " b'crunch fast instead steep pea mouth let wasabi run onto pallet produc much spicier tast use get hotter flavor let know work thank'\n",
      " b'realli like think thin protein bar tast great good amount protien'\n",
      " b'product great tast especi raw food diet drawback oili still well worth cost'\n",
      " b'howdi yall quit tasti good cereal pretti good protein drink take avoid unwant weight loss decent snack rate four sinc actual better hope take care lee'\n",
      " b'supplier great deliv product good condit love chip even grandchildren like doesnt last long even buy case'\n",
      " b'love hot cocoa whole milk littl cream add honey vanilla old time childhood memori come back cocoa powder ive buy health food store someth make feel lousi within hour suspect might dutch process natur cocoa seem natur way saw one review particular chocol notic said mild yet origin cocoa powder natur origin incred sour acid peopl may like tri hot cocoa vari recip mild ad bit powder woo wee best ive sinc becom adult yes add chocol cake worth feel hour well stay stabl drop reason give star mild doesnt mean wont get began notic someth els start crave chocol like use look label high magnesium content might someth way feel found need moment especi higher nutrit content chocol snack nutrit got good real good'\n",
      " b'dad gotten make beer made great christma present'\n",
      " b'almost didnt buy coffe said natur artifici flavor hate flavor coffe dont tast weird flavor dark smooth acid coffe like better one quit good'\n",
      " b'son gluten free took day like kid eat milk dri snack also feed babi bit harder cheerio soak second give babi work fine'\n",
      " b'authent southern sweet tea green mountain celesti season delici summer beverag keurig owner wife purchas keurig elit gourmet last christma reluct first switch stainless steel french press tri dozen coffe blend wide rang roast flavor avail impress first ice tea follow direct produc strong glass black tea crush ice hint spice although flavor ingredi list evapor cane juic black tea find like tea even better let mixtur sit five minut start drink one serv calori contain caffein exact ingredi evapor cane juic black tea rebiana sweetner stevia tricalcium phosphat natur free flow agent person dont add sugar necessari garnish glass fresh lemon five star green mountain celesti season also offer ice tea special design brew direct ice follow sweet peach black perfect ice tea sweet lemon black perfect ice tea sweeten raspberri perfect ice tea black unsweeten perfect ice tea summer drink main unsweeten ice tea like hous mugicha ito golden oolong mood hit ill look sweet tea found celesti season favor sweet leaf tea origin sweet tea recommend ice tea'\n",
      " b'current favorit coffe potent smooth autoship option conveni never run price better local store'\n",
      " b'bought vanilla bean use make homemad vanilla extract vanilla coffe syrup christma gift yum bean fragrant wonder arriv sooner expect bean expect use even project anticip'\n",
      " b'dad born rais louisiana return home retir seem spend time test bbq hot sauc send bottl come across special find sent bottl louisiana gourmet hot pepper sauc quick note say true louisiana flavor one favorit glad see get onlin run'\n",
      " b'one sucess celesti season zinger genr case flavor rose hip hibiscus overpow flavor unless brew longer minut aroma rubi potion delici citrus full bodi flavor tea sweet red grapefruit orang tasti imagin would make excel ice tea also caffein free ad vitamin celesti season get extra point util natur recycl paperboard box dont packag tea bag individu instead use system wax paper bag insid box stay shut fold keep bag fresh util less packag individu wrap bag art use box beauti quot inform put everi surfac quot readi favor wind chines proverb'\n",
      " b'ive drink donut shop bore want tri similar differ coffe purchas coffe peopl organ coffe hate stuck entir box coffe couldnt drink gave mother hate tri perfect got fun tri differ flavor found new flavor go start drink newman sell one costco'\n",
      " b'newman organ ginger snap ginger cooki great treat cooki small burst ginger flavor firm satisfi snack great boon get five cooki calori cooki fit anyon diet great tast snack fact cooki organ anoth plus cours tast key criteria tasti quick becom famili favorit'\n",
      " b'sugar pretti darn close newest research show much better sugar artifici sweeten use bake bluberri muffin came fluffier use white sugar although bit less sweet ill back amazon good price'\n",
      " b'coffe great like espresso coffe love coffe strong peopl may strong use larger amount water keurig wife love strong coffe well strong unless use larger amount water like spanish like coffe wont disappoint'\n",
      " b'order anni chun seawe snack watch friend much roast seawe search amazon chose two flavor sea gift chose roast sesam flavor flavor ingredi simpler packag small tini rectangl seawe line tray fold piec half stuff mouth find bite seawe get crumb either way still wind piec seawe shirt check mirror eat also piec get stuck teeth like spinach learn check like textur thin light crisp like prefer brand sea gift milder flavor seem fresh detect rancid appreci high vitamin content low calori reach want someth crunchi eat snack meal keep eat cracker also eat along side meal instead cracker'\n",
      " b'strict bigelow earl grey drinker year reason tast good late want healthier tea realli realli like tea take littl brew cup pot would also suggest tea fort product brew'\n",
      " b'glad write packag pet food tuna look good enough human consumpt even grill mark packag neat reclos zipper bag cat probabl could believ eye chang dri cat food huh frisk enough one packag least three serv perhap cat love say perfect special treat supplement usual dri food'\n",
      " b'hot sauc full flavor decent amount heat love garlic flavor purchas'\n",
      " b'high qualiti ingredi excel deal got price dog seem love extrem import love dogi probabl would given star rather pricey normal basi kind understand great ingredi hard budget afford sometimesoveral great deal'\n",
      " b'love coffe good rich smooth tast also good coffe smell everi morn well worth money'\n",
      " b'wife love tea alway order local cafe differ brand brighten day brought home great gift tea lover love'\n",
      " b'betti crocker angel food cake mix excel buy price great deliveri excel recommend product amazon patricia tubb'\n",
      " b'pleas coffe like rich coffe fact often prefer dark roast nice flavor coffe occas also like vanilla hubbi like hazelnut terrif combin high recommend'\n",
      " b'year ago shrimp squid ink pasta dish barcelona stuck sinc dinner vow replic kitchen problem squid ink pasta amaz difficult find even specialti store carri turn amazon solv cant find anywher problem littl skeptic never order dent didnt want sub par pasta ruin memori gave shot soon packag arriv attempt barcelona culinari heaven everyth rememb beauti balanc flavor color dish full delici beauti want tri here quick fresh shrimp shallot garlic cherri tomato qualiti oliv oil toss pasta wont regret happi cook'\n",
      " b'review food concern gave product unfair food allergi home never buy food product onlin read ingredi list person research best onlin price bought product cube version version past year thrill flavour add soup rice pasta dish sad could deter other purchas product bad wouldnt shelv high recommend anyon doesnt food concern updat march happi see review upgrad rate satisfactori previous'\n",
      " b'delici product purchas mere warehous deal fulfil amazon com ship free home great bargain come across avail enjoy'\n",
      " b'nice condition contain natur oil left cur hair lot manag even bath epsom salt didnt much scalp scalp dri hot cold temperatur dont general last long back comb right wet smell favorit doesnt bother use prefer natur pure essenti oil rather chemic scent sure cosmet industri use much titanium dioxid everyth toothpast concern kid around great adult either appar make teeth whiter hair reflect imagin yet cant help wonder daili exposur affect person color product use daili suspect red dye might culprit caus itch coupl use itch could someth els time year thank condition doesnt contain formaldehyd like mani mani shampoo condit caus allerg reaction especi use long time overal work well smell bad favorit scent neither realli great truli natur shampoo condition work nice grab someth store didnt brand would drawn other fair look label good shampoo condition go chemic favorit condition veget glycerin blend sweet peo pure essenti oil respect peo brand great hair dri skin choos creat scent mix oil decid make mani peo blend adulter stretch cheaper oil oil vari wide price instanc orang oil rough ounc real rose oil rose absolut rough per ounc aura cacia respect brand dealer peo other one come mind say blend rose whatev favorit oil elsewher peo plant rose use rose tea open window door rose bloom realli one better see everywher product although like see real natur product work exist mani chemic addit absorb skin philosophi wouldnt eat probabl shouldnt put skin except mud miner bath incred fine bottl well natur occur brand pretti well comparison small nice favorit get tangl rather natur formula make one need jut grab condition good swim pool well pretti good lost star chemic werent need realli desir imho smell bit odd'\n",
      " b'fabul curri sauc kit spice packet good tasti made beef filet tail initi concern dehydr coconut sauc mix total unfound tasti flavor smooth textur great meal would high recommend busi peopl enjoy good food dont whole lot time'\n",
      " b'littl worri short shelf life comment bought pack columbia via amazon best date month definit finish bought amazon starbuck store great arriv overs retail style box dispens hatch bottom conveni'\n",
      " b'abl tri yummi cooki came momvox say dont like raisin took first bite amaz good tast would defiant buy these well famili'\n",
      " b'receiv shipment yesterday pleas expir cup like review report select great would high recommend anyon'\n",
      " b'husband love davidsumpkin seed hard find delight find amazon com arriv record time thank amazon com'\n",
      " b'live small town indian restaur varieti pack excel add basmati rice spice excel premad dish keep stock case need indian food fix dish red bean best varieti nice'\n",
      " b'target carri recent discontinu guess peopl put lime idea popcorn simpli delici cant eat micro popcorn due dairi ingredi love smell wonder pop lime flavor delic your sure could tast good take look ingredi label bag corn tortilla tortilla chip see lime list lime corn togeth beauti also asid great way eat corn cob littl fresh lime squeez use lawri season salt butter need make well happi find item amazon today order case'\n",
      " b'found wonder soup six month ago love flavor textur thank much provid tasti conveni soup even better deliv door amazon'\n",
      " b'dog love toy weimaran rottweil mix chew mani toy disadvantag loud hardwood floor sound like wreck crew'\n",
      " b'ridicul may coca leaf tea illeg unit state dont believ call local drug enforc peopl actual illeg countri world bolivian govern tri get help unit nation chang idiot law read coca leaf tea complet safe non addict quit tasti though bolivia see feloni state desir ever set foot prison idiot hemp illeg grow even though major crop countri histori idiot law weaken law nation'\n",
      " b'trident vital rejuv gum white tea refresh gum come long time love work home travel keep eat much junk food'\n",
      " b'bean make good normal cup coffe bag expir date five month dont know that normal coffe bean wont last month hous anyway'\n",
      " b'like hot cinnamon best hard candi wish cost lower'\n",
      " b'nestl cerelac great tast cereal toddler toddler would spit gerber best earth beech nut cereal nestl celerac love mix cerelac regular milk water use drive mile away hous buy cerelac store around area carri live nyc one store carri rice one excit found amazon last year immedi order case can free super saver ship packag cost save time gas mileag deliv doorstep thank amazon'\n",
      " b'realli like color ad shine glimmer ad similar color enhanc shine make hint shimmer realli cool worth money'\n",
      " b'pectin essenti homemad preserv jam jelli make fig raspberri preserv everi year could without sure jell pectin exact say need'\n",
      " b'iut tasti pickl expens consid cost plus ship good nori roll chomp meal pickmeup'\n",
      " b'lowrey bacon curl microwav pork rind hot spici packag pack order appreci tast fresh pork rind head meat market comparison rind tradit store version bag lowrey microwav pork rind came along creat perfect answer new experi true pork rind fan usual bag creat larg piec smaller bite best way eat immedi remov microwav hot chewi cook time min sec airtight packag arriv spici eater sold store year ago may still amazon place know want everi bag seal wrap store like popcorn need keep box anyth novelti product break ice parti gather enjoy'\n",
      " b'still food review problem cant turn free coffe said good stuff mellow none bitter edg common lot cheaper stuff sold local groceri store subtract one star review ridicul pretenti copi box drink coffe wont fix world make life fulfil fair sure'\n",
      " b'love receiv amazon timothi decaf greastest'\n",
      " b'dont care tast green tea one exceed expect one previous review comment tea delic scent flavor cherri wouldnt expect fruiti green tea nice like hot sweeten littl milk flavor subtl find quit enjoy drinkabl found store glad abl order amazon'\n",
      " b'mini keurig brewer perfect size small kitchen doesnt realli elimin take cabinet space let say varieti enough spot drawer expect though tell hold pleas conveni root around cabinet find want seem main goal say though drawer could realli improv kind jiggl drawer bit make come hold top plate doesnt slide around counter top could also thrown rubberi grip bottom drawer didnt get nail chalkboard sound slide granit counter top said knew went purchas product conveni price worth'\n",
      " b'nice cup coffe make find littl expens cut corner anoth item folger live favorit tri sever brand find one kinda like back dont store far alway find amazon com comfort often littl bit cheaper brought door within day'\n",
      " b'found moth kitchen look internet found strip avail work know'\n",
      " b'look healthier oil cook corn mix veget oil tri product husband read benefit coconut oil book patient heal thyself bottom line public year ago previous purchas health food store reli stock time order coupl day product wonder arriv plastic contain safer around kitchen long keep cool place keep long time thing dont fri garlic reason combin putrid onion pepper chicken green bean pork chop delici coconut add light sweet flavor'\n",
      " b'trident gum reason price reciv product day place order'\n",
      " b'start use undergo chemo breast cancer friend recommend perfect food reserch onlin figur noth lose notic chemo help keep energi level close normal also use six week radiat abl function near normal level back normal definit someth miss run dont order use consist wake without alarm feel clear head dont crave carb sweet may work everyon one ever convinc would better without'\n",
      " b'use awhil unfortun local store use buy stop car abl find deal amazon love tea think tast great prefer drink herbal tea without much addit mayb littl organ cane sugar almond milk rice milk drink one tea bag everi day felt great notic feel well like mani differ bodi system work diagnos genet form fatti liver lot allergi tea realli help take tea addit himalaya herbal healthcar livercar liver support aka liv take livercar daili mouth one tea bag daili one pill mouth livercar feel great'\n",
      " b'love cracker dairi gluten soy one buy'\n",
      " b'pick box chocol went walmart tonight love tri differ exot chocol caught eye love box tiramisu amaz bare huge resembl actual dessert creme bruli recommend chocol would see chocol local walmart got box plus dollar worth tax site ask unless one box shipment dont think good idea get ship option get store'\n",
      " b'daughter cook packag weekend must say impress tasti indiscern normal cooki also digest issu sometim product defin purchas regular cheer rod'\n",
      " b'thought love carousel conveni store make handi daili use cat also love box sent cant throw away descript gave understand found exact want thank'\n",
      " b'get cake mix auto deliveri long rememb sweet organ price great could ask thank amazon'\n",
      " b'although french roast good gevalia well worth price robust flavor hold well flavor creamer like use'\n",
      " b'would recommend children healthi snack cracker great'\n",
      " b'never thought buy type item tri one numer tast test year old like good reason price especi instant coupon come pack box'\n",
      " b'drank tea sever time day believ work thing need drank throughout day pleasant tast sort remind black better sinc dont realli care black licoric anyway worth shot someon need help up milk suppli'\n",
      " b'ive start give dog larg breed arent realli old yet most wood tile floor hard joint ive start give hope prevent extent damag pain love small dog isnt old want dont think good sinc thrown piec fair larg dog know shes get real treat havent found flavor dont like although beef seem favorit like seem made usa product sinc lost dog bad dog food epidem sinc ive care give dog'\n",
      " b'origin bought year old mind theyr yummi eat theyr great healthi snack travel well'\n",
      " b'good thing didnt overdo vanilla flavor easi standard vanilla flavor artifici vanillin instead use real vanilla bean obtain subtl tast goe nice mild bitter arabica bean want lot vanilla flavor aint want subtl top note real vanilla youll enjoy one'\n",
      " b'littl crunch addict bought wholefood sale store ever sinc could stop munch thing knew littl bit seed could long way wow'\n",
      " b'kipper snack herring great way add omega fatti acid diet contain gms omega fish excel sourc protein well gms per smoke flavor right seem combat fishi wish less sodium per wonder sodium hexametaphosph famili like includ son dog love liquid fish meati good solid textur littl liquid like cold pickl beet chees souffl meal grew enjoy mani year dollar tree per right'\n",
      " b'love much ruin regular peanut butter kid yes sugar dang good huge peanut butter fan could liter eat whole jar fantast addict stuff even bought send mother knew would love tri version think best entir lineup'\n",
      " b'first purchas product made curios use year realli enjoy even share cousin'\n",
      " b'bought couldnt find color local granddaught birthday parti want make cupcak color bright big hit kid'\n",
      " b'first time tahitian vanilla new orlean cook pastri came breakfast tahitian vanilla made differ incredi tast mouth water think famili thought crazi made batch homemad vanilla ice cream use nielsen massey vanilla time one batch use tahitian madigascar blown away differ tast expens suppli less mexican vanilla also differ tast tri dont limit stop use cheap vanilla almost vanilla'\n",
      " b'amount pyrithion zinc lead scalp shampoo see commerci know one mean think clear better job botan nutrient offer smell refresh use men women smell scream boy'\n",
      " b'work warehous take quick pick work eat dri flavor great'\n",
      " b'love product vitamin ad healthi skin coat natur someth dog love littl big side cut get small bite littl high side cost havent found anyth yet benefit combo chix sweetpotato continu purchas compani'\n",
      " b'one cat got sick month ago surgeri later came back home weak skinni cours appetit vet recommend spoil give whatev like would eat tri cat food brand avail amazon com even expens final friski favorit dear wicket sinc ordeal wicket becam spoil eat friski also fresli open good anoth cat two dog recycl'\n",
      " b'fri first turkey thanksgiv read lot process look best recip tip cam across season kit turn amaz everyon declar turkey best theyd ever felt bad mom alway cook thanksgiv didnt want feel hurt later also said best turkey came everyth need turkey research buy use youll best turkey everi'\n",
      " b'carnat chocol malt mix make best chocol malt creat add vanilla ice cream fabul malt use make best hot chocol ever tast need mix milk marshmallow two'\n",
      " b'like get three bottl instead buy gallon size use fri save oliv oil salad dress'\n",
      " b'treat pup eat made usa wheat free size treat right medium larg dog'\n",
      " b'purchas two seller penguin mint fulfil amazon arriv fresh condit better regular size pop approx equival total weight thick take liter hour get piec soft enough chew great satisfi sweet tooth actual littl sugar per hour enjoy cours brush sugari snack import sinc take long consum even small portion bath teeth sugar long period time take fast lane caviti also best quick rins wrap wax paper plastic wrap place fridg storag nibbl session'\n",
      " b'chocol truffl rich mouth water good delic flavor melt mouth spous two holiday guest lbs kilogram disappear three day'\n",
      " b'use backpack tast like milk white water like powder milk high calor content per ounc mix well cold water mix hot water test sever hiker use due tast high calori per wish could give six star californi tri stater bros infant formula section'\n",
      " b'german shepherd picki eater switch fromm dri dog food golden retriev skin issu well clear switch fromm usa sourc well high recommend'\n",
      " b'tri increas consumpt tea general green tea specif increas antioxid good place start past found green tea littl bland tea littl flavor tea therefor like standard black tea accustom would also suggest earl grey irish breakfast green tea reason flavor tri make pitcher tea half green tea half black tea husband green tea hater even drink tea prepar half half manner without complaint high recommend tea look green tea flavor'\n",
      " b'flour wonder gluten free mama websit great find easi tasti recip hamburg bun famili favorit also use make great pancak donut pizza'\n",
      " b'use love twizzler tri sale store best licoric ever tast make twizzler tast like garbag soft moist chewi burst flavor cheap well worth price'\n",
      " b'day gourmet chees luxuri afford know one eye block sharp cheddar chees imagin good itd tast gasp price pinch penni shouldnt mean sacrif tast enter kraft easi chees kraft easi chees afford top saturday night cracker simpli grab box favorit salt snack ryder cheesi movi pun intend squeez away chees pleas sorri bill collector call prefer camembert doesnt import doesnt want pay rent time dont take word though order today pay credit card time kraft easi save money without sacrif tast'\n",
      " b'enjoy product tasti easi fix add littl bit chicken meal like fact product gluten free'\n",
      " b'got wish couldnt better flavor one got accept got differ flavor great varieti'\n",
      " b'usual think nut chocol togeth imagin typic candi happen nut insid emerald cocoa roast almond surpris departur candi path nut dust fine layer dark chocol power mean almond flavor primari subtl chocol background person love flavor felt like get best world healthi snack bit zing typic offer mood someth munch without resort candi would someth consid possibl anoth nice featur packag lid measur serv use bowl nut goe long way toward avoid typic portion size good flavor help packag probabl wont last purchas almond'\n",
      " b'gotten drink ice tea made fresh brew organ green white red south african rooibo tea everi day relat easi get green white tea dont cost lot easi get organ rooibo good price well one excel sure great price amazon plus get addit discount sign regular ship everi month three month six month make sens regular tea drinker like amazon let cancel time prior next shipment tea good bodi excel flavor good color rooibo best brew allow steep minut top zero caffein report time antioxid green tea also calm properti henc make perfect bedtim tea also make great ice tea either combin tea make'\n",
      " b'go youv probabl alreadi look regard tast surpris good ive offer coupl famili member person said tast better look look bad pack cranberri one would expect didnt skimp creat product quit sure would pay pack bought lightn deal say satisfi would similar condit'\n",
      " b'outstand product complaint energi drink that also peopl buy fruit juic load vitamin tast incred good caffein bit strong cant resist flavor one work either sinc brought peopl tast like synthet plastic tast energi drink mayb wont appeal delici fruiti flavor without toxic flavor energi drink kind energi drink peopl dont like energi drink youv never tri youll like'\n",
      " b'wife low carb diet well low carb diet small breakfast time make egg bacon hard get coffe without peanut butter say use cracker like kavli crispbread get peanut butter sinc rememb think dan mari ead protien power plan late mani year ago found best could find wegman groceri store pennsylvania armi move fort knox find kroger recent cannot seem find either order come fast broken fresh also cost purchas onlin pay deliveri wast time look one wife hate opnen thing found best way cut end cellophan scissor prevent crack thin bread'\n",
      " b'product arriv time wife love sometim hard find store costco offer less often'\n",
      " b'son got rave review track team flavor tast product sever kid want know buy bad avail year round'\n",
      " b'cat love food must gravi like indoor can food rice green ship quick price amazon good'\n",
      " b'interstiti cystiti unabl chocol depress tri find chocol substitut noth seem give chocol fix found wonder product chatfield carob powder closest thing tast chocol believ tri mani mani brand favorit recip far includ carob latt recip back browni carob cooki husband picki said wouldnt told carob would never known unabl eat chocol want healthier version high recommend'\n",
      " b'tri whim local health food store complet enamor product serv bosc pear hit crisp sweet pear tangi creami tast chocol goat chees marvel oppos match give chees high mark dessert chees other must like live reserv log log sold'\n",
      " b'love love love soup tasti cook quick conveni peopl dont need barrel soup one dri soup mix ive found doctor flavor tri youll love like good bean soup'\n",
      " b'purchas watch show look sugar substitut doesnt side effect take littl get use differ tast measur like sugar nice whole wheat chocol chip cooki work like sugar pale brown act like brown sugar tast littl like also glad safe choic suppos spike blood sugar think worth adjust tast amazon best offer product place look'\n",
      " b'discov whole food year ago sinc fan flavor closer fanta anoth classic orang soda energi drink like redbul imo undrink without vodka made organ ingredi quantiti caffein insignific ive tri flavor though dont work well orang havent tri recommend order pick pack nearest whole food one review point tea like tast order amazon nov distinct flavor believ experiment batch flavor sinc revert orang soda flavor'\n",
      " b'yes oliv remind vacat europ know live eat item came strong plastic bag help hint might want save two larg use glass jar arriv put oliv rememb add littl water top oliv mixtur right salti say enjoy'\n",
      " b'receiv product via amazon vine test review must say condition work well fine hair coupl condition brand shampoo hair seem healthier shini defin softer soft clean scent great result get condition make give recommend'\n",
      " b'weimaran sensit stomach terribl skin allergi tri mani sensit stomach type food dog food doesnt aggrav dog stomach skin'\n",
      " b'emergen acai berri day count wow differnc feel great get readi back school sick day take morn acai berri sweet add water less sweeten'\n",
      " b'great product dog absolut love great teeth great moral give coton treat everi morn leav work product amazon consider cheaper local petstor size perfect dog'\n",
      " b'bought amazon run buy get sale made jack link product cheaper dog treat avail pet store price per ounc actual cours pup think theyv run good dog truck write angri rebutt tell good dog let assur realli treat especi good sometim rare snip stick round kitchen shear long way smell get actual meat anim like walk bakeri smell enough thank'\n",
      " b'soup famili favorit mileag may vari like price conveni order product subscript basi'\n",
      " b'actual didnt tast like graham cracker textur light crisp yet pack dens tast like appl cinnamon oatmeal without tart tast appl mine arriv crush tast piec saw roll oat embed grab bowl milk hog heaven perfect addit breakfast cereal morn melt quick delici could use oat enough give fresh roll oat flavor'\n",
      " b'bought time ago final got around eat recent expir date time plenti time consum initi purchas date packag gold foil plastic envelop come ship cool real wooden box tast good world over smokey meat moist tender probabl wouldnt buy unless went sale'\n",
      " b'great french press heavi yet full bodi would definit purchas great price also'\n",
      " b'tug jug great dog toy mini doxi fritzi need step program caus jug time becom favorit toy spend hour tri get everi last bit treat exhast quit work need nap ward problem tug part last five minut chew right realli dont need put larger treat mix littl one work fine'\n",
      " b'famili love fred meyer creami peanut butter honey shop amazon found skippi brand honey decid give tri disappoint good'\n",
      " b'ive normal order senseo brand pod coffe maker grindmast longer avail thought would give kona tri love make good smooth strong enough coff probabl wouldnt back littl expens pod come foil pouch downsid order extra bold tri also pod dont fit thick'\n",
      " b'like chocol also like shortbread cooki must miniatur pop bunch mouth good combin'\n",
      " b'excel best ever coffe bean smooth great flavor bought bag gift one lbs isnt near enough ill back'\n",
      " b'price pine nut go seem like price everi month reason buy bulk'\n",
      " b'slice food look satisfi juici gravi chunk meat look fill doesnt smell bad great can tini can easi open dont get kitti food splash seem lick plate fanci feast product winner hous great product reason gave star instead kitti fanci feast loaf varieti pack doesnt seem mind littl someth differ long still tasti one seem'\n",
      " b'favorit prepar food add pull apart chicken breast broken tortilla chip fresh made chip recip bag worth dont alway fresh tortilla hand small rotel dice tomato famili doesnt stop ask'\n",
      " b'realli like smell tast realli good doesnt smell tast like cheesecak though like buttercream frost still realli good'\n",
      " b'realli love flavor add ice tea water fruit sauc etc one drop goe long way'\n",
      " b'hand one best packag marinara sauc ever tast tomato oregano merg perfect harmoni rich chuncki textur mass produc blend product someon realli care stuff'\n",
      " b'keurig one best purchas ever made dont drink soda drink tea instead mint medley favorit bigelow done great job get enough tea'\n",
      " b'stuff great famili tradit pancak everi saturday morn ive tri number whole grain mix one best'\n",
      " b'coffe expert make good cup coffe prime subscript dirt cheap qualiti'\n",
      " b'popcorn right amount overpow tast like candi definit tell kettl corn portion size also perfect one person consid relat big eater time done one bag pretti satisfi most take much time get one also like nutrit breakdown lot fiber solid amount protein sugar sure fat overal almost perfect ratio fat carb protein ad benefit fiber lack sugar great snack cant think food item calori tast good even margin good nutrient breakdown tide hour'\n",
      " b'peanut sauc incred littl bite though add peanut butter mellow your sensit heat love best wrap'\n",
      " b'candi fresh delici nougat candi soft melt mouth almond nice crisp remind childhood grandma gave piec everi day treat own larg italian groceri store kept counter brand tast ident except candi'\n",
      " b'fresh beauti mushroom great soak sherri beef broth drain put risotto use broth sherri mixtur part stock need risotto great'\n",
      " b'travel world love drink coffe world finish bag camano island roast coffe let tell excel light roast bean choos peru light roast full bodi low acid tast put camano island roast bean blue mountain kona costa rician thailand bean roaster know coffe alway fresh well pack back much plus join club hassl order discount price free ship star way around roll tide roll terrel'\n",
      " b'ketchup kind prefer heinz gail cook'\n",
      " b'dont usual write gum review gum great tri mani differ brand trident stride orbit ect gum hand better qualiti last twice long trident experi flavor last hour depend vigor chew gum actual mint tast last lot longer sweet best thing though tast natur mint leaf tast right bite shell coat get liquid layer burst nice herbal qualiti fill whole mouth feel kinda cold realli nice make breath fresher product use import go keep buy long sell'\n",
      " b'rais mint best judg commerci tea found superior qualiti think make littl stronger usual add fresh mint well refresh drink cold weather right fridg break winter doldrum serv hot winter would awesom good humus pita bread enjoy'\n",
      " b'love hot first tri fulfil requir took awhil built use one drop seven drop two egg sure doesnt make regular tobasco sauc tast spici hot overal tast good took five month use entir bottl use spare'\n",
      " b'best price order amazon much cheaper compani websit brand good qualiti happi thier product'\n",
      " b'beef jerki lover like jerki best tast stuff ive found anywher flavor great black pepper opinion best wood smoke littl dri still good would recommend anybodi'\n",
      " b'add liter bottl seltzer water refresh fabul tast altern soda recommend'\n",
      " b'love tea english extract use drink strong english breakfast type tea nice flavor over strong unless steep long time hint bergamot liven strong tea tast much less bergamot earl grey read anoth review tea someon said ahmad english afternoon loos tea actual english tea teabag also bought tin anoth vendor tast pretti much use loos tea teapot bag make quick cuppa'\n",
      " b'tast bali best ice tea candi found flavor spot like cup sweet tea tasti sinc good job candi decid tri green tea latt candi sinc enjoy green tea well difficult describ tast candi milk flavor add creami that reminisc butterscotch instead cloy butter flavor there fresh green tea flavor littl tannic edg aftertast natur sugar add right amount sweet may creat perfect green tea candi everi flavor ingredi list short natur candi enjoy long time without get sick pack last long time great bargain'\n",
      " b'tea easili one best davidson line intox blend rich cherri scrumptious almond tea also honey note make sweet brew scent alon enough make anyon smile tast perfect temperatur ive tri hot use ice tea delight result everi time high recommend'\n",
      " b'use powder peanut butter smoothi easi way use purpos messi clean saw hungri girl use decid give tri'\n",
      " b'far week cat love thing use wrestl match get pill back throat cant recommend thing enough'\n",
      " b'busi owner contact made thing right would definit buy recommend product impress engag servic follow'\n",
      " b'incontin doggi tri kind solut found wonder diaper although full pee slide solv second cloth diaper simpl solut washabl diaper top dispos one hold place washabl diaper couldnt handl full load pee leak bad wherea dispos wee wee diaper soak leak combin great'\n",
      " b'recent got mini aussi puppi determin feed scienc diet pet eat year vet recommend aforement kibbl horrifi actual took time read ingredi shame look suppos better late never start research best dog food avail one came sever differ list tri well neither pug puppi would touch food howev winner provid grain free nutriti meal puppi love well'\n",
      " b'one dog older beagl basset mix brother dog corgi mix let three dog tri funbit dog love funbit fact dog small dog may hard time funbit diamet inch funbit beef rawhid exterior dog chew gnaw center artifici peanut butter marrow must tast good dog work get rawhid get treat insid like treat keep dog occupi leav mess hous funbit rawhid exterior keep dog busi treat coat sauc anyth clean indoor use also like know give dog main ingredi funbit beef hide rice protien fat accord packag also interest ingredi call papain suppos good digest system littl research papain enzym found papaya mani use found wide varieti product util break tough meat fibr use thousand year nativ south america sold compon powder meat tenderis avail supermarket happi funbit dog enjoy funbit keep busi chew away rawhid exterior funbit dont leav mess hous funbit dog snack good dog general health papain enzym may also benefici digest health overal dog owner would well best friend buy funbit'\n",
      " b'organ agav nectar light delici pack bottl ounc make outstand buy compar groceri store health food store price ship speedi even need addit shipment quick especi love flavor tea coffe fresh cornbread french toast waffl tri cut back sugar product excel'\n",
      " b'busi kitchen fresh pie llc diabet custom want qualiti expect homemad pie without sugar order bob red mill unsweeten coconut use thanksgiv sugar free custom got rave review sugar free pie comment oooh smell could tast smell held well even sucralos sweeten gell stood meringu slice even coconut delici thank great product busi custom life kelli storey kitchen fresh pie llc flynn'\n",
      " b'ive road bike consum energi gel almost ten year tell theyr creat equal high amount caffein sugar bad sugar give shake almost hallucinogen state realli long ride honey stinger gel like keep energi easi eat littl water often consum half finish later depend effort negat cheap price would buy twice much bad deal like also great work energi booster'\n",
      " b'littl ago discov sobe lifewat drink like antioxid addit well vitamin zero calori suit well flavor good size bottl fit need well take along daili walk right amount first tri black blue berri varieti like today yumberri pomegran varieti like better nice refresh drink gari peterson'\n",
      " b'delic slight sweet cracker good put bowl munch wine drinker eat realli enjoy mild tast well chees fruit hard find florida popular north use live abl find order amazon'\n",
      " b'nice white chocol bar crunchi hazelnut ritter love chocol cover biscuit fine piec candi think need someth like biscuit type flavor offset waxi white chocol hazelnut good product would better biscuiti crunch rice cereal give bit oomph'\n",
      " b'good qualiti product difficulti find hungarian paprika local market amazon offer wide varieti product offer set good price quit satisfi would order'\n",
      " b'tea good sweet need extra sweeten also less expens buy store'\n",
      " b'wonder chang corn beef great morn meal substitut ham salti fatti ham corn beef'\n",
      " b'mollusk found california mexico place look real abalon want fact label say abalon like'\n",
      " b'clear made seller call coca tea actual box individu packet say coca tea list ingredi effect notic either'\n",
      " b'tri hope would anoth good stapl pantri didnt like well brand buy combin cook pasta homemad chees sauc far worst mac chees ive ever made pasta didnt combin sauc go back tri true quinoa pasta'\n",
      " b'expect bit flavor coffe robust would like name coffe doesnt reflect actual flavor sorri negat review written year'\n",
      " b'mayb daft cant make decent espresso pod machin ive tri tamp doesnt work well ive tri place filter case get wateri dribbl espresso european product think ikea print instruct english line art draw perhap someth wrong like concept pod ill stick bean instead'\n",
      " b'expens buy exact bar walmart box last yrs come amount charg someth bar far favorit atkin bar tast much like snicker price redicul'\n",
      " b'dont think ive ever flavorless chili fan mani ami product one'\n",
      " b'pack contain regular varieti find broken liquor store like one horror movi noth els packag well good your go give deal packag buck pleas ill limit choic good price pay good price freedom choos wont take hit hard find flavor koolaid packag thing wrong flavor happen favorit come look spend mayb dollar bunch look way robber price packag thing there way heck spend buck forc spend year drink flavor itll ruin affect flavor make cranki wife doesnt like cranki marri cranki wife wouldnt like shed probabl divorc spend buck one flavor koolaid shed say need varieti didnt want pay summat friggin powder flavor cri loud give break'\n",
      " b'ive tri sever brand almond milk coconut milk grant dont usual pay attent organ may one organ option pick store coconut milk usual get stuff tast bad especi smell faint smell almond bitter soapi smell tast like soapi water mayb acquir tast bad enough wish read review first therefor thought better leav one also stuff tri may reformul packag didnt look quit said less sugar'\n",
      " b'product doesnt fit keurig brewer use knife punctur lid dump cup fill hot water could use keurig fill suppos wast realiz gave star tast use keurig name charg extra accept'\n",
      " b'order arriv chocol know product handl went wrong chocol deform leak outsid individu packag refriger fact improv consist order onlin'\n",
      " b'disapoint thought would like sunbeam sunshin brand grandma use buy dont compar'\n",
      " b'big fan ami product soup tri great want tri someth new came across one store sever time final purchas like look ingredi complet protien sure would winner yuck gummi flavor terribl cant even put finger unpleas actual found soup terribl sorri ami need chang recip put buck buy great soup tri ami lentil lenitl veget curri lentil black bean southwestern veget'\n",
      " b'bought case ounc pack great northern popcorn popcorn great conveni pack handi lower risk contamin product guarante fresh howev someth wrong case receiv went remain stock threw away anoth pack leak oil wash oil mess left toss one wasnt seal popcorn toss away month buy case start organ pantri notic oil everywher sourc corner box popcorn fun job forgotten today notic oil bottom edg packag seem weaken develop point crack open case ive thrown away use that ridicul opinion might cheaper buy elsewher avoid wast'\n",
      " b'around long time time switch overpr use profit ultra right wing agenda'\n",
      " b'sorri say disappoint tea mani year drank genuin sencha gyokuro tea ship direct japan think develop quit good tast premium japanes sencha sinc fukashima diaster distrust radioact contamin occur wide area japanes tea grow area certain trust japanes govern report longer order delici premium sencha realli premium foil wrap hype premium premium sold store great heartach cours japanes peopl tea grow industri look replac anoth part world thus bring dilmah sencha green tea realli bad see review describ best tea theyv ever drunk even allow differ tast tast bud sensit realli think crazi tea tast bear resembl japens sencha happen come plant speci appar final product complet unrel tasteless aroma sorri total worthless someth wrong report brochur describ mani wonder special cultiv glossi hype unfortun open tea packag could put tea one place sure cant return would full refund realli sorri say desper good sencha green tea isnt never'\n",
      " b'purchas two case libbi pumpkin late arriv rude email receiv half can dent use immedialt could use dent donat fault seach farther price shippig outrag need soon error use percent guarante good luck honest contact good final noth happend inquiri dont expect help'\n",
      " b'toothless yorki make kentucki fri chicken leg bone disappear dog wont touch bite smell like chees way hard toothless dog shi tzu tini teeth'\n",
      " b'strang tea expect bought guava fruit tast actual tast'\n",
      " b'fan ingredi tea anis tast much blech blech blech'\n",
      " b'dont like scent suppos subtl overpow neither man pleasant seem well enough job clean rins said bodi wash product soap matter realli like wash face either use differ dove product realli doesnt seem get deep pore skin feel ill finish bottl wont make quit buy old spice suppos cant get past smell'\n",
      " b'first purchas year ago fantast poppi seed need raw dirti unwash tasti howev case recent seed dri flavorless compar predecessor appear rins flavor alreadi also time sent someth differ frontier seed appar common complaint overal nfpst'\n",
      " b'way gummi choke littl kid grandkid love flavor difficulti chew swallow age normal problem gummi candi'\n",
      " b'like coconut water tri mani brand one worst tast tast like water bad tast electrolyt powder open first decid thrash'\n",
      " b'product sugar honey sucralos maltodextrin sucralos approxim time sweet sucros tabl sugar twice sweet saccharin time sweet aspartam front packag tea honey ice green blackberri pomegran flavor natur flavor back liption tea honey low calori ice tea mix feel good simpli made real ingredi sweeten honey made real tea leav real fruit flavor calori per serv aspartam know tast good product fals advertis natur aspartam problem sucralos tast tea sorta tast honey base tast like splenda disappoint tast like tea red juic made splenda'\n",
      " b'first way overpr individu packet hard food son year old packet isnt enough snack give two second one messi particular strawberri strawberri left red trace son hand mouth cloth bad skin stay stain bath didnt come babi wipe like appl'\n",
      " b'love vanilla coffe thought would tri new brand worst tast like chemic smell even wors stuck know like van houtt much better give zero star'\n",
      " b'got love stevia love chocol sound wonder aw ugh tri like direct said tri mix coffe tri put milk tri ad sugar tri cold hot room temp didnt want admit realli bad realli realli want like couldnt dont buy serious yuck'\n",
      " b'cola far favorit drink wife usual debat pepsi coke prefer coke neither one ever win saw bottl hope find someth would stop argument fentiman cola come nice look bottl old fashion feel even name curios beckon someth forth earli certain first open bottl found heavili carbon say favorit coke wife pepsi someth might prove boon product snif distinct smell cheap cola resort past period smaller wallet that say bad took sip liquid manag get word realli isnt face contort wave disgust one foulest soda tast date includ old tab drink first coupl second tast like cheaper cola aftertast hit vile would get someon gag gift emphasi word gag never purchas anoth bottl sake spent money bottl howev wish wast guzzl whole thing limit carbon inde becam boon product turn end mistak everi time carbon would forc burp get noth bad tast first coupl second instead got horribl aftertast may close cola howev import rememb evolv reason tast one reason give coke day even pepsi'\n",
      " b'cat friske pate can cat food instead can stuff cat lost weight caus wouldnt eat differ case amazon also differ flavor filet brought supermarket prematur assum would like atleast one flavor hate friske shred filet food love friske pate cat food order case love flavor far love pate'\n",
      " b'terribl tini describ cross pack real good one king oscar best find season ever'\n",
      " b'tasti salti price disappoint mani shell empti expect find shell pistachio bottom bag assum fell shell packag werent wont buy product'\n",
      " b'bought item good faith use two teabag get tea flavor tea flat flavorless close drink water mayb use higher qualiti bulk tea come bag dont think lipton tea stronger'\n",
      " b'order daiquiri bag tri similar product year ago thought concept clever one sweet everyon said tast like cough medicin'\n",
      " b'order bag chew dog kid first chew take inch long inch wide paper thin look like piec bacon dri less bag actual larg chew insid compani obvious think custom idiotsfals advertis lawsuit cerntain warrant case get rich rip time put send back bag like everi one dollar good product good well let rip hope lawyer su innova dog food get wind'\n",
      " b'seep one bag two half cup water drank throughout day although feel though kind horribl headach thought mayb someth els stop drink anyway headach went away resum drink headach came back sinc stop drink tea back normal idk bad batch mayb doesnt work well bodi tea bag cant use lol'\n",
      " b'could get better deal spend check isl walmart come glad didnt send gift someon less forgiv'\n",
      " b'first time conscious use stevia sweeten youd put heap cup bowl match sweet youd get splenda glass peppermint tea use packet gave packet stiff tea sweet tast rather earthi although could organ short like food beverag realli sweet without calori real sugar may better splenda unless want spend minut open packet packet stevia'\n",
      " b'syrup horrend tast noth like diet mountain dew beverag might will drink love diet mountain dew cant stand tast smell buy unless want poor drain would feel sorri drain'\n",
      " b'usual love bar happi find amazon arriv chocol outsid discolor crumbl mayb warmer weather chocol melt reharden unhappi product never order amazon marketplac'\n",
      " b'think great number peopl dislik noodl wonder would extra pack order think may solut fish bait smell bad fish like stay hook well thought'\n",
      " b'happi product come hard without direct tell suppos appar dehydr fill soften hard dont know would broke hand'\n",
      " b'pot broke senseo coffe maker fit thick use tray non work take product mark'\n",
      " b'expect sale product inform indic amount type pkg noth contain one leaf one teabag one pound fresh organ peopl dont like review product normal would agre sell amazon like profession compani without requir inform consid review amateur gross ineffici wors dishonesti product sale venu amazon even allow downgrad credibl'\n",
      " b'eat consider amount popcorn everi week almost alway redenbach like brand product dread first salti waaay salti second pretti greasi butteri mind greasi get wors top drawback fact smell aw sort chemic odor what realli odd smell like popcorn know microwav popcorn make peopl come creep woodwork look hand fluffi corni good product heck kid wont eat experi see second bag bad first threw rest box ive review thousand product given less hand ad orvill natur popcorn elit list gross despis fear feed children unattract smell stick orvill butter tender white one flavor type tast good smell good pam upset mom blogger'\n",
      " b'excit see product anoth poster mention tend eat way much regular peanut butter spread half pita fruit preserv half tast terribl tri make nutti almost realli salti tast probabl wasnt worst thing ive ever eaten tri make toler isnt good'\n",
      " b'use love ausom fruit nugget kind misshapen chicklet fruit snack world alway tast fresh hard find neck wood mom got rat yes excit natur made facil made respons china mention tast horrif crave tast plastic ting rubber sampler heck happen tester elder sinus disord sorri folk awesom'\n",
      " b'min mention video hormel lean smoke ham strong chemic flavor like cut ham small piec mix larg amount rice bean pasta etc would probabl tast mix relat small amount noodl tast chemic preserv overwhelm make snack meal almost ined said everyon tast prefer slight differ may want pick local groceri store decid'\n",
      " b'bought cook oil massimo grape seed oil galon here bad experi label doesnt say expel press cap without break seal wait seller respons'\n",
      " b'disappoint shipment gooseberri receiv yesterday can damag shrink wrap damag sent way return cant even find way leav negat report seller obvious fault never agan'\n",
      " b'use two varieti kitti litter like idea abl two month total litter chang clean litter box daili end first four week litter could stand whole area reek went back bought cheap clay litter realli dont know tri extrem disappoint'\n",
      " b'ive spent least hundr buck old zico box metal line juic concentr got shipment new bottl took swig almost spit tast like plastic gave swig stomach hurt immedi log amazon could warn other buy crap close bottl put back box send back amazon never buy zico yuck'\n",
      " b'pump work look product increas maintain milk product start drink tea thought perhap work decent tast ad sugar unfortun notic daughter start realli pain gas night nurs home couldnt figur chang til recal review product stop drink tea pain gas stop well worth shot'\n",
      " b'thought would cool heat adjust wow hot even mild set super duper hot hot spray eye start instant water good flavor either dispens product odd spray'\n",
      " b'sick joke hell cute bunni pictur absolut appal disgust dont know els say'\n",
      " b'listen review arriv four box crumb whole cracker shipment throw'\n",
      " b'feel bad write bad review feel cheat dont believ peopl buy product base experi mayb product good one except bad especi sinc suppos gourmet small bottl vanilla buy walmart tast much much much much much like vanilla product tast like vodka dash vanilla feel like cheat even though price good valu actual scare purchas vanilla internet bulk compani find tri store speak bottl purchas would recommend someth els vanilla gluten free although mani corn syrup one sugar realli dont understand posit review product bought cheap amount gourmet think tast wors imit imit least tast like vanilla apolog write review peopl need awar product want buy compani tri someth vanilla'\n",
      " b'bought think werent giant gave away suppos fact corn syrup use instead sugar wilt tootsi roll dont charm use probabl wont purchas'\n",
      " b'plus would accept return open bewar expect someth resembl chestnut tast like moldi gunk negat star product would receiv negat make sure purchas direct amazon seller dont allow return throw whole case away'\n",
      " b'order product read review decid give tri dont know other person effect exclus breastf babi month produc least day month dont know happen produc less less tri product use product week drank lot liquid still produc much expect produc produc bottl day stop use dont know use right realli effect'\n",
      " b'saffron receiv noth like pictur two small bag jar advert tini stick stamen saffron saffron smell saffron flavor idea hesit even use cook two packet bonus materi includ order suppos two littl packet saffron one bag crush powder small bag tumer saffron sent email seller respons first time feel realli amazon seller seller respond email review let know otherwis bewar product seller'\n",
      " b'sausag past plastic tube shape like sausag cut tube your left log mash one review mention itd better honest came tub tast fine remark way sure product better put tofu tsp spice blender shape like poop usual vegan fake meat least textur close cant approxim meat exact least tri soyrizo make attempt plastic packag claim replac pain butt cook structur burn readili cook half high temperatur like packag suggest burn quick cook half low temperatur cut smaller poop could roll regardless long cook dri becom solid disappoint soyrizo buy'\n",
      " b'disappoint bought costco read internet articl gave great review howev tast seem bland over greasi read ingredi list explan theyr made palm oil chocol powder check ingredi buy ingredi say lot qualiti good qualiti product tast noth like truffl best passabl odd textur faint chocol flavor buy'\n",
      " b'almost stop give son iron drop think product give much daili iron need sweet potato pumpkin flavor say contain daili iron need realli dont understand compani lie nutrit label'\n",
      " b'didnt like much real thing stretch flavor werent favorit favorit jelli belli brand jelli bean red appl flavor werent licoric flavor one realli overpow real jelli belli like licoric flavor one contain though found skip one still great deal great tast bean real jelli belli fan reason alon dont think would purchas think real jelli belli tast curious know though abl use jelli belli logo'\n",
      " b'say weakest brew ive ever coffe machin flavor also blatant artifici conveni good'\n",
      " b'thought would great tast drink got kid kid love blueberri also less sugar calori wrong kid spit drink right away mint real strang flavor nasti'\n",
      " b'love bakeri main granola granola bar big disappoint didnt mind fact super chewi tast continu granola granola bar'\n",
      " b'dear artic zero excit saw health market today bought even though pretti expens couldnt wait tri outsid market right want back return didnt want someth like gave anoth tri took anoth bite hope would chang mind nope gave anoth tri hope someth would grow nope coupl minut side start melt bit gave part tri hope might tast better well guess got hope caus didnt tast like dilut someth could tast chocol could tast mint first tast like noth dilut someth bite tast unpleas tempt toss custom'\n",
      " b'didnt like strong water half still strong thought espresso suppos lot caffien expect energi boost instead took nap hour later guess like espresso strong tast youll like didnt tri ice hot'\n",
      " b'enjoy sour appl blow pop excit receiv packag first take time packag arriv second open first blow pop look pretti old expect condit basic everi singl one open far one look old fresh disappoint compani would send product kind condit never order seller disappoint wish could receiv money back know happen save money purchas somewher els'\n",
      " b'tri potato salad germani amish counti horribl first liquid like soup extrem sweet look real german potato salad get one deli tri make dont buy one complet wast money'\n",
      " b'disappoint product alway enjoy anni product never problem chees solid clump unabl make sauc without lump use differ packag order problem sure result manufactur issu sit shelf long warehous either way bewar'\n",
      " b'see product note enclos sent product say gift absent therefor receiv without knowledg sent'\n",
      " b'want tri tim tam read one celebr like order pack ship expens worth buy pack didnt like tast nothng special sweet chocol prefer dark chocol sweet one dont know rest pack'\n",
      " b'sugar wafer awesom perfect sweet one buy groceri store fresh crispi one receiv amazon toward end shelf life less day good fresh one store'\n",
      " b'product tast good buy contain type wegman get place pay twenti six ship handl found freezer pack ripoff ask high ship respons fair snotti receiv product found label special select wegman sure enough next time went addit two contain expir two week ship cost make big ripoff get wegman'\n",
      " b'food gave bad gas end donat local shelter go back old brand chang alway good lol'\n",
      " b'usual buy trader joe thought would easi buy box two bar open look like chocol crumbl smear insid packag also tast bit odd wouldnt recommend purchas'\n",
      " b'coffe good rich bitter tast even sugar ad also packag contain pod coffe expos filter around smell nice coffe drawer kitchen'\n",
      " b'asian descent serious tea drinker big fan anyth citrus want bad like tea bought singl box sale local groceri store tri first didnt want commit whole case amazon right away boy glad tri choos organ whenev possibl tea overpow aroma lemon pine sol cowork laugh concur speak one seventeen tea bag left mayb ill save next time one come cold'\n",
      " b'thought morn coffe throw flavor quick bite eat actual appl ginger flavor wasnt quit right there much ginger mayb flavor overpow appl would recommend'\n",
      " b'spend bajillion dollar order ikura salmon roe sushi crave time thought brilliant plan save littl money cut wast rice substitut starter jar caviar reeeealli salti tast mayb could dealt price differ except whatev smokehous flavor gross even like smoki beer local breweri make buy'\n",
      " b'eat lot almond tast stale chalki probabl make almond milk use bleh buy'\n",
      " b'plastic cap cost make sell big markup ive use time differ origin bit pain clean kap use brew right away hole kap allow air coffe ruin tast store time also allow coffe spill tip place sticker hole piec tape that anoth annoy step detract conveni go back commerci avail want grind cup coffe quicker less mess use french press instant hot water electr thermal hot pot wife keep tea well least use kap poker chip'\n",
      " b'base price list compar multipack item well photo provid item expect receiv bottl ketchup care review descript show realli one bottl read amazon com descript care lesson learn'\n",
      " b'want applesauc bit carrot flavor one your expect carrot pure skip hand price pretti good organ product'\n",
      " b'go order littl shihtzu know picki bought local pet store first glad sheldon would noth chunk huge littl dog cut still would sniff walk away disappoint see smaller can would bought sure piec smaller well doesnt realli matter wont eat'\n",
      " b'advertis low hull popcorn hull popcorn ever use wish bkheurmann product still avail magic mushroom popcorn lbs pack'\n",
      " b'ive own cat life ive tri pretti much cat treat find store year alway game tri someth new see cat enjoy amazon vine sampl pack petit cuisin grill tuna treat offer prompt grab set test get strip essenc real grill tuna come reseal pouch fair expens cat love fresh fish eat varieti howev interest mayb one solid chunk fish tri break easili digest chunk wasnt interest put rest fridg tri later reseal pouch didnt great job wasnt interest eat wonder better your go expens feed cat real tuna simpli buy tuna far less groceri store feed cat seem extrem buy special certain see cat would enjoy fresh tuna varieti reason dont recommend buy special expens version aim life'\n",
      " b'delight find wheat free licoric amazon order kind black raspberri candi tree black licoric anoth compani candi tree licoric terribl unfortun nobodi famili like end trash'\n",
      " b'box tea expir date less month seem seller unload stock cant sell wont buy'\n",
      " b'realli want feed babi bottl corn syrup use realiz switch gerber much better babi'\n",
      " b'like mani review food maker doesnt pure food blade doesnt move plan send back compani repair per instruct babi brezza annoy send return ship product addit havent abl actual reach person talk sinc custom servic number servic anymor tri call main line transfer someon voicemail return call yet mean time ive success pure babi food cuisinart stick blender tri first buy one step food maker lure process hope wont'\n",
      " b'almost good regular jelli belli littl odd good toler laxat omg match babi clear schedul'\n",
      " b'ive tri tasti bite meal kit found veggi curri quit tasti bought whim flavor flat simpli peanut fragrant peanut like jar peanut butter tri tofu skewer beef skewer great use one pouch couldnt figur rest sat refriger mold stuck pack horribl prefer stuff trader joe'\n",
      " b'tea leav oolong tast miss floral tast aroma grade kwan yin oolong tea leav qualiti chines tea shop tea leav provid singl infus tast gone grade leav provid two infus'\n",
      " b'got one worst cereal life dens bare swallow mani calori small amount cereal cereal alot better even littl bit sugar'\n",
      " b'tast textur cereal doesnt excit tast bud would agre anoth review point would need add fruit nut sweeten make toler cereal howev tri recip bag whole grain muffin die lost anoth review add bread today experi honey wheat bread recip might also good whole grain pancak excel sourc whole grain fiber winner unadorn cereal categori'\n",
      " b'stop use pricey junk search chicken jerki treat china googl info spread word media coverag way littl fortun dog suffer small amount kidney other lucki rememb chines pet food scandal kill best friend tell amazon sell chines chicken jerki proven safe even avoid'\n",
      " b'use lipton darjeel green label tea last year real darjeel green tea user tea cheap tea without real flavor tast real darjeel green label tea rich flavor tea one notic three feet away descript green label find packag purchas seller well abl return item either sinc food item'\n",
      " b'coffe bad tast well cant realli tell drink smell delici gotta admit tast aw stay away product worst coffe ever'\n",
      " b'read posit review thought give product tri know anyon say tast like sugar stuff aw tast agon could smell differ coffe let alon tast glad use place sugar tri cut calori glad altern choos splenda site would allow place review without give product star zero book'\n",
      " b'mix breed medium size dog normal eat food right feed cup morn cup even would eat food would come next room almost gag like cat hair ball plus would finish dish perhap corn meal main ingredi dog carnivor funni shape piec includ know hit leg member famili bag nice zipper closur though that good found brand'\n",
      " b'tempt price product sinc drink lot loos green tea dragonwel tea coffe bean direct look like expens loos green tea actual oliv green color color tea dark almost black tast like ordinari black tea'\n",
      " b'dont normal buy energi drink never like tast caffein way settl stomach opportun sampl product thought certain worth give tri red rain berri flavor delici yet ounc coupl swallow leav howev sure peopl wouldnt buy product think tast good tast secondari desir result energi boost sampl one bottl say feel boost energi bright side didnt get jitter either like caffein vitamin energi drink ultim current price would much better buy coke take vitamin save ten dollar'\n",
      " b'ugh excit receiv packag thought coconut oil mayb mistak open one jar artisana organ raw coconut butter aw lot thin liquid combin extrem hard stuff stuck side larg chunk throughout jar consit feel mouth thick gritti plaster tri mix thing forget even tast pleasant bought three jar one open guess stuck attempt return jar hope get refund exchang differ brand coconut oil even give coconut oil dog would give product clear cannot use skin condit yucki mess someon pleas provid clue wrong'\n",
      " b'first happen custom told declar weight wrong product use list amazon well pamela websit ounc fact packet singl cooki ounc slight still dont correct lengthi email phone correspond sheepish admit error weight could say worth troubl oneself that three time exagger goal truth advertis straighten order cooki postal scale weigh wont find weigh ounc pretti certain second finish correspond compani order product packet ounc tri packag offer believ full ounc think wish weigh packag content extrem chocol realli describ cooki individu packet contain stale least dri noth like tri tri want prepar ask amazon credit'\n",
      " b'famili member use word like gross disgust describ chew admit agre routin eat natur food snack wasnt expect twizzler expect product tast like raspberri someth molass fruit give weird twang wretch aftertast much like prune juic love realli dark molass like blackstrap perhap might like troubl even give away'\n",
      " b'new formula horribl gave bad bad stomach issu entir day take tri make sure yep thing stevia natur market want caffein would bought one caffein supplement disappoint manufactur seller point chang formula'\n",
      " b'seen item store know clump litter sure want order'\n",
      " b'disappoint mark precaut folk stomach problem flavor extrem hot even burn mouth sure like hot spicey love'\n",
      " b'cooki tast like cake snack call devil dog theyr dri probabl chocol dirt sprinkl chocol chip would tast like like devil dog youll probabl like cooki'\n",
      " b'serious worst coffe ever tast huge amazon fan learn lesson one read review product descript care never would thought cup could instant coffe didnt realli take note parenthet descript wish stuck nasti thing even took box work med student mooch anyth even world class scaveng wont drink swill buy unless closet nescaf fan'\n",
      " b'sound like cute way expens tini packag bean flavor indistinguish one anoth worth mind'\n",
      " b'worth money flavor realli doubt margaret hope two pot put away order margaret hope autumn dealer divin'\n",
      " b'drink lot tea look someth anoth flavor tri like ginger know suppos sooth remedi thought instant ginger lemon drink would someth tri first thing notic aroma smell great strong ginger smell ad water tri strong tast lemon ginger overpow ad doubl amount water tri still strong spicey much wouldnt purchas'\n",
      " b'purchas peanut brittl peanut crunch open peanut brittl stale old worst peanut brittl ever tast went onlin return day arriv find item elig return wast money purchas product poor qualiti tast horribl'\n",
      " b'interest post put high fructos corn syrup packag read ingredi see contain corn syrup bad someon allerg corn'\n",
      " b'major lover panfort eaten year familiar proper tast brand still avail decid order first time christma gift marabissi panfort torta cioccolato three friend see frequent recent opportun visit friend learn three panfort unpleas gritti textur none finish panfort felt comfort tell gift want seem unappreci email provid mushroom specialti explain issu contact sooner also copi amazon never heard either awar return complaint polici order fact receiv credit neither amazon mushroom never courtesi repli time laps affect qualiti panfort origina made nourish crusad last long probabl contain main dri fruit nut'\n",
      " b'order jeremiah pick coffe organ breakfast blend whole bean coffe time howev last lot receiv realli bad qualiti lot broken coffe bean oili hope seller check happen may tri'\n",
      " b'receiv blackberri loganberri boysenberri intact surpris find raspberri seem beaten boil mush amazon issu full refund feel bad dont raspberri pantri flummox reorder tri luck take pictur post imag short'\n",
      " b'thought get natur flavor half contain propylen glycol toxic extrem toxic natur someth use wish still box notic problem use one flavor shake got bad stomach ach look ingredi ala box recycl time'\n",
      " b'dog food expect meat type process spongi look pale color blob dog would eat cant say blame anyth remot resembl salmon smell aw wast money'\n",
      " b'want love salti imposs enjoy bugl salti year ago increas salt'\n",
      " b'last two shipment senseo work senseo coffe pot compar previous pod discov paper materi firm water coffe pot stop love senseo disappoint'\n",
      " b'shampoo cream shampoo claim nourish scalp second ingredi sodium laurel sulfat known scalp irrit shampoo also tint pink match condition dont like use hair product dye stain hair also heavili scent wont use wouldnt recommend anyon els'\n",
      " b'husband celiac manag fine care toler trace amount gluten soy sauc exampl betti crocker browni mix gave say total gluten free celiac bewar'\n",
      " b'order item wasnt ship way behind estim arriv date offer compens inconveni ask would express ship item respond sinc use proiriti mail guarente arriv date ridicul got item final friday oct day order day promis time frame product come silver packag look logo bag nutrit info ingredi communic also poor took email befo got respons'\n",
      " b'soda price task like site closet year somewer wont order onlin'\n",
      " b'receiv last order case full bent can would never purchas bent pet food groceri store decid return order much troubl sinc good stock food cat put case cabinet unopen six cat eat scienc diet basic use two can daili split amoung treat two day arriv product note disgust smell come kitchen area two can bad damag open threw rest away total eight rescu anim cat alley cat dog mutt gold cat well care indoor pet obvious clean constant support clorin disinfect industri disgust experi cancel month order friski cat food classic pate special diet ocean whitefish dinner can pack'\n",
      " b'weve got three dsh cat two boy one girl fix could care less spray love regular catnip leav though mileag may vari'\n",
      " b'like larg varieti herbal tea one flavor omega strong overwhelm tast pomegran blubberi probabl tea good distinct fishi tast'\n",
      " b'sent mother think great deal dont put someth box keep dri ice well suppos refund good wish got chocol mother day that thing buy food snack amazon ill still use site'\n",
      " b'saint aunt actual bad couldnt even finish singl one strang chemic sort tast hard identifi describ even wors aftertast tri hard finish bar tri get like end gag throw away anyon want rest box'\n",
      " b'neither two cat would eat treat fact neither dog would eat theyr will eat occasion cat cooki look packag look like main ingredi corn meal treat look smell like cheap dog food fish scent appeal basic paid overpr bag corn meal base pet food stuck bag none four pet eat'\n",
      " b'fruit slice deliv sugar coat melt away runni juic bottom packag slice look though toss fro look anyth like pictur limp gooey look ask remov negat feedback given refund howev feel other know rate refund amount order particular item daughter cook parti end use pretti deliveri live distanc away make sure ask bierman put item melt get heat ice'\n",
      " b'size retail groceri store could get two less price one'\n",
      " b'tell king oscar mediterranean sardin distribut bumbl bee pack poland inferior qualiti compar brisl ici water norwegian fjord'\n",
      " b'sachet come individu wrap plastic baggi larg cup say youd need sachet brew tea wasnt obvious weak tri well box expir date wasnt problem tea soak water seem develop faint tast plastic sure that come could baggi sachet made kind plastic fabric'\n",
      " b'terribl look bag thai tea make hot tea tast like regular black tea similar flavor stuff serv restaur'\n",
      " b'read great review post tri chai tea disappoint product noth special better chai tea teabag cost much less unless hook gadget dont time microwav cup water tea save money buy good chai tea mix milk latt disc didnt foam much left cup mediocr chai tea lot warm milk product also sweet'\n",
      " b'review bought regular contain supermarket bought amazon reduc buy micro packet flavor also use make good cup coffe flavor kind coffe like pay extra micro packet still one old contain take time open dump littl packet make littl thing even somewhat conveni rate star put back old contain'\n",
      " b'order daughter think tongu splasher dont mind chang name like origin tri one daughter couldnt even bite hard final took hammer broke one said tast hard chew call send back insist product know theyr dont advertis mayb got old batch assur fresh dont buy dont want jaw problem'\n",
      " b'ive alway use regular litter tray scooper procedur saw type seem good true pour litter top strainer tray clean litter sift cat end half clean litter origin put clump litter make solid adher undersid strainer tray bang someth get dirti litter litter spray around floor matter hard tri neat ad addit sweep step whole procedur also litter strain weigh pretti hefti your crouch floor lift sift entir tray litter daili say scoop daili regular scoop get job done half time half mess half troubl go back old method'\n",
      " b'buyer bewar origin gave product three star deal seller led chang one seller took except mild review sent harass email home address request refund never buy origin seem dont know that chomp one right away lie around bit doesnt seem interest mayb dri'\n",
      " b'got suck review promis ship cost stuff isnt even good chock full nut regular coars ground made normal measur tbsp water french press produc weak cup person bodi outsid moder acid tang ugh increas tbsp got bodi flavor got dri arid interest note tast still woefulli lack develop bit headach guess wasnt total loss dont fool support favorit local distant micro produc'\n",
      " b'love oliv love cora oliv aw realli bum bought pack love oliv cora havent abl find one person eat one without spit extrem bitter'\n",
      " b'contain maltitol may caus bad gas peopl bought day said sweeten splenda assum wouldnt contain maltitol stupid suppos okay dont exhibit laxat effect otherwis steer clear one consum light quantiti'\n",
      " b'think anyon read ingredi stuff continu buy pay attent tri smoke test voltag tongu jog along congest highway carbon monoxid physic danger mayb partial hydrogen oil aspartam diet pop process cake mix statin drug fast tri self distruct friend fda approv tast eat hearti pay attent updat look like dislik realiti'\n",
      " b'tast good may good hydrat gram sugar come gotta better consid healthi'\n",
      " b'tri flavor holiday collect wonder recommend high buy anoth sourc agre previous review bait switch receiv cancel order avail could understand supplier want sell advertis price usual dont rate supplier item question felt necessari peopl know devious practic compani buy anyth'\n",
      " b'purpl residu product leav child anyth touch worth stick color'\n",
      " b'true coffe lover favorit beverag morn night enjoy brew coffe home buy varieti brand vari price point read descript melitta cafe collect excit brew extrem disappoint stale coffe smell open bag impress flavor brew tast like pouch hotel coffe flavor stale bad aroma packag look upscal great price unfortun coffe good throw away'\n",
      " b'wont give babi product state countri australia receiv made china mani recal china made product stay away edibl thing least'\n",
      " b'boyfriend got pack gum store week ago excit rememb younger would thought time imagin play trick agre gum tast chemic terribl consist spit chew dont know chang someth mix indic low qualiti corner cut societi live would definit recommend gum nostalgia factor fun flavor'\n",
      " b'receiv vanilla bean time happi arriv could make vanilla extract ad small packag bean nice moist vanilla bean dri told tripl bag soon open disappoint sure vanilla extract go turn'\n",
      " b'one worst tast product tri dont even look stay away well unless starv fine'\n",
      " b'candi bar appar made oversea distribut never got distribut vendor need offload order compani mass figur review talk candi asian indian languag wrapper might avoid seem get oversea bar wherev get even one state point bar horribl tast took two bite first one toss entir group trash hail flavius'\n",
      " b'weav cheesecloth least strand cotton weav also deform object easili slip thought could compens multipl layer layer prove inadequ strain greek yogurt yogurt simpli ooz layer ricotta reluct return item simpli couldnt think anyth mayb hard chees dont make'\n",
      " b'item shown page item receiv item receiv kind soy sauc restaur one dont screw cap rather small hole side pour word cant close bottl bought purpos transport use possibl fortun person bought doesnt mind bewar actual item show buy page'\n",
      " b'newton fruit thin fig honey love fig newton thought would great snack food surpris find hint fig newton tast bit fig cooki hard realli appeal cooki crisp pretti good size overal tast bland also isnt over sweet nice wish tast like fig newton price tast look elsewher altern cooki like'\n",
      " b'cook almond meal product label want cook almond want raw meal blanch bewar live essenc product kill heat'\n",
      " b'receiv product unit alreadi leak heavili figur burst transit big deal right howev clean rest unit notic gentl pressur seam leak easili one didnt leak took run burst pocket pressur appli far could tell contact seller told happen wrote powerbar week ago respons buy said abl tri unit love stuff gel thin enough slide dri throat hot day tast isnt bad citrus help saliv bit help werent poor packag horribl custom servic would gel'\n",
      " b'intrigu flavor combin never thought tri alo ingredi even would never pair passion fruit went curious disappoint drink look strang oliv green transluc slight darker green bit float thick opaqu label hide fact first glanc okay one swig though felt like chew drink bit slimi numer tast pretti sweet first ting alo gave aftertast stick swig later resign wasnt even go finish bottl tehn notic bottl isnt one serv serv bottl serv size ounc strike ploy make nutrit info look better wont drink unless free option even would think'\n",
      " b'purchas product give relief pms diabet also women breastfeed also caus breast becom larger someth dont need wast money buy someth cant use'\n",
      " b'regret say disappoint coffe pod immedi upon open packag obvious lack wonder coffe aroma rather stale one although titl coffe appeal would purchas thank let remark'\n",
      " b'love ginger love ginger candi cooki treat etc howev hard candi way mark tast uninspir bland enough ginger zing water ginger tast'\n",
      " b'worst appl cider ever drank sound appl tast anyth like never purchas stuck'\n",
      " b'read peopl cat love kitti kaviar look forward make felin happi well turn nose stuck kitti kaviar wont eat plus exact inexpens sigh'\n",
      " b'item though cute idea realli doesnt live titl pink fun especi use glass mug see whole drink hot chocol part titl disappoint cours wasnt fulli expect milk chocol tast honest cant even say tast remot like white chocol realli kind chocol matter your look novelti drink cute especi young girl howev your expect someth akin hot cocoa general understood would look elsewher'\n",
      " b'cracker great box purchas recent overcook half broken disappoint elki savori cracker spring onion box pack'\n",
      " b'purchas pasta want whole grain whole wheat pasta eat organ pasta sauc dri pasta come box serv pasta cal fat sodium carb fiber sugar protein pasta bitter interpher flavor sauc pasta difficult swallow pasta great textur easi prepar stick give pasta flavor textur smell appear unfortun dont eat eye'\n",
      " b'chang recip thing great like sugar cover peanut extra flavor'\n",
      " b'crunchi tast like cheddar although cant quit describ tast would say like carrot well first ingredi carrot yes call carrot chip cheddar said probabl finish bag eat hummus plain good would buy record love carrot one'\n",
      " b'good probabl none web site complain product longer avail canist tast coffe excel price packet prohibit inconveni use packet home pleas websit complain sure nestl done greed alon way charg much less product cours claim way custom prefer coffe packag yeah right'\n",
      " b'chocol manag bitter saccharin tast protein fill graini difficult get tri chocol peanut better instead aw sit shelf wait unsuspect guest doesnt mind lame snack'\n",
      " b'husband big fan starbuck brought home mocha via like think tast like burnt black pepper serious bad sell'\n",
      " b'almost imposs get lump short use stick blender also bag milk come weak drop one counter top milk power went everywher'\n",
      " b'expens buy amazon coupon way cheaper order direct manufactur site'\n",
      " b'buy peach three year use nice flavor healthi appear last month theyv terribl color pale flavor horribl sometim tast metal time tast bad like mayb process improp kept buy hope got ala ive accept fact buy whether amazon local store bad cancel subscrib save divorc forev'\n",
      " b'know ginseng tea earthi flavor tri differ brand one tast like dirt good flavor get stronger longer sit'\n",
      " b'vanilla howev lip bottl round vanilla alway spill pour'\n",
      " b'use buy friski dental diet four year old felin sever gingiv result terribl breath tooth decay friski cheap brand actual pretti good job improv condit sinc refus let brush howev took food market remain option food hill find onlin free ship cheaper price seal deal dont usual store oral condit deterior feed hairbal healthi weight formula cat ate meantim happi new dental food slowli switch realiz food realli isnt good seem mild improv teeth breath still aw see tartar compar improv saw friski start cough hairbal almost everi day gain weight rapid even though feed less cup day also act hungri time check amount fat food almost doubl healthi weight formula feed normal amount continu get fatter month gain least pound starv maintain normal weight recommend check nutrit even tri hill cat sever gum tooth diseas weight issu hairbal problem review gave favor rate howev mayb cat mild problem work'\n",
      " b'pretti high hope consid mani peopl say strong cuppa lot flavor better senseo pod mass market one doesnt match rich cup joe baronet small villag blend pod also flavor pretti one dimension cup coffe job someth buy'\n",
      " b'tri love kellogg fiber plus bar tast much better general mill fiber one mistak tast good fact theyr quit disgust tast last long time youll tast hour drink one theyr fill fiber protein vitamin also fill sugar pretti high calori ran visalus that pick local store make mistak visalus benefit price per day lower calori lower sugar tast million time better dont drink lose weight use nutrit regardless want drink protein shake suggest stay far away visalus liter tast like vanilla cake mix tast like garbag bag'\n",
      " b'shocker favorit candi candi stale buy store warn'\n",
      " b'review true great idea pain pop clear lid side even figur keep wait break hand take pressur pop lid feel fragil like break much pressur would consid buy one new design seem sturdier open top side'\n",
      " b'jacob best cracker world way pack amazon total mess enjoy pack crush other even least damag third broken cracker buy amazon find anoth sourc'\n",
      " b'although normal love green mountain coffe particular blend aw bitter hint wonder complex enjoy kona blend dont bother'\n",
      " b'dont join buy swedish coffe ikea good perk packag join end give away coffe packag make third expens coffe world trader joe good spend money order jamacian blue mountain yesterday receiv box didnt order heritag blend tin discov plus dollar charg credit card call phillipin gevalia longer american phone woman could bare understand told sent postcard week ago never got inform order club member unless cancel order send anyway total illeg loud inform feder offens addit credit card mail fraud cancel membership sent refund credit card well see follow file charg compani good swedish coff turn terribl greedi compani whoever creat coffe asham turn pleas dont buy even good acid'\n",
      " b'thus order someon els love endang speci chocol especi dark well tri piec tasti cours fan dark chocol either surpris dont care think ill stick chocol'\n",
      " b'foul aftertast tast first mild bile tast hit love hazelnut though'\n",
      " b'bacon fiend excit tri baconnais howev small tast husband found disgust tast chemic much like bacon like smoke flavor threw away'\n",
      " b'realli like collect purchas first time two year ago given alreadi familiar tea made purchas product descript includ two tea tri thought new collect combin new old product turn old collect despit product descript collect includ two tea tri thought may ship problem two tea also list amongst ingredi box sale sale make tea purchas store know box'\n",
      " b'ship shabbi gumbal plastic bag stapl lot crumb bag guess expect someth profession look like packag someon garag storag unit truli gumbal quit shock expect final describ item outlin descript werent hassl would return order anoth vendor'\n",
      " b'tart bitter aftertast horribl diet rootbeer make feel bad drink probabl wont ever buy brand name'\n",
      " b'love cappuccino usual order maxwel hous want tri sugar free product order caff dvita light fluffi rich tasti dvita dark flat bitter ad powder creamer tri lighten extra sweeten vanilla noth get tast better wast time money live africa wait month receiv order wait anoth month receiv cappuccino stuck maxwel hous cappuccino favour run product wish'\n",
      " b'someth wrong peach purchas sun maid dri peach groceri store walmart past wonder absolut foul tast also notic dri peach longer shown one sun maid product sun maid web site also longer find local groceri store note amazon accept return food product high recommend buy'\n",
      " b'your sort person cant drink plain water probabl make easier howev couldnt finish three pack threw unus two away make water either slight add littl overwhelm sweet add littl dont like water your probabl much better serv unsweeten ice tea herbal tea wont tast extraordinarili artifici']\n"
     ]
    },
    {
     "data": {
      "text/plain": [
       "<400x16192 sparse matrix of type '<class 'numpy.float64'>'\n",
       "\twith 27366 stored elements in Compressed Sparse Row format>"
      ]
     },
     "execution_count": 37,
     "metadata": {},
     "output_type": "execute_result"
    }
   ],
   "source": [
    "print(final_4000['CleanedText'].values)\n",
    "final_tf_idf"
   ]
  },
  {
   "cell_type": "code",
   "execution_count": 38,
   "metadata": {},
   "outputs": [
    {
     "data": {
      "text/plain": [
       "array([[0., 0., 0., ..., 0., 0., 0.],\n",
       "       [0., 0., 0., ..., 0., 0., 0.],\n",
       "       [0., 0., 0., ..., 0., 0., 0.],\n",
       "       ...,\n",
       "       [0., 0., 0., ..., 0., 0., 0.],\n",
       "       [0., 0., 0., ..., 0., 0., 0.],\n",
       "       [0., 0., 0., ..., 0., 0., 0.]])"
      ]
     },
     "execution_count": 38,
     "metadata": {},
     "output_type": "execute_result"
    }
   ],
   "source": [
    "final_tf_idf[300:390:2].toarray()"
   ]
  },
  {
   "cell_type": "code",
   "execution_count": 39,
   "metadata": {},
   "outputs": [],
   "source": [
    "from sklearn.preprocessing import StandardScaler\n",
    "\n",
    "std = StandardScaler(with_mean = False)\n",
    "std_data  = std.fit_transform(final_tf_idf)\n"
   ]
  },
  {
   "cell_type": "code",
   "execution_count": 40,
   "metadata": {},
   "outputs": [
    {
     "data": {
      "text/plain": [
       "(400,)"
      ]
     },
     "execution_count": 40,
     "metadata": {},
     "output_type": "execute_result"
    }
   ],
   "source": [
    "score_4000.shape"
   ]
  },
  {
   "cell_type": "code",
   "execution_count": 41,
   "metadata": {},
   "outputs": [],
   "source": [
    "std_data  = std_data.todense()"
   ]
  },
  {
   "cell_type": "code",
   "execution_count": 42,
   "metadata": {},
   "outputs": [
    {
     "ename": "NameError",
     "evalue": "name 'count_nonzero' is not defined",
     "output_type": "error",
     "traceback": [
      "\u001b[1;31m---------------------------------------------------------------------------\u001b[0m",
      "\u001b[1;31mNameError\u001b[0m                                 Traceback (most recent call last)",
      "\u001b[1;32m<ipython-input-42-b914c59f8d46>\u001b[0m in \u001b[0;36m<module>\u001b[1;34m\u001b[0m\n\u001b[1;32m----> 1\u001b[1;33m \u001b[0msparsity\u001b[0m \u001b[1;33m=\u001b[0m \u001b[1;36m1.0\u001b[0m \u001b[1;33m-\u001b[0m \u001b[0mcount_nonzero\u001b[0m\u001b[1;33m(\u001b[0m\u001b[0mstd_data\u001b[0m\u001b[1;33m)\u001b[0m \u001b[1;33m/\u001b[0m \u001b[0mstd_data\u001b[0m\u001b[1;33m.\u001b[0m\u001b[0msize\u001b[0m\u001b[1;33m\u001b[0m\u001b[1;33m\u001b[0m\u001b[0m\n\u001b[0m\u001b[0;32m      2\u001b[0m \u001b[0mprint\u001b[0m\u001b[1;33m(\u001b[0m\u001b[0msparsity\u001b[0m\u001b[1;33m)\u001b[0m\u001b[1;33m\u001b[0m\u001b[1;33m\u001b[0m\u001b[0m\n",
      "\u001b[1;31mNameError\u001b[0m: name 'count_nonzero' is not defined"
     ]
    }
   ],
   "source": [
    "sparsity = 1.0 - count_nonzero(std_data) / std_data.size\n",
    "print(sparsity)"
   ]
  },
  {
   "cell_type": "code",
   "execution_count": 43,
   "metadata": {},
   "outputs": [
    {
     "name": "stderr",
     "output_type": "stream",
     "text": [
      "C:\\Users\\insbattula\\AppData\\Local\\Continuum\\anaconda3\\lib\\site-packages\\seaborn\\axisgrid.py:230: UserWarning: The `size` paramter has been renamed to `height`; please update your code.\n",
      "  warnings.warn(msg, UserWarning)\n"
     ]
    },
    {
     "data": {
      "image/png": "[encoded data removed]",
      "text/plain": [
       "<Figure size 511.75x432 with 1 Axes>"
      ]
     },
     "metadata": {
      "needs_background": "light"
     },
     "output_type": "display_data"
    },
    {
     "data": {
      "text/plain": [
       "array([[-77.8401107788086, -60.56195068359375, 'positive'],\n",
       "       [-88.26558685302734, 61.18525314331055, 'positive'],\n",
       "       [-47.343040466308594, 78.85436248779297, 'positive'],\n",
       "       ...,\n",
       "       [-9.27470588684082, 74.93650817871094, 'negative'],\n",
       "       [156.61378479003906, -52.42097473144531, 'negative'],\n",
       "       [106.9117202758789, -15.8346586227417, 'negative']], dtype=object)"
      ]
     },
     "execution_count": 43,
     "metadata": {},
     "output_type": "execute_result"
    }
   ],
   "source": [
    "# tsne\n",
    "from sklearn.manifold import TSNE\n",
    "model = TSNE(n_components = 2, perplexity = 50, learning_rate=200.0, n_iter=1000)\n",
    "tsne_data = model.fit_transform(std_data)\n",
    "\n",
    "tsne_data = np.vstack((tsne_data.T, score_4000)).T\n",
    "tsne_df = pd.DataFrame(data = tsne_data, columns = (\"dim1\", \"dim2\", \"score\"))\n",
    "sns.FacetGrid(tsne_df, hue = \"score\", size = 6).map(plt.scatter, \"dim1\", \"dim2\").add_legend()\n",
    "plt.title(\"TSNE for TF-IDF\")\n",
    "plt.show()\n",
    "tsne_data"
   ]
  },
  {
   "cell_type": "code",
   "execution_count": 44,
   "metadata": {},
   "outputs": [
    {
     "data": {
      "text/plain": [
       "16192"
      ]
     },
     "execution_count": 44,
     "metadata": {},
     "output_type": "execute_result"
    }
   ],
   "source": [
    "\n",
    "features = if_idf_vect.get_feature_names()\n",
    "len(features)"
   ]
  },
  {
   "cell_type": "code",
   "execution_count": 45,
   "metadata": {},
   "outputs": [
    {
     "name": "stdout",
     "output_type": "stream",
     "text": [
      "[0. 0. 0. ... 0. 0. 0.]\n"
     ]
    }
   ],
   "source": [
    "# covnert a row in saprsematrix to a numpy array\n",
    "print(final_tf_idf[3,:].toarray()[0]) "
   ]
  },
  {
   "cell_type": "markdown",
   "metadata": {},
   "source": [
    "# Word2Vec"
   ]
  },
  {
   "cell_type": "code",
   "execution_count": 48,
   "metadata": {},
   "outputs": [],
   "source": [
    "# Using Google News Word2Vectors\n",
    "from gensim.models import Word2Vec\n",
    "from gensim.models import KeyedVectors\n",
    "import pickle\n",
    "# in this project we are using a pretrained model by google\n",
    "# its 3.3G file, once you load this into your memory \n",
    "# it occupies ~9Gb, so please do this step only if you have >12G of ram\n",
    "# we will provide a pickle file which contains a dict , \n",
    "# and it contains all our courpus words as keys and  model[word] as values\n",
    "# To use this code-snippet, download \"GoogleNews-vectors-negative300.bin\" \n",
    "# from https://drive.google.com/file/d/0B7XkCwpI5KDYNlNUTTlSS21pQmM/edit\n",
    "# it's 1.9GB in size.\n",
    "\n",
    "\n",
    "#model = KeyedVectors.load_word2vec_format('D:\\DataScienceMaterial\\GoogleNews-vectors-negative300.bin', binary=True)"
   ]
  },
  {
   "cell_type": "code",
   "execution_count": null,
   "metadata": {},
   "outputs": [],
   "source": [
    "#model.wv['computer']"
   ]
  },
  {
   "cell_type": "code",
   "execution_count": null,
   "metadata": {},
   "outputs": [],
   "source": [
    "#model.wv.similarity('woman', 'man')"
   ]
  },
  {
   "cell_type": "code",
   "execution_count": null,
   "metadata": {},
   "outputs": [],
   "source": [
    "#model.wv.most_similar('woman')\n",
    "#model.wv.most_similar('tasti')  # \"tasti\" is the stemmed word for tasty, tastful\n",
    "\n",
    "#model.wv.most_similar('tasty') \n",
    "#model.wv.similarity('tasty', 'tast')"
   ]
  },
  {
   "cell_type": "code",
   "execution_count": 64,
   "metadata": {},
   "outputs": [
    {
     "data": {
      "text/html": [
       "<div>\n",
       "<style scoped>\n",
       "    .dataframe tbody tr th:only-of-type {\n",
       "        vertical-align: middle;\n",
       "    }\n",
       "\n",
       "    .dataframe tbody tr th {\n",
       "        vertical-align: top;\n",
       "    }\n",
       "\n",
       "    .dataframe thead th {\n",
       "        text-align: right;\n",
       "    }\n",
       "</style>\n",
       "<table border=\"1\" class=\"dataframe\">\n",
       "  <thead>\n",
       "    <tr style=\"text-align: right;\">\n",
       "      <th></th>\n",
       "      <th>Id</th>\n",
       "      <th>ProductId</th>\n",
       "      <th>UserId</th>\n",
       "      <th>ProfileName</th>\n",
       "      <th>HelpfulnessNumerator</th>\n",
       "      <th>HelpfulnessDenominator</th>\n",
       "      <th>Score</th>\n",
       "      <th>Time</th>\n",
       "      <th>Summary</th>\n",
       "      <th>Text</th>\n",
       "      <th>CleanedText</th>\n",
       "    </tr>\n",
       "  </thead>\n",
       "  <tbody>\n",
       "    <tr>\n",
       "      <td>178029</td>\n",
       "      <td>193048</td>\n",
       "      <td>B00023323W</td>\n",
       "      <td>A26X56TW77KQR6</td>\n",
       "      <td>Scott Law</td>\n",
       "      <td>10</td>\n",
       "      <td>10</td>\n",
       "      <td>positive</td>\n",
       "      <td>1138147200</td>\n",
       "      <td>Don't be fooled - this sauce rules!</td>\n",
       "      <td>I just got back from a trip to St. Maarten and...</td>\n",
       "      <td>b'got back trip maarten tabl restaur bottl sau...</td>\n",
       "    </tr>\n",
       "    <tr>\n",
       "      <td>513189</td>\n",
       "      <td>554867</td>\n",
       "      <td>B000TYF4DA</td>\n",
       "      <td>AONPBVP3HC4TU</td>\n",
       "      <td>Rocko</td>\n",
       "      <td>2</td>\n",
       "      <td>2</td>\n",
       "      <td>positive</td>\n",
       "      <td>1306800000</td>\n",
       "      <td>Kellogg's variety pack</td>\n",
       "      <td>Yes you can buy something similar at the groce...</td>\n",
       "      <td>b'yes buy someth similar groceri store nice bu...</td>\n",
       "    </tr>\n",
       "    <tr>\n",
       "      <td>335297</td>\n",
       "      <td>362798</td>\n",
       "      <td>B000LQNK6E</td>\n",
       "      <td>A3A6RQ2P4X9VVN</td>\n",
       "      <td>Rosendo</td>\n",
       "      <td>0</td>\n",
       "      <td>0</td>\n",
       "      <td>positive</td>\n",
       "      <td>1344816000</td>\n",
       "      <td>Best Ramen Ever!!!</td>\n",
       "      <td>If you're looking for outstanding taste, consi...</td>\n",
       "      <td>b'your look outstand tast consist conveni pack...</td>\n",
       "    </tr>\n",
       "    <tr>\n",
       "      <td>4697</td>\n",
       "      <td>5099</td>\n",
       "      <td>B004157PZI</td>\n",
       "      <td>A2IUXT71YHHULC</td>\n",
       "      <td>Junaid A. Bholat \"J Bholat\"</td>\n",
       "      <td>3</td>\n",
       "      <td>3</td>\n",
       "      <td>positive</td>\n",
       "      <td>1329350400</td>\n",
       "      <td>best and truthfull company</td>\n",
       "      <td>this is the best halal beef jerky i have ever ...</td>\n",
       "      <td>b'best halal beef jerki ever tast also compani...</td>\n",
       "    </tr>\n",
       "    <tr>\n",
       "      <td>35098</td>\n",
       "      <td>38171</td>\n",
       "      <td>B0027UQYZQ</td>\n",
       "      <td>A14XRI4U6BRG8T</td>\n",
       "      <td>Dw</td>\n",
       "      <td>1</td>\n",
       "      <td>1</td>\n",
       "      <td>positive</td>\n",
       "      <td>1310774400</td>\n",
       "      <td>Worth the expensive price</td>\n",
       "      <td>I bought this product because I needed freezer...</td>\n",
       "      <td>b'bought product need freezer tray tri use rem...</td>\n",
       "    </tr>\n",
       "  </tbody>\n",
       "</table>\n",
       "</div>"
      ],
      "text/plain": [
       "            Id   ProductId          UserId                  ProfileName  \\\n",
       "178029  193048  B00023323W  A26X56TW77KQR6                    Scott Law   \n",
       "513189  554867  B000TYF4DA   AONPBVP3HC4TU                        Rocko   \n",
       "335297  362798  B000LQNK6E  A3A6RQ2P4X9VVN                      Rosendo   \n",
       "4697      5099  B004157PZI  A2IUXT71YHHULC  Junaid A. Bholat \"J Bholat\"   \n",
       "35098    38171  B0027UQYZQ  A14XRI4U6BRG8T                           Dw   \n",
       "\n",
       "        HelpfulnessNumerator  HelpfulnessDenominator     Score        Time  \\\n",
       "178029                    10                      10  positive  1138147200   \n",
       "513189                     2                       2  positive  1306800000   \n",
       "335297                     0                       0  positive  1344816000   \n",
       "4697                       3                       3  positive  1329350400   \n",
       "35098                      1                       1  positive  1310774400   \n",
       "\n",
       "                                    Summary  \\\n",
       "178029  Don't be fooled - this sauce rules!   \n",
       "513189               Kellogg's variety pack   \n",
       "335297                   Best Ramen Ever!!!   \n",
       "4697             best and truthfull company   \n",
       "35098             Worth the expensive price   \n",
       "\n",
       "                                                     Text  \\\n",
       "178029  I just got back from a trip to St. Maarten and...   \n",
       "513189  Yes you can buy something similar at the groce...   \n",
       "335297  If you're looking for outstanding taste, consi...   \n",
       "4697    this is the best halal beef jerky i have ever ...   \n",
       "35098   I bought this product because I needed freezer...   \n",
       "\n",
       "                                              CleanedText  \n",
       "178029  b'got back trip maarten tabl restaur bottl sau...  \n",
       "513189  b'yes buy someth similar groceri store nice bu...  \n",
       "335297  b'your look outstand tast consist conveni pack...  \n",
       "4697    b'best halal beef jerki ever tast also compani...  \n",
       "35098   b'bought product need freezer tray tri use rem...  "
      ]
     },
     "execution_count": 64,
     "metadata": {},
     "output_type": "execute_result"
    }
   ],
   "source": [
    "final_4000.head()"
   ]
  },
  {
   "cell_type": "code",
   "execution_count": 56,
   "metadata": {},
   "outputs": [],
   "source": [
    "from gensim import models\n",
    "from gensim.models import Word2Vec\n",
    "from gensim.models import KeyedVectors\n",
    "import gensim\n",
    "import pickle\n",
    "\n",
    "# Train your own Word2Vec model using your own text corpus\n",
    "# created \n",
    "import gensim\n",
    "list_of_sent = []\n",
    "for sent in final_4000['Text'].values:\n",
    "    filtered_sentence = []\n",
    "    sent=cleanhtml(sent)\n",
    "    for w in sent.split():\n",
    "        for cleaned_words in cleanpunc(w).split():\n",
    "            if(cleaned_words.isalpha()):    \n",
    "                filtered_sentence.append(cleaned_words.lower())\n",
    "            else:\n",
    "                continue \n",
    "    list_of_sent.append(filtered_sentence)"
   ]
  },
  {
   "cell_type": "code",
   "execution_count": 58,
   "metadata": {},
   "outputs": [
    {
     "name": "stdout",
     "output_type": "stream",
     "text": [
      "Yes you can buy something similar at the grocery store. It was nice to buy through Amazon and have it shipped out of state. It arrived at my destination in Arizona undamaged and everyone loved that there was something in the box for all. None of the cereal was stale, which was a great concern of mine.\n",
      "*****************************************************************\n",
      "['yes', 'you', 'can', 'buy', 'something', 'similar', 'at', 'the', 'grocery', 'store', 'it', 'was', 'nice', 'to', 'buy', 'through', 'amazon', 'and', 'have', 'it', 'shipped', 'out', 'of', 'state', 'it', 'arrived', 'at', 'my', 'destination', 'in', 'arizona', 'undamaged', 'and', 'everyone', 'loved', 'that', 'there', 'was', 'something', 'in', 'the', 'box', 'for', 'all', 'none', 'of', 'the', 'cereal', 'was', 'stale', 'which', 'was', 'a', 'great', 'concern', 'of', 'mine']\n"
     ]
    }
   ],
   "source": [
    "print(final_4000['Text'].values[1])\n",
    "print(\"*****************************************************************\")\n",
    "print(list_of_sent[1])"
   ]
  },
  {
   "cell_type": "code",
   "execution_count": 59,
   "metadata": {},
   "outputs": [],
   "source": [
    "w2v_model=gensim.models.Word2Vec(list_of_sent,min_count=5,size=50, workers=4)"
   ]
  },
  {
   "cell_type": "code",
   "execution_count": 60,
   "metadata": {},
   "outputs": [
    {
     "name": "stderr",
     "output_type": "stream",
     "text": [
      "C:\\Users\\insbattula\\AppData\\Local\\Continuum\\anaconda3\\lib\\site-packages\\ipykernel_launcher.py:1: DeprecationWarning: Call to deprecated `__getitem__` (Method will be removed in 4.0.0, use self.wv.__getitem__() instead).\n",
      "  \"\"\"Entry point for launching an IPython kernel.\n"
     ]
    }
   ],
   "source": [
    "w2v = w2v_model[w2v_model.wv.vocab]"
   ]
  },
  {
   "cell_type": "code",
   "execution_count": 61,
   "metadata": {},
   "outputs": [
    {
     "data": {
      "text/plain": [
       "(805, 50)"
      ]
     },
     "execution_count": 61,
     "metadata": {},
     "output_type": "execute_result"
    }
   ],
   "source": [
    "w2v.shape"
   ]
  },
  {
   "cell_type": "code",
   "execution_count": 62,
   "metadata": {},
   "outputs": [
    {
     "name": "stdout",
     "output_type": "stream",
     "text": [
      "805\n"
     ]
    }
   ],
   "source": [
    "words = list(w2v_model.wv.vocab)\n",
    "print(len(words))"
   ]
  },
  {
   "cell_type": "code",
   "execution_count": 63,
   "metadata": {},
   "outputs": [
    {
     "data": {
      "text/plain": [
       "[('tried', 0.999664306640625),\n",
       " ('on', 0.9996118545532227),\n",
       " ('and', 0.9995754361152649),\n",
       " ('these', 0.999566376209259),\n",
       " ('also', 0.9995635747909546),\n",
       " ('would', 0.9995589256286621),\n",
       " ('was', 0.9995558261871338),\n",
       " ('only', 0.9995555877685547),\n",
       " ('product', 0.999548077583313),\n",
       " ('but', 0.9995454549789429)]"
      ]
     },
     "execution_count": 63,
     "metadata": {},
     "output_type": "execute_result"
    }
   ],
   "source": [
    "w2v_model.wv.most_similar('tasty') # since i have coosen only 400 words, its giving ir-relavent words"
   ]
  },
  {
   "cell_type": "code",
   "execution_count": 65,
   "metadata": {},
   "outputs": [
    {
     "data": {
      "text/plain": [
       "[('an', 0.9998881816864014),\n",
       " ('was', 0.9998738765716553),\n",
       " ('i', 0.9998720288276672),\n",
       " ('but', 0.9998701810836792),\n",
       " ('after', 0.9998656511306763),\n",
       " ('so', 0.9998650550842285),\n",
       " ('it', 0.9998650550842285),\n",
       " ('or', 0.999861478805542),\n",
       " ('very', 0.9998571872711182),\n",
       " ('the', 0.9998551607131958)]"
      ]
     },
     "execution_count": 65,
     "metadata": {},
     "output_type": "execute_result"
    }
   ],
   "source": [
    "w2v_model.wv.most_similar('like')"
   ]
  },
  {
   "cell_type": "code",
   "execution_count": 73,
   "metadata": {},
   "outputs": [
    {
     "name": "stdout",
     "output_type": "stream",
     "text": [
      "like\n"
     ]
    }
   ],
   "source": [
    "count_vect_feat = count_vect.get_feature_names() # list of words in the BoW indexing & value\n",
    "count_vect_feat.index('like')\n",
    "print(count_vect_feat[7813])"
   ]
  },
  {
   "cell_type": "markdown",
   "metadata": {},
   "source": [
    "# Avg W2V, TFIDF-W2V"
   ]
  },
  {
   "cell_type": "code",
   "execution_count": 74,
   "metadata": {},
   "outputs": [
    {
     "name": "stdout",
     "output_type": "stream",
     "text": [
      "400\n",
      "50\n"
     ]
    }
   ],
   "source": [
    "# average Word2Vec\n",
    "# compute average word2vec for each review.\n",
    "sent_vectors = []; # the avg-w2v for each sentence/review is stored in this list\n",
    "for sent in list_of_sent: # for each review/sentence\n",
    "    sent_vec = np.zeros(50) # as word vectors are of zero length\n",
    "    cnt_words =0; # num of words with a valid vector in the sentence/review\n",
    "    for word in sent: # for each word in a review/sentence\n",
    "        try:\n",
    "            vec = w2v_model.wv[word]\n",
    "            sent_vec += vec\n",
    "            cnt_words += 1\n",
    "        except:\n",
    "            pass\n",
    "    sent_vec /= cnt_words\n",
    "    sent_vectors.append(sent_vec)\n",
    "print(len(sent_vectors))\n",
    "print(len(sent_vectors[0]))"
   ]
  },
  {
   "cell_type": "code",
   "execution_count": 75,
   "metadata": {},
   "outputs": [
    {
     "name": "stderr",
     "output_type": "stream",
     "text": [
      "C:\\Users\\insbattula\\AppData\\Local\\Continuum\\anaconda3\\lib\\site-packages\\seaborn\\axisgrid.py:230: UserWarning: The `size` paramter has been renamed to `height`; please update your code.\n",
      "  warnings.warn(msg, UserWarning)\n"
     ]
    },
    {
     "data": {
      "image/png": "[encoded data removed]",
      "text/plain": [
       "<Figure size 511.75x432 with 1 Axes>"
      ]
     },
     "metadata": {
      "needs_background": "light"
     },
     "output_type": "display_data"
    }
   ],
   "source": [
    "#tsne\n",
    "from sklearn.manifold import TSNE\n",
    "model = TSNE(n_components=2, random_state=0, perplexity = 20, n_iter = 5000)\n",
    "\n",
    "tsne_data = model.fit_transform(sent_vectors)\n",
    "\n",
    "tsne_data = np.vstack((tsne_data.T, score_4000)).T\n",
    "tsne_df = pd.DataFrame(data=tsne_data, columns=(\"dim1\", \"dim2\", \"score\"))\n",
    "\n",
    "# Ploting the result of tsne\n",
    "sns.FacetGrid(tsne_df, hue=\"score\", size=6).map(plt.scatter, 'dim1', 'dim2').add_legend()\n",
    "plt.title(\"TSNE for Average Word2vec\")\n",
    "plt.show()"
   ]
  },
  {
   "cell_type": "markdown",
   "metadata": {},
   "source": [
    "Observations:- Here, all +ve and -ve reviews are not well seperated this also looks like bow and tfidf vector representations."
   ]
  },
  {
   "cell_type": "code",
   "execution_count": 76,
   "metadata": {},
   "outputs": [
    {
     "data": {
      "text/plain": [
       "{'divide': 'warn', 'over': 'warn', 'under': 'ignore', 'invalid': 'warn'}"
      ]
     },
     "execution_count": 76,
     "metadata": {},
     "output_type": "execute_result"
    }
   ],
   "source": [
    "# To avoid warnings \n",
    "# http://docs.scipy.org/doc/numpy/reference/generated/numpy.seterr.html\n",
    "np.seterr(divide='ignore', invalid='ignore')"
   ]
  },
  {
   "cell_type": "code",
   "execution_count": 78,
   "metadata": {},
   "outputs": [],
   "source": [
    "# TF-IDF weighted Word2Vec\n",
    "tfidf_feat = if_idf_vect.get_feature_names() # tfidf words/col-names\n",
    "# final_tf_idf is the sparse matrix with row= sentence, col=word and cell_val = tfidf\n",
    "\n",
    "tfidf_sent_vectors = []; # the tfidf-w2v for each sentence/review is stored in this list\n",
    "row=0;\n",
    "for sent in list_of_sent: # for each review/sentence\n",
    "    sent_vec = np.zeros(50) # as word vectors are of zero length\n",
    "    weight_sum =0; # num of words with a valid vector in the sentence/review\n",
    "    for word in sent: # for each word in a review/sentence\n",
    "        try:\n",
    "            vec = w2v_model.wv[word]\n",
    "            # obtain the tf_idfidf of a word in a sentence/review\n",
    "            tf_idf = final_tf_idf[row, tfidf_feat.index(word)]\n",
    "            sent_vec += (vec * tf_idf)\n",
    "            weight_sum += tf_idf\n",
    "        except:\n",
    "            pass\n",
    "    sent_vec /= weight_sum\n",
    "    tfidf_sent_vectors.append(sent_vec)\n",
    "    row += 1"
   ]
  },
  {
   "cell_type": "code",
   "execution_count": 79,
   "metadata": {},
   "outputs": [
    {
     "data": {
      "text/plain": [
       "400"
      ]
     },
     "execution_count": 79,
     "metadata": {},
     "output_type": "execute_result"
    }
   ],
   "source": [
    "# To know length of tfidf vector\n",
    "len(tfidf_sent_vectors)"
   ]
  },
  {
   "cell_type": "code",
   "execution_count": 80,
   "metadata": {},
   "outputs": [
    {
     "data": {
      "text/plain": [
       "array([[False, False, False, ..., False, False, False],\n",
       "       [False, False, False, ..., False, False, False],\n",
       "       [False, False, False, ..., False, False, False],\n",
       "       ...,\n",
       "       [False, False, False, ..., False, False, False],\n",
       "       [False, False, False, ..., False, False, False],\n",
       "       [False, False, False, ..., False, False, False]])"
      ]
     },
     "execution_count": 80,
     "metadata": {},
     "output_type": "execute_result"
    }
   ],
   "source": [
    "np.isnan(tfidf_sent_vectors)"
   ]
  },
  {
   "cell_type": "code",
   "execution_count": 81,
   "metadata": {},
   "outputs": [],
   "source": [
    "# To replace nan with 0 and inf with large finite number\n",
    "\n",
    "tfidf_sent_vectors = np.nan_to_num(tfidf_sent_vectors)"
   ]
  },
  {
   "cell_type": "code",
   "execution_count": 82,
   "metadata": {},
   "outputs": [
    {
     "name": "stderr",
     "output_type": "stream",
     "text": [
      "C:\\Users\\insbattula\\AppData\\Local\\Continuum\\anaconda3\\lib\\site-packages\\seaborn\\axisgrid.py:230: UserWarning: The `size` paramter has been renamed to `height`; please update your code.\n",
      "  warnings.warn(msg, UserWarning)\n"
     ]
    },
    {
     "data": {
      "image/png": "[encoded data removed]",
      "text/plain": [
       "<Figure size 511.75x432 with 1 Axes>"
      ]
     },
     "metadata": {
      "needs_background": "light"
     },
     "output_type": "display_data"
    }
   ],
   "source": [
    "#tsne\n",
    "from sklearn.manifold import TSNE\n",
    "model = TSNE(n_components=2, random_state=0, perplexity = 50, n_iter = 5000)\n",
    "\n",
    "tsne_data = model.fit_transform(tfidf_sent_vectors)\n",
    "\n",
    "tsne_data = np.vstack((tsne_data.T, score_4000)).T\n",
    "tsne_df = pd.DataFrame(data=tsne_data, columns=(\"dim1\", \"dim2\", \"score\"))\n",
    "\n",
    "# Ploting the result of tsne\n",
    "sns.FacetGrid(tsne_df, hue=\"score\", size=6).map(plt.scatter, 'dim1', 'dim2').add_legend()\n",
    "plt.title(\"TSNE for TF-IDF Word2vec\")\n",
    "plt.show()"
   ]
  },
  {
   "cell_type": "markdown",
   "metadata": {},
   "source": [
    "Observation- This plot also looks like the bow, tfidf and avg word2vec.Both +ve and -ve reviwes are not well seperated they overlapped each other.\n",
    "\n",
    "Conclusions:-\n",
    "\n",
    "AS none of TSNE representation gives a well separated both +ve and -ve reviews.\n",
    "We can not simply draw a plane to separate -ve and +ve reviews. Although, By looking at only visual representation of data we can not take decision whether to draw a plane or not.\n",
    "We will have some alternative method by that we will look at into this problem like how we can separate -ve and +ve reviews."
   ]
  }
 ],
 "metadata": {
  "kernelspec": {
   "display_name": "Python 3",
   "language": "python",
   "name": "python3"
  },
  "language_info": {
   "codemirror_mode": {
    "name": "ipython",
    "version": 3
   },
   "file_extension": ".py",
   "mimetype": "text/x-python",
   "name": "python",
   "nbconvert_exporter": "python",
   "pygments_lexer": "ipython3",
   "version": "3.7.4"
  }
 },
 "nbformat": 4,
 "nbformat_minor": 2
}
